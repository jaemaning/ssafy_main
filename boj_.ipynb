{
 "cells": [
  {
   "cell_type": "code",
   "execution_count": 1,
   "metadata": {},
   "outputs": [
    {
     "data": {
      "text/plain": [
       "[['*', '*', '*'], ['*', '*', '*'], ['*', '*', '*']]"
      ]
     },
     "execution_count": 1,
     "metadata": {},
     "output_type": "execute_result"
    }
   ],
   "source": [
    "[[\"*\"] * 3] * 3"
   ]
  },
  {
   "cell_type": "code",
   "execution_count": 6,
   "metadata": {},
   "outputs": [
    {
     "name": "stdout",
     "output_type": "stream",
     "text": [
      "*********\n",
      "* ** ** *\n",
      "*********\n",
      "***   ***\n",
      "* *   * *\n",
      "***   ***\n",
      "*********\n",
      "* ** ** *\n",
      "*********\n"
     ]
    }
   ],
   "source": [
    "def make_star(n):\n",
    "    result = []\n",
    "\n",
    "    if n == 1:\n",
    "        return [\"*\"]\n",
    "\n",
    "    n //= 3\n",
    "    S = make_star(n)\n",
    "\n",
    "    for i in S:\n",
    "        result.append(i*3)\n",
    "\n",
    "    for i in S:\n",
    "        result.append(i+\" \"*len(S)+i)\n",
    "\n",
    "    for i in S:\n",
    "        result.append(i*3)\n",
    "\n",
    "    return result\n",
    "\n",
    "\n",
    "stars = make_star(int(input()))\n",
    "for i in stars:\n",
    "    print(i)\n"
   ]
  },
  {
   "cell_type": "code",
   "execution_count": 1,
   "metadata": {},
   "outputs": [
    {
     "data": {
      "text/plain": [
       "1"
      ]
     },
     "execution_count": 1,
     "metadata": {},
     "output_type": "execute_result"
    }
   ],
   "source": [
    "1"
   ]
  },
  {
   "cell_type": "code",
   "execution_count": 19,
   "metadata": {},
   "outputs": [
    {
     "name": "stdout",
     "output_type": "stream",
     "text": [
      "7\n",
      "1 3\n",
      "1 2\n",
      "3 2\n",
      "1 3\n",
      "2 1\n",
      "2 3\n",
      "1 3\n"
     ]
    }
   ],
   "source": [
    "# 하노이의 탑\n",
    "\n",
    "def move(n, start, end):\n",
    "    result.append([start, end])\n",
    "\n",
    "\n",
    "def hanoi(n, start, end, sub):\n",
    "    if n == 1:\n",
    "        move(1, start, end)\n",
    "        return\n",
    "    else:\n",
    "        hanoi(n-1, start, sub, end)\n",
    "        move(n, start, end)\n",
    "        hanoi(n-1, sub, end, start)\n",
    "\n",
    "\n",
    "result = []\n",
    "n = int(input())\n",
    "hanoi(n, 1, 3, 2)\n",
    "print(len(result))\n",
    "for x, y in result:\n",
    "    print(x, y)\n"
   ]
  },
  {
   "cell_type": "code",
   "execution_count": 14,
   "metadata": {},
   "outputs": [
    {
     "name": "stdout",
     "output_type": "stream",
     "text": [
      "1 0 0 1 1 0 0 1 "
     ]
    }
   ],
   "source": [
    "# 10815 숫자카드 try 1\n",
    "\n",
    "n = int(input())\n",
    "nlist = sorted(list(map(int,input().split())))\n",
    "m = int(input())\n",
    "mlist = list(map(int,input().split()))\n",
    "\n",
    "mid = n//2\n",
    "\n",
    "for card in mlist :\n",
    "\n",
    "    mid = n//2\n",
    "    target_num = nlist[mid]\n",
    "\n",
    "    if target_num > card :\n",
    "        while target_num > card and mid != 0:\n",
    "            mid //= 2\n",
    "            target_num = nlist[mid]\n",
    "        \n",
    "        if card in nlist[mid:mid*2+1]:\n",
    "            print(1,end=\" \")\n",
    "\n",
    "        else :\n",
    "            print(0,end=\" \")\n",
    "    \n",
    "    else :\n",
    "        while target_num <= card and mid*2 < n :\n",
    "            mid *= 2\n",
    "            target_num = nlist[mid]\n",
    "\n",
    "        if card in nlist[mid//2:mid+1]:\n",
    "            print(1,end=\" \")\n",
    "\n",
    "        else :\n",
    "            print(0,end=\" \")\n"
   ]
  },
  {
   "cell_type": "code",
   "execution_count": 6,
   "metadata": {},
   "outputs": [
    {
     "name": "stdout",
     "output_type": "stream",
     "text": [
      "1 "
     ]
    },
    {
     "ename": "KeyboardInterrupt",
     "evalue": "",
     "output_type": "error",
     "traceback": [
      "\u001b[1;31m---------------------------------------------------------------------------\u001b[0m",
      "\u001b[1;31mKeyboardInterrupt\u001b[0m                         Traceback (most recent call last)",
      "Cell \u001b[1;32mIn[6], line 27\u001b[0m\n\u001b[0;32m     24\u001b[0m     \u001b[39mreturn\u001b[39;00m \u001b[39m0\u001b[39m\n\u001b[0;32m     26\u001b[0m \u001b[39mfor\u001b[39;00m i \u001b[39min\u001b[39;00m mlist:\n\u001b[1;32m---> 27\u001b[0m     \u001b[39mprint\u001b[39m(cardcheck(i,\u001b[39m0\u001b[39;49m,\u001b[39m5\u001b[39;49m),end\u001b[39m=\u001b[39m\u001b[39m\"\u001b[39m\u001b[39m \u001b[39m\u001b[39m\"\u001b[39m)\n",
      "Cell \u001b[1;32mIn[6], line 13\u001b[0m, in \u001b[0;36mcardcheck\u001b[1;34m(target_num, start, end)\u001b[0m\n\u001b[0;32m      9\u001b[0m mid \u001b[39m=\u001b[39m (start \u001b[39m+\u001b[39m end) \u001b[39m/\u001b[39m\u001b[39m/\u001b[39m \u001b[39m2\u001b[39m\n\u001b[0;32m     11\u001b[0m \u001b[39mwhile\u001b[39;00m mid \u001b[39m<\u001b[39m\u001b[39m=\u001b[39m end \u001b[39mand\u001b[39;00m mid \u001b[39m>\u001b[39m\u001b[39m=\u001b[39m start \u001b[39mand\u001b[39;00m start \u001b[39m<\u001b[39m\u001b[39m=\u001b[39m end :\n\u001b[1;32m---> 13\u001b[0m     \u001b[39mif\u001b[39;00m nlist[mid] \u001b[39m==\u001b[39m target_num :\n\u001b[0;32m     14\u001b[0m         \u001b[39mreturn\u001b[39;00m \u001b[39m1\u001b[39m\n\u001b[0;32m     16\u001b[0m     \u001b[39mif\u001b[39;00m nlist[mid] \u001b[39m<\u001b[39m target_num :\n",
      "\u001b[1;31mKeyboardInterrupt\u001b[0m: "
     ]
    }
   ],
   "source": [
    "# 10815 숫자카드 try 2\n",
    "\n",
    "n = int(input())\n",
    "nlist = sorted(list(map(int,input().split())))\n",
    "m = int(input())\n",
    "mlist = list(map(int,input().split()))\n",
    "\n",
    "def cardcheck(target_num,start,end):\n",
    "    mid = (start + end) // 2\n",
    "\n",
    "    while mid <= end and mid >= start and start <= end :\n",
    "\n",
    "        if nlist[mid] == target_num :\n",
    "            return 1\n",
    "\n",
    "        if nlist[mid] < target_num :\n",
    "            start = mid\n",
    "\n",
    "        if nlist[mid] > target_num :\n",
    "            end = mid\n",
    "\n",
    "        mid = (start + end) // 2\n",
    "\n",
    "    return 0\n",
    "\n",
    "for i in mlist:\n",
    "    print(cardcheck(i,0,5),end=\" \")"
   ]
  }
 ],
 "metadata": {
  "kernelspec": {
   "display_name": "Python 3",
   "language": "python",
   "name": "python3"
  },
  "language_info": {
   "codemirror_mode": {
    "name": "ipython",
    "version": 3
   },
   "file_extension": ".py",
   "mimetype": "text/x-python",
   "name": "python",
   "nbconvert_exporter": "python",
   "pygments_lexer": "ipython3",
   "version": "3.9.12 (tags/v3.9.12:b28265d, Mar 23 2022, 23:52:46) [MSC v.1929 64 bit (AMD64)]"
  },
  "orig_nbformat": 4,
  "vscode": {
   "interpreter": {
    "hash": "c4b9ebf4ca459396e2ad1150752490c26670c1a037c08cad955a4425787bec2e"
   }
  }
 },
 "nbformat": 4,
 "nbformat_minor": 2
}
