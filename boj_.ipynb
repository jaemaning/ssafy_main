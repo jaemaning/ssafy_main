{
 "cells": [
  {
   "cell_type": "code",
   "execution_count": 1,
   "metadata": {},
   "outputs": [
    {
     "data": {
      "text/plain": [
       "[['*', '*', '*'], ['*', '*', '*'], ['*', '*', '*']]"
      ]
     },
     "execution_count": 1,
     "metadata": {},
     "output_type": "execute_result"
    }
   ],
   "source": [
    "[[\"*\"] * 3] * 3"
   ]
  },
  {
   "cell_type": "code",
   "execution_count": 6,
   "metadata": {},
   "outputs": [
    {
     "name": "stdout",
     "output_type": "stream",
     "text": [
      "*********\n",
      "* ** ** *\n",
      "*********\n",
      "***   ***\n",
      "* *   * *\n",
      "***   ***\n",
      "*********\n",
      "* ** ** *\n",
      "*********\n"
     ]
    }
   ],
   "source": [
    "def make_star(n):\n",
    "    result = []\n",
    "\n",
    "    if n == 1:\n",
    "        return [\"*\"]\n",
    "\n",
    "    n //= 3\n",
    "    S = make_star(n)\n",
    "\n",
    "    for i in S:\n",
    "        result.append(i*3)\n",
    "\n",
    "    for i in S:\n",
    "        result.append(i+\" \"*len(S)+i)\n",
    "\n",
    "    for i in S:\n",
    "        result.append(i*3)\n",
    "\n",
    "    return result\n",
    "\n",
    "\n",
    "stars = make_star(int(input()))\n",
    "for i in stars:\n",
    "    print(i)\n"
   ]
  },
  {
   "cell_type": "code",
   "execution_count": 1,
   "metadata": {},
   "outputs": [
    {
     "data": {
      "text/plain": [
       "1"
      ]
     },
     "execution_count": 1,
     "metadata": {},
     "output_type": "execute_result"
    }
   ],
   "source": [
    "1"
   ]
  },
  {
   "cell_type": "code",
   "execution_count": 19,
   "metadata": {},
   "outputs": [
    {
     "name": "stdout",
     "output_type": "stream",
     "text": [
      "7\n",
      "1 3\n",
      "1 2\n",
      "3 2\n",
      "1 3\n",
      "2 1\n",
      "2 3\n",
      "1 3\n"
     ]
    }
   ],
   "source": [
    "# 하노이의 탑\n",
    "\n",
    "def move(n, start, end):\n",
    "    result.append([start, end])\n",
    "\n",
    "\n",
    "def hanoi(n, start, end, sub):\n",
    "    if n == 1:\n",
    "        move(1, start, end)\n",
    "        return\n",
    "    else:\n",
    "        hanoi(n-1, start, sub, end)\n",
    "        move(n, start, end)\n",
    "        hanoi(n-1, sub, end, start)\n",
    "\n",
    "\n",
    "result = []\n",
    "n = int(input())\n",
    "hanoi(n, 1, 3, 2)\n",
    "print(len(result))\n",
    "for x, y in result:\n",
    "    print(x, y)\n"
   ]
  },
  {
   "cell_type": "code",
   "execution_count": 14,
   "metadata": {},
   "outputs": [
    {
     "name": "stdout",
     "output_type": "stream",
     "text": [
      "1 0 0 1 1 0 0 1 "
     ]
    }
   ],
   "source": [
    "# 10815 숫자카드 try 1\n",
    "\n",
    "n = int(input())\n",
    "nlist = sorted(list(map(int,input().split())))\n",
    "m = int(input())\n",
    "mlist = list(map(int,input().split()))\n",
    "\n",
    "mid = n//2\n",
    "\n",
    "for card in mlist :\n",
    "\n",
    "    mid = n//2\n",
    "    target_num = nlist[mid]\n",
    "\n",
    "    if target_num > card :\n",
    "        while target_num > card and mid != 0:\n",
    "            mid //= 2\n",
    "            target_num = nlist[mid]\n",
    "        \n",
    "        if card in nlist[mid:mid*2+1]:\n",
    "            print(1,end=\" \")\n",
    "\n",
    "        else :\n",
    "            print(0,end=\" \")\n",
    "    \n",
    "    else :\n",
    "        while target_num <= card and mid*2 < n :\n",
    "            mid *= 2\n",
    "            target_num = nlist[mid]\n",
    "\n",
    "        if card in nlist[mid//2:mid+1]:\n",
    "            print(1,end=\" \")\n",
    "\n",
    "        else :\n",
    "            print(0,end=\" \")\n"
   ]
  },
  {
   "cell_type": "code",
   "execution_count": null,
   "metadata": {},
   "outputs": [],
   "source": [
    "# 10815 숫자카드 try 2\n",
    "\n",
    "n = int(input())\n",
    "nlist = sorted(list(map(int,input().split())))\n",
    "m = int(input())\n",
    "mlist = list(map(int,input().split()))\n",
    "\n",
    "def cardcheck(target_num,start,end):\n",
    "    mid = (start + end) // 2\n",
    "\n",
    "    while mid <= end and mid >= start and start <= end :\n",
    "\n",
    "        if nlist[mid] == target_num :\n",
    "            return 1\n",
    "\n",
    "        if nlist[mid] < target_num :\n",
    "            start = mid\n",
    "\n",
    "        if nlist[mid] > target_num :\n",
    "            end = mid\n",
    "\n",
    "        mid = (start + end) // 2\n",
    "\n",
    "    return 0\n",
    "\n",
    "for i in mlist:\n",
    "    print(cardcheck(i,0,5),end=\" \")"
   ]
  },
  {
   "cell_type": "code",
   "execution_count": 11,
   "metadata": {},
   "outputs": [
    {
     "name": "stdout",
     "output_type": "stream",
     "text": [
      "300/1\n",
      "300/1\n",
      "1/1\n"
     ]
    }
   ],
   "source": [
    "# 3036 링\n",
    "\n",
    "import math\n",
    "\n",
    "n = int(input())\n",
    "\n",
    "nlist = list(map(int, input().split()))\n",
    "\n",
    "for idx in range(len(nlist)-1):\n",
    "\n",
    "    gcd_num = math.gcd(nlist[0], nlist[idx+1])  ## 두수의 최대공약수 구함\n",
    "\n",
    "    if gcd_num != 1:  ## 최대공약수가 1이아니면 최대공약수로 각 분자 분모값을 나눠주고 프린트\n",
    "        first_num = nlist[0]//gcd_num  \n",
    "        second_num = nlist[idx+1]//gcd_num\n",
    "        \n",
    "    else:  ## 최대공약수가 1이면 각 분자 분모값 그대로 프린트\n",
    "        first_num = nlist[0]\n",
    "        second_num = nlist[idx+1]\n",
    "\n",
    "    print(f\"{first_num}/{second_num}\")\n"
   ]
  },
  {
   "cell_type": "code",
   "execution_count": null,
   "metadata": {},
   "outputs": [],
   "source": [
    "# n 까지 파스칼 삼각형 만들기\n",
    "\n",
    "cache = [[0 for _ in range(1001)] for _ in range(1001)]\n",
    "\n",
    "for x in range(1001):\n",
    "    for y in range(1001):\n",
    "        if not cache[x][y]:\n",
    "            if y == 0 or y == x :\n",
    "                cache[x][y] = 1\n",
    "            else :\n",
    "                cache[x][y] = cache[x-1][y-1] + cache[x-1][y]\n",
    "\n",
    "\n",
    "\n",
    "n, k = map(int,input().split())\n",
    "\n",
    "print(cache[n][k]%10007)"
   ]
  },
  {
   "cell_type": "code",
   "execution_count": 2,
   "metadata": {},
   "outputs": [],
   "source": [
    "import sys\n",
    "input = sys.stdin.readline\n",
    "\n",
    "tc = int(input().strip())\n",
    "\n",
    "for _ in range(tc):\n",
    "\n",
    "    n = int(input().strip())\n",
    "    tplist = []\n",
    "\n",
    "    for _ in range(n):\n",
    "\n",
    "        name, tp = input().strip().split()\n",
    "        tplist.append(tp)\n",
    "\n",
    "    \n",
    "    print(tplist)\n"
   ]
  }
 ],
 "metadata": {
  "kernelspec": {
   "display_name": "Python 3",
   "language": "python",
   "name": "python3"
  },
  "language_info": {
   "codemirror_mode": {
    "name": "ipython",
    "version": 3
   },
   "file_extension": ".py",
   "mimetype": "text/x-python",
   "name": "python",
   "nbconvert_exporter": "python",
   "pygments_lexer": "ipython3",
   "version": "3.9.12"
  },
  "orig_nbformat": 4,
  "vscode": {
   "interpreter": {
    "hash": "c4b9ebf4ca459396e2ad1150752490c26670c1a037c08cad955a4425787bec2e"
   }
  }
 },
 "nbformat": 4,
 "nbformat_minor": 2
}
