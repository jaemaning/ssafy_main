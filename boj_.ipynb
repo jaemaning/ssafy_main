{
 "cells": [
  {
   "cell_type": "code",
   "execution_count": 56,
   "metadata": {},
   "outputs": [
    {
     "name": "stdout",
     "output_type": "stream",
     "text": [
      "9\n"
     ]
    },
    {
     "ename": "TypeError",
     "evalue": "unsupported operand type(s) for *: 'NoneType' and 'int'",
     "output_type": "error",
     "traceback": [
      "\u001b[1;31m---------------------------------------------------------------------------\u001b[0m",
      "\u001b[1;31mTypeError\u001b[0m                                 Traceback (most recent call last)",
      "Cell \u001b[1;32mIn[56], line 19\u001b[0m\n\u001b[0;32m     17\u001b[0m n \u001b[39m=\u001b[39m \u001b[39m9\u001b[39m\n\u001b[0;32m     18\u001b[0m result \u001b[39m=\u001b[39m []\n\u001b[1;32m---> 19\u001b[0m make_star(n)\n\u001b[0;32m     20\u001b[0m \u001b[39mprint\u001b[39m(result)\n",
      "Cell \u001b[1;32mIn[56], line 9\u001b[0m, in \u001b[0;36mmake_star\u001b[1;34m(n)\u001b[0m\n\u001b[0;32m      7\u001b[0m \u001b[39mwhile\u001b[39;00m n \u001b[39m!=\u001b[39m \u001b[39m3\u001b[39m:\n\u001b[0;32m      8\u001b[0m     \u001b[39mprint\u001b[39m(n)\n\u001b[1;32m----> 9\u001b[0m     \u001b[39mprint\u001b[39m(make_star(n\u001b[39m/\u001b[39;49m\u001b[39m/\u001b[39;49m\u001b[39m3\u001b[39;49m) \u001b[39m*\u001b[39;49m \u001b[39m3\u001b[39;49m)\n\u001b[0;32m     10\u001b[0m     \u001b[39mprint\u001b[39m(make_star(n\u001b[39m/\u001b[39m\u001b[39m/\u001b[39m\u001b[39m3\u001b[39m) \u001b[39m*\u001b[39m \u001b[39m3\u001b[39m)\n\u001b[0;32m     11\u001b[0m     make_star(n\u001b[39m/\u001b[39m\u001b[39m/\u001b[39m\u001b[39m3\u001b[39m) \u001b[39m*\u001b[39m \u001b[39m3\u001b[39m\n",
      "\u001b[1;31mTypeError\u001b[0m: unsupported operand type(s) for *: 'NoneType' and 'int'"
     ]
    }
   ],
   "source": [
    "# 2447번 별찍기 - 10\n",
    "\n",
    "def make_star(n):\n",
    "    if n == 1 :\n",
    "        return [\"*\"]\n",
    "\n",
    "    stars = \n",
    "\n",
    "n = 9\n",
    "result = []\n",
    "make_star(n)\n",
    "print(result)"
   ]
  }
 ],
 "metadata": {
  "kernelspec": {
   "display_name": "Python 3",
   "language": "python",
   "name": "python3"
  },
  "language_info": {
   "codemirror_mode": {
    "name": "ipython",
    "version": 3
   },
   "file_extension": ".py",
   "mimetype": "text/x-python",
   "name": "python",
   "nbconvert_exporter": "python",
   "pygments_lexer": "ipython3",
   "version": "3.9.12"
  },
  "orig_nbformat": 4,
  "vscode": {
   "interpreter": {
    "hash": "c4b9ebf4ca459396e2ad1150752490c26670c1a037c08cad955a4425787bec2e"
   }
  }
 },
 "nbformat": 4,
 "nbformat_minor": 2
}
