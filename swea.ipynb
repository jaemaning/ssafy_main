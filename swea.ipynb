{
 "cells": [
  {
   "cell_type": "code",
   "execution_count": 14,
   "metadata": {},
   "outputs": [
    {
     "name": "stdout",
     "output_type": "stream",
     "text": [
      "#1 1\n",
      "#2 1\n",
      "#3 1\n",
      "#4 0\n",
      "#5 0\n",
      "#6 1\n",
      "#7 1\n",
      "#8 0\n",
      "#9 1\n",
      "#10 0\n"
     ]
    }
   ],
   "source": [
    "def miro(x,y):\n",
    "    global remember\n",
    "\n",
    "    if x<0 or y<0 or x>100 or y>100:\n",
    "        return\n",
    "\n",
    "    if box[x][y] == 1:\n",
    "        return\n",
    "    elif box[x][y] == 3:\n",
    "        remember = 1\n",
    "        return\n",
    "\n",
    "    if box[x][y] == 2:\n",
    "        box[x][y] -= 1\n",
    "    else:\n",
    "        box[x][y] += 1\n",
    "\n",
    "    miro(x+1,y) # 오른쪽\n",
    "    miro(x-1,y) # 왼쪽\n",
    "    miro(x,y+1) # 위쪽\n",
    "    miro(x,y-1) # 아래쪽\n",
    "\n",
    "    return\n",
    "\n",
    "for i in range(10):\n",
    "    box = []\n",
    "    n=int(input().strip())\n",
    "    remember=0\n",
    "    for i in range(100):\n",
    "        num = str(input().strip())\n",
    "        num_list = [int(i) for i in num]\n",
    "        box.append(num_list)\n",
    "    \n",
    "    miro(1,1)\n",
    "\n",
    "    print(f\"#{n} {remember}\")"
   ]
  },
  {
   "cell_type": "code",
   "execution_count": null,
   "metadata": {},
   "outputs": [],
   "source": [
    "from collections import deque\n",
    "\n",
    "def bfs(box,x,y):\n",
    "\n",
    "    queue = deque()\n",
    "    queue.append((x,y))\n",
    "\n",
    "    dx = [-1,1,0,0]\n",
    "    dy = [0,0,-1,1]\n",
    "    \n",
    "    while queue:\n",
    "        x,y = queue.popleft()  \n",
    "\n",
    "        for i in range(4):\n",
    "            nx = x + dx[i]\n",
    "            ny = y + dy[i]\n",
    "\n",
    "\n",
    "            if nx < 0 or ny < 0 or nx > 100 or ny > 100 :\n",
    "                continue\n",
    "            elif box[nx][ny] == 1 or box[nx][ny] == 2 :\n",
    "                continue\n",
    "            elif box[nx][ny] == 3 :\n",
    "                return 1\n",
    "            else :\n",
    "                queue.append([nx,ny])\n",
    "                box[nx][ny] += 1\n",
    "\n",
    "    return 0\n",
    "\n",
    "\n",
    "\n",
    "for i in range(10):\n",
    "\n",
    "    box = []\n",
    "    n=int(input().strip())\n",
    "    remember=0\n",
    "\n",
    "    for i in range(100):\n",
    "        num = str(input().strip())\n",
    "        num_list = [int(i) for i in num]\n",
    "        box.append(num_list)\n",
    "\n",
    "    print(bfs(box,1,1))"
   ]
  },
  {
   "cell_type": "code",
   "execution_count": 4,
   "metadata": {},
   "outputs": [
    {
     "name": "stdout",
     "output_type": "stream",
     "text": [
      "1 1\n"
     ]
    }
   ],
   "source": [
    "from collections import deque\n",
    "\n",
    "queue = deque()\n",
    "queue.append((1,1))\n",
    "x,y = queue.popleft()\n",
    "print(x,y)"
   ]
  },
  {
   "cell_type": "code",
   "execution_count": 10,
   "metadata": {},
   "outputs": [
    {
     "ename": "ValueError",
     "evalue": "invalid literal for int() with base 10: ''",
     "output_type": "error",
     "traceback": [
      "\u001b[1;31m---------------------------------------------------------------------------\u001b[0m",
      "\u001b[1;31mValueError\u001b[0m                                Traceback (most recent call last)",
      "Cell \u001b[1;32mIn[10], line 1\u001b[0m\n\u001b[1;32m----> 1\u001b[0m t \u001b[39m=\u001b[39m \u001b[39mint\u001b[39;49m(\u001b[39minput\u001b[39;49m())\n\u001b[0;32m      3\u001b[0m \u001b[39mfor\u001b[39;00m i \u001b[39min\u001b[39;00m \u001b[39mrange\u001b[39m(t):\n\u001b[0;32m      4\u001b[0m     result\u001b[39m=\u001b[39m\u001b[39m0\u001b[39m\n",
      "\u001b[1;31mValueError\u001b[0m: invalid literal for int() with base 10: ''"
     ]
    }
   ],
   "source": [
    "t = int(input())\n",
    "\n",
    "for i in range(t):\n",
    "    result=0\n",
    "    ins = list(map(int,input().split()))\n",
    "\n",
    "    for j in ins:\n",
    "        if j%2 == 1:\n",
    "            result+=j\n",
    "\n",
    "    print(f\"#{i+1} {result}\")\n",
    "\n"
   ]
  },
  {
   "cell_type": "code",
   "execution_count": 6,
   "metadata": {},
   "outputs": [
    {
     "name": "stdout",
     "output_type": "stream",
     "text": [
      "#1 24\n"
     ]
    }
   ],
   "source": [
    "t = int(input())\n",
    "\n",
    "def roundUP(x):\n",
    "    result = (x-int(x)) * 10 \n",
    "\n",
    "    if result < 5:\n",
    "        return int(x)\n",
    "    else :\n",
    "        return int(x)+1\n",
    "\n",
    "\n",
    "for i in range(t):\n",
    "    result=0\n",
    "    ins = list(map(int,input().split()))\n",
    "\n",
    "    result=roundUP(sum(ins)/10)\n",
    "\n",
    "    print(f\"#{i+1} {result}\")\n",
    "    \n"
   ]
  },
  {
   "cell_type": "code",
   "execution_count": 1,
   "metadata": {},
   "outputs": [
    {
     "data": {
      "text/plain": [
       "10"
      ]
     },
     "execution_count": 1,
     "metadata": {},
     "output_type": "execute_result"
    }
   ],
   "source": [
    "round(10.5)"
   ]
  },
  {
   "cell_type": "code",
   "execution_count": 9,
   "metadata": {},
   "outputs": [
    {
     "ename": "ValueError",
     "evalue": "max() arg is an empty sequence",
     "output_type": "error",
     "traceback": [
      "\u001b[1;31m---------------------------------------------------------------------------\u001b[0m",
      "\u001b[1;31mValueError\u001b[0m                                Traceback (most recent call last)",
      "Cell \u001b[1;32mIn[9], line 8\u001b[0m\n\u001b[0;32m      5\u001b[0m n \u001b[39m=\u001b[39m \u001b[39mint\u001b[39m(\u001b[39minput\u001b[39m())\n\u001b[0;32m      7\u001b[0m ins \u001b[39m=\u001b[39m \u001b[39mlist\u001b[39m(\u001b[39mmap\u001b[39m(\u001b[39mint\u001b[39m,\u001b[39minput\u001b[39m()\u001b[39m.\u001b[39msplit()))\n\u001b[1;32m----> 8\u001b[0m maxV\u001b[39m=\u001b[39m\u001b[39mmax\u001b[39;49m(ins)\n\u001b[0;32m      9\u001b[0m checklist \u001b[39m=\u001b[39m [\u001b[39m0\u001b[39m \u001b[39mfor\u001b[39;00m _ \u001b[39min\u001b[39;00m \u001b[39mrange\u001b[39m(maxV\u001b[39m+\u001b[39m\u001b[39m1\u001b[39m)]\n\u001b[0;32m     11\u001b[0m \u001b[39mfor\u001b[39;00m j \u001b[39min\u001b[39;00m ins:\n",
      "\u001b[1;31mValueError\u001b[0m: max() arg is an empty sequence"
     ]
    }
   ],
   "source": [
    "t = int(input())\n",
    "\n",
    "\n",
    "for i in range(t):\n",
    "    n = int(input())\n",
    "\n",
    "    ins = list(map(int,input().split()))\n",
    "    maxV=max(ins)\n",
    "    checklist = [0 for _ in range(maxV+1)]\n",
    "\n",
    "    for j in ins:\n",
    "        checklist[j] += 1\n",
    "\n",
    "\n",
    "    result=100-checklist[::-1].index(max(checklist))\n",
    "\n",
    "    print(f\"#{n} {result}\")"
   ]
  },
  {
   "cell_type": "code",
   "execution_count": 15,
   "metadata": {},
   "outputs": [
    {
     "name": "stdout",
     "output_type": "stream",
     "text": [
      "#1 <\n"
     ]
    }
   ],
   "source": [
    "t = int(input())\n",
    "\n",
    "for i in range(t):\n",
    "    x,y = map(int,input().split())\n",
    "\n",
    "    if x<y:\n",
    "        result = \"<\"\n",
    "    if x>y:\n",
    "        result = \">\"\n",
    "    if x==y:\n",
    "        result = \"=\"\n",
    "\n",
    "    print(f\"#{i+1} {result}\")"
   ]
  },
  {
   "cell_type": "code",
   "execution_count": null,
   "metadata": {},
   "outputs": [],
   "source": [
    "# [S/W 문제해결 응용] 3일차 - 최적 경로\n",
    "\n",
    "from collections import deque\n",
    "\n",
    "tc = int(input())\n",
    "\n",
    "for i in range(tc):\n",
    "    n = int(input())\n",
    "    mlist = list(map(int,input().split()))\n",
    "    company = [mlist[0],mlist[1]]\n",
    "    home = []\n",
    "\n"
   ]
  },
  {
   "cell_type": "code",
   "execution_count": 2,
   "metadata": {},
   "outputs": [
    {
     "name": "stdout",
     "output_type": "stream",
     "text": [
      "3628800\n"
     ]
    }
   ],
   "source": [
    "a=1\n",
    "for i in range(1,10):\n",
    "    a=a*i\n",
    "\n",
    "print(a*10)"
   ]
  },
  {
   "cell_type": "code",
   "execution_count": null,
   "metadata": {},
   "outputs": [],
   "source": [
    "from collections import deque\n",
    "import copy\n",
    "import random\n",
    "\n",
    "queue = deque()\n",
    "for i in range(10):\n",
    "    queue.append(random.randrange(1,100))\n",
    "\n",
    "\n",
    "def bfs(n):\n",
    "    a = deque()\n",
    "    a.append(n.popleft())  \n",
    "\n",
    "    while n:\n",
    "        a_copy = copy.deepcopy(a)\n",
    "\n",
    "        for i in a_copy:\n",
    "            a.popleft()\n",
    "            for j in n: \n",
    "                a.append(abs(i-j))  # a - j 와의 거리\n",
    "        \n",
    "        n.popleft()\n",
    "\n",
    "    return a\n",
    "\n",
    "print(len(bfs(queue)))\n"
   ]
  },
  {
   "cell_type": "code",
   "execution_count": 27,
   "metadata": {},
   "outputs": [
    {
     "name": "stdout",
     "output_type": "stream",
     "text": [
      "#1 337\n"
     ]
    }
   ],
   "source": [
    "## 1차\n",
    "from collections import deque\n",
    "from itertools import permutations\n",
    "\n",
    "t = int(input())\n",
    "\n",
    "for test_case in range(t):\n",
    "    n = int(input())\n",
    "    nlist = deque(map(int,input().split()))\n",
    "\n",
    "    ###### company  , home xlist, ylist위치 정하기\n",
    "    company = []\n",
    "    home = []\n",
    "    xlist = []\n",
    "    ylist = []\n",
    "    for i in range(2):\n",
    "        company.append(nlist.popleft())\n",
    "    \n",
    "    for i in range(2):\n",
    "        home.append(nlist.popleft())\n",
    "\n",
    "    for i in range(len(nlist)//2):\n",
    "        xlist.append(nlist.popleft())\n",
    "        ylist.append(nlist.popleft())\n",
    "\n",
    "    ###### n1 ~ ni 끝까지 이동\n",
    "    \n",
    "    perm_xlist = list(permutations(xlist,len(xlist)))\n",
    "    perm_ylist = list(permutations(ylist,len(ylist)))\n",
    "\n",
    "    last_x,last_y = home[0],home[1]\n",
    "    x_dists,y_dists = [],[]\n",
    "    \n",
    "    for x in perm_xlist:\n",
    "        pre_x = company[0]\n",
    "        dist = 0\n",
    "\n",
    "        for i in x:\n",
    "            dist+=abs(pre_x-i)\n",
    "            pre_x = i\n",
    "        \n",
    "        dist+=abs(pre_x-last_x)\n",
    "        x_dists.append(dist)\n",
    "\n",
    "    for y in perm_xlist:\n",
    "        pre_y = company[1]\n",
    "        dist = 0\n",
    "\n",
    "        for i in y:\n",
    "            dist+=abs(pre_y-i)\n",
    "            pre_y = i\n",
    "        \n",
    "        dist+=abs(pre_y-last_y)\n",
    "        y_dists.append(dist)\n",
    "\n",
    "    c = [x+y for x,y in zip(x_dists,y_dists)]\n",
    "    print(f\"#{test_case+1} {min(c)}\")\n",
    "\n",
    "\n",
    "    ###### 1 2 3 4 5 6 7 8 9 10\n"
   ]
  },
  {
   "cell_type": "code",
   "execution_count": 35,
   "metadata": {},
   "outputs": [
    {
     "name": "stdout",
     "output_type": "stream",
     "text": [
      "#1 343\n"
     ]
    }
   ],
   "source": [
    "## 2차\n",
    "from collections import deque\n",
    "from itertools import permutations\n",
    "\n",
    "t = int(input())\n",
    "\n",
    "for test_case in range(t):\n",
    "    n = int(input())\n",
    "    nlist = deque(map(int,input().split()))\n",
    "\n",
    "\n",
    "    company = []\n",
    "    home = []\n",
    "    xlist = []\n",
    "    ylist = []\n",
    "    for i in range(2):\n",
    "        company.append(nlist.popleft())\n",
    "    \n",
    "    for i in range(2):\n",
    "        home.append(nlist.popleft())\n",
    "\n",
    "    mlist = []\n",
    "    for i in range(len(nlist)//2):\n",
    "        mlist.append([nlist.popleft(),nlist.popleft()])\n",
    "\n",
    "\n",
    "    perm_list = list(permutations(mlist,len(mlist)))\n",
    "    \n",
    "    dists = []\n",
    "    \n",
    "    for xy in perm_list:\n",
    "        pre = company\n",
    "        dist = 0\n",
    "\n",
    "        for x,y in xy:\n",
    "            dist+=abs(pre[0]-x)\n",
    "            dist+=abs(pre[1]-y)\n",
    "            pre=[x,y]\n",
    "        \n",
    "        dist+=abs(pre[0]-home[0])\n",
    "        dist+=abs(pre[1]-home[1])\n",
    "        dists.append(dist)\n",
    "\n",
    "    print(f\"#{test_case+1} {min(dists)}\")\n"
   ]
  },
  {
   "cell_type": "code",
   "execution_count": 41,
   "metadata": {},
   "outputs": [
    {
     "name": "stdout",
     "output_type": "stream",
     "text": [
      "[0, 0] [100, 100] [[70, 40], [30, 10], [10, 5], [90, 70], [50, 20]]\n"
     ]
    }
   ],
   "source": [
    "## 4try\n",
    "from itertools import permutations\n",
    "\n",
    "t = int(input())\n",
    "\n",
    "for test_case in range(t):\n",
    "    n = int(input())\n",
    "    nlist = list(map(int,input().split()))\n",
    "\n",
    "    company = [nlist[0],nlist[1]]\n",
    "    home = [nlist[2],nlist[3]]\n",
    "\n",
    "    mlist = []\n",
    "    for i in range(4,len(nlist),2):\n",
    "        mlist.append([nlist[i],nlist[i+1]])\n",
    "\n",
    "    perm_list = list(permutations(mlist,len(mlist)))\n",
    "    \n",
    "    dists = []\n",
    "    \n",
    "    print(company,home,mlist)\n",
    "\n",
    "    for xy in perm_list:\n",
    "        pre = company\n",
    "        dist = 0\n",
    "\n",
    "        for x,y in xy:\n",
    "            dist+=abs(pre[0]-x)\n",
    "            dist+=abs(pre[1]-y)\n",
    "            pre=[x,y]\n",
    "        \n",
    "        dist+=abs(pre[0]-home[0])\n",
    "        dist+=abs(pre[1]-home[1])\n",
    "        dists.append(dist)\n",
    "\n",
    "    print(f\"#{test_case+1} {min(dists)}\")"
   ]
  },
  {
   "cell_type": "code",
   "execution_count": 13,
   "metadata": {},
   "outputs": [
    {
     "name": "stdout",
     "output_type": "stream",
     "text": [
      "5\n"
     ]
    }
   ],
   "source": [
    "from collections import deque\n",
    "\n",
    "visited = [False for _ in range(10)]\n",
    "\n",
    "def perm(xylist,visited):\n",
    "    for idx,xy in enumerate(xylist) :\n",
    "\n",
    "        if visited[idx] :\n",
    "            pass\n",
    "        else :\n",
    "            for \n",
    "            \n",
    "        \n",
    "        visited[idx] = False\n",
    "\n",
    "\n",
    "\n",
    "\n",
    "\n",
    "\n",
    "t = int(input())\n",
    "\n",
    "for test_case in range(t):\n",
    "    n = int(input())\n",
    "    nlist = list(map(int,input().split()))\n",
    "\n",
    "    company = [nlist[0],nlist[1]]\n",
    "    home = [nlist[2],nlist[3]]\n",
    "\n",
    "    mlist = []\n",
    "    for i in range(4,len(nlist),2):\n",
    "        mlist.append([nlist[i],nlist[i+1]])\n",
    "\n",
    "\n"
   ]
  },
  {
   "cell_type": "code",
   "execution_count": 55,
   "metadata": {},
   "outputs": [
    {
     "name": "stdout",
     "output_type": "stream",
     "text": [
      "200\n"
     ]
    }
   ],
   "source": [
    "def dfs(path,n):\n",
    "    global answer\n",
    "\n",
    "    if len(path) == n:\n",
    "\n",
    "        nx = company[0]\n",
    "        ny = company[1]\n",
    "\n",
    "        result = 0\n",
    "\n",
    "        for i in path:\n",
    "            result += abs(i[0]-nx) + abs(i[1]-ny)\n",
    "            nx,ny = i[0], i[1]\n",
    "        \n",
    "        result += abs(nx-home[0]) + abs(ny-home[1])\n",
    "\n",
    "        answer = min(result,answer)\n",
    "\n",
    "        return\n",
    "\n",
    "    else:\n",
    "        for i in range(n) :\n",
    "            if not checklist[i] :\n",
    "                checklist[i] = True\n",
    "                path.append(user[i])\n",
    "                dfs(path,n)\n",
    "\n",
    "                path.pop()\n",
    "                checklist[i] = False\n",
    "\n",
    "\n",
    "tc = int(input())\n",
    "\n",
    "for i in range(tc):\n",
    "    n = int(input())\n",
    "    nlist = list(map(int,input().split()))\n",
    "    checklist = [False] * n\n",
    "\n",
    "    company = [nlist[0] , nlist[1]]\n",
    "    home = [nlist[2] , nlist[3]]\n",
    "    user = []\n",
    "\n",
    "    for i in range(4,len(nlist),2):\n",
    "        user.append([nlist[i],nlist[i+1]])\n",
    "    answer = 9999999999999\n",
    "\n",
    "    dfs([],n)\n",
    "    print(answer)\n"
   ]
  },
  {
   "cell_type": "code",
   "execution_count": 1,
   "metadata": {},
   "outputs": [
    {
     "data": {
      "text/plain": [
       "1"
      ]
     },
     "execution_count": 1,
     "metadata": {},
     "output_type": "execute_result"
    }
   ],
   "source": [
    "len([[3,4]])"
   ]
  },
  {
   "cell_type": "code",
   "execution_count": 23,
   "metadata": {},
   "outputs": [
    {
     "name": "stdout",
     "output_type": "stream",
     "text": [
      "2\n",
      "2353054247248\n",
      "[1, 2]\n",
      "2353138919424\n",
      "2353138919424\n",
      "[1, 2, 3]\n",
      "2353138919552\n",
      "2353138976064\n",
      "False 0.10000000000000009 0.09999999999999987\n",
      "True 0.1 0.1\n",
      "\n",
      " 캐리지리턴 string 자료형 \n",
      "\n",
      "True\n",
      "False\n",
      "2353054247504 2353054247824\n",
      "2353054247824 2353054247504\n",
      "False\n",
      "[1, 2, '***', '***', '***']\n"
     ]
    }
   ],
   "source": []
  }
 ],
 "metadata": {
  "kernelspec": {
   "display_name": "Python 3",
   "language": "python",
   "name": "python3"
  },
  "language_info": {
   "codemirror_mode": {
    "name": "ipython",
    "version": 3
   },
   "file_extension": ".py",
   "mimetype": "text/x-python",
   "name": "python",
   "nbconvert_exporter": "python",
   "pygments_lexer": "ipython3",
   "version": "3.9.12 (tags/v3.9.12:b28265d, Mar 23 2022, 23:52:46) [MSC v.1929 64 bit (AMD64)]"
  },
  "orig_nbformat": 4,
  "vscode": {
   "interpreter": {
    "hash": "c4b9ebf4ca459396e2ad1150752490c26670c1a037c08cad955a4425787bec2e"
   }
  }
 },
 "nbformat": 4,
 "nbformat_minor": 2
}
