{
 "cells": [
  {
   "cell_type": "code",
   "execution_count": null,
   "metadata": {},
   "outputs": [],
   "source": [
    "def miro(x,y):\n",
    "    global remember\n",
    "\n",
    "    if box[x][y] == 1:\n",
    "        return\n",
    "    elif box[x][y] == 3:\n",
    "        remember = 1\n",
    "        return\n",
    "\n",
    "    if box[x][y] == 2:\n",
    "        box[x][y] -= 1\n",
    "    else:\n",
    "        box[x][y] += 1\n",
    "\n",
    "    miro(x+1,y) # 오른쪽\n",
    "    miro(x-1,y) # 왼쪽\n",
    "    miro(x,y+1) # 위쪽\n",
    "    miro(x,y-1) # 아래쪽\n",
    "\n",
    "    return\n",
    "\n",
    "for i in range(10):\n",
    "    box = []\n",
    "    n=int(input())\n",
    "    remember=0\n",
    "    for i in range(100):\n",
    "        num = str(input().strip())\n",
    "        num_list = [i for i in num]\n",
    "        box.append(num_list)\n",
    "    \n",
    "    miro(1,1)\n",
    "\n",
    "    print(f\"#{n} {remember}\")"
   ]
  },
  {
   "cell_type": "code",
   "execution_count": 1,
   "metadata": {},
   "outputs": [
    {
     "name": "stdout",
     "output_type": "stream",
     "text": [
      "1\n"
     ]
    }
   ],
   "source": [
    "a = 1\n",
    "print(a)"
   ]
  },
  {
   "cell_type": "code",
   "execution_count": 2,
   "metadata": {},
   "outputs": [
    {
     "name": "stdout",
     "output_type": "stream",
     "text": [
      "1\n"
     ]
    }
   ],
   "source": [
    "print(a)"
   ]
  },
  {
   "cell_type": "code",
   "execution_count": null,
   "metadata": {},
   "outputs": [],
   "source": []
  }
 ],
 "metadata": {
  "kernelspec": {
   "display_name": "Python311",
   "language": "python",
   "name": "python3"
  },
  "language_info": {
   "codemirror_mode": {
    "name": "ipython",
    "version": 3
   },
   "file_extension": ".py",
   "mimetype": "text/x-python",
   "name": "python",
   "nbconvert_exporter": "python",
   "pygments_lexer": "ipython3",
   "version": "3.11.1"
  },
  "orig_nbformat": 4,
  "vscode": {
   "interpreter": {
    "hash": "ed68be99cea8a11266cf3e2806ce1d32711567a4a9bcc5e30f7d243e7b661601"
   }
  }
 },
 "nbformat": 4,
 "nbformat_minor": 2
}
