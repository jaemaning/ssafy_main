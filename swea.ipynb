{
 "cells": [
  {
   "cell_type": "code",
   "execution_count": null,
   "metadata": {},
   "outputs": [],
   "source": [
    "def miro(x,y):\n",
    "    global remember\n",
    "\n",
    "    if box[x][y] == 1:\n",
    "        return\n",
    "    elif box[x][y] == 3:\n",
    "        remember = 1\n",
    "        return\n",
    "\n",
    "    if box[x][y] == 2:\n",
    "        box[x][y] -= 1\n",
    "    else:\n",
    "        box[x][y] += 1\n",
    "\n",
    "    miro(x+1,y) # 오른쪽\n",
    "    miro(x-1,y) # 왼쪽\n",
    "    miro(x,y+1) # 위쪽\n",
    "    miro(x,y-1) # 아래쪽\n",
    "\n",
    "    return\n",
    "\n",
    "for i in range(10):\n",
    "    box = []\n",
    "    n=int(input())\n",
    "    remember=0\n",
    "    for i in range(100):\n",
    "        num = str(input().strip())\n",
    "        num_list = [i for i in num]\n",
    "        box.append(num_list)\n",
    "    \n",
    "    miro(1,1)\n",
    "\n",
    "    print(f\"#{n} {remember}\")"
   ]
  },
  {
   "cell_type": "code",
   "execution_count": 10,
   "metadata": {},
   "outputs": [
    {
     "ename": "ValueError",
     "evalue": "invalid literal for int() with base 10: ''",
     "output_type": "error",
     "traceback": [
      "\u001b[1;31m---------------------------------------------------------------------------\u001b[0m",
      "\u001b[1;31mValueError\u001b[0m                                Traceback (most recent call last)",
      "Cell \u001b[1;32mIn[10], line 1\u001b[0m\n\u001b[1;32m----> 1\u001b[0m t \u001b[39m=\u001b[39m \u001b[39mint\u001b[39;49m(\u001b[39minput\u001b[39;49m())\n\u001b[0;32m      3\u001b[0m \u001b[39mfor\u001b[39;00m i \u001b[39min\u001b[39;00m \u001b[39mrange\u001b[39m(t):\n\u001b[0;32m      4\u001b[0m     result\u001b[39m=\u001b[39m\u001b[39m0\u001b[39m\n",
      "\u001b[1;31mValueError\u001b[0m: invalid literal for int() with base 10: ''"
     ]
    }
   ],
   "source": [
    "t = int(input())\n",
    "\n",
    "for i in range(t):\n",
    "    result=0\n",
    "    ins = list(map(int,input().split()))\n",
    "\n",
    "    for j in ins:\n",
    "        if j%2 == 1:\n",
    "            result+=j\n",
    "\n",
    "    print(f\"#{i+1} {result}\")\n",
    "\n"
   ]
  },
  {
   "cell_type": "code",
   "execution_count": 6,
   "metadata": {},
   "outputs": [
    {
     "name": "stdout",
     "output_type": "stream",
     "text": [
      "#1 24\n"
     ]
    }
   ],
   "source": [
    "t = int(input())\n",
    "\n",
    "def roundUP(x):\n",
    "    result = (x-int(x)) * 10 \n",
    "\n",
    "    if result < 5:\n",
    "        return int(x)\n",
    "    else :\n",
    "        return int(x)+1\n",
    "\n",
    "for i in range(t):\n",
    "    result=0\n",
    "    ins = list(map(int,input().split()))\n",
    "\n",
    "    result=roundUP(sum(ins)/10)\n",
    "\n",
    "    print(f\"#{i+1} {result}\")\n"
   ]
  },
  {
   "cell_type": "code",
   "execution_count": 9,
   "metadata": {},
   "outputs": [
    {
     "ename": "ValueError",
     "evalue": "max() arg is an empty sequence",
     "output_type": "error",
     "traceback": [
      "\u001b[1;31m---------------------------------------------------------------------------\u001b[0m",
      "\u001b[1;31mValueError\u001b[0m                                Traceback (most recent call last)",
      "Cell \u001b[1;32mIn[9], line 8\u001b[0m\n\u001b[0;32m      5\u001b[0m n \u001b[39m=\u001b[39m \u001b[39mint\u001b[39m(\u001b[39minput\u001b[39m())\n\u001b[0;32m      7\u001b[0m ins \u001b[39m=\u001b[39m \u001b[39mlist\u001b[39m(\u001b[39mmap\u001b[39m(\u001b[39mint\u001b[39m,\u001b[39minput\u001b[39m()\u001b[39m.\u001b[39msplit()))\n\u001b[1;32m----> 8\u001b[0m maxV\u001b[39m=\u001b[39m\u001b[39mmax\u001b[39;49m(ins)\n\u001b[0;32m      9\u001b[0m checklist \u001b[39m=\u001b[39m [\u001b[39m0\u001b[39m \u001b[39mfor\u001b[39;00m _ \u001b[39min\u001b[39;00m \u001b[39mrange\u001b[39m(maxV\u001b[39m+\u001b[39m\u001b[39m1\u001b[39m)]\n\u001b[0;32m     11\u001b[0m \u001b[39mfor\u001b[39;00m j \u001b[39min\u001b[39;00m ins:\n",
      "\u001b[1;31mValueError\u001b[0m: max() arg is an empty sequence"
     ]
    }
   ],
   "source": [
    "t = int(input())\n",
    "\n",
    "\n",
    "for i in range(t):\n",
    "    n = int(input())\n",
    "\n",
    "    ins = list(map(int,input().split()))\n",
    "    maxV=max(ins)\n",
    "    checklist = [0 for _ in range(maxV+1)]\n",
    "\n",
    "    for j in ins:\n",
    "        checklist[j] += 1\n",
    "\n",
    "\n",
    "    result=100-checklist[::-1].index(max(checklist))\n",
    "\n",
    "    print(f\"#{n} {result}\")"
   ]
  },
  {
   "cell_type": "code",
   "execution_count": null,
   "metadata": {},
   "outputs": [],
   "source": []
  }
 ],
 "metadata": {
  "kernelspec": {
   "display_name": "Python311",
   "language": "python",
   "name": "python3"
  },
  "language_info": {
   "codemirror_mode": {
    "name": "ipython",
    "version": 3
   },
   "file_extension": ".py",
   "mimetype": "text/x-python",
   "name": "python",
   "nbconvert_exporter": "python",
   "pygments_lexer": "ipython3",
   "version": "3.11.1"
  },
  "orig_nbformat": 4,
  "vscode": {
   "interpreter": {
    "hash": "ed68be99cea8a11266cf3e2806ce1d32711567a4a9bcc5e30f7d243e7b661601"
   }
  }
 },
 "nbformat": 4,
 "nbformat_minor": 2
}
