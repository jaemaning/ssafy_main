{
 "cells": [
  {
   "cell_type": "code",
   "execution_count": 14,
   "metadata": {},
   "outputs": [
    {
     "name": "stdout",
     "output_type": "stream",
     "text": [
      "#1 1\n",
      "#2 1\n",
      "#3 1\n",
      "#4 0\n",
      "#5 0\n",
      "#6 1\n",
      "#7 1\n",
      "#8 0\n",
      "#9 1\n",
      "#10 0\n"
     ]
    }
   ],
   "source": [
    "def miro(x,y):\n",
    "    global remember\n",
    "\n",
    "    if x<0 or y<0 or x>100 or y>100:\n",
    "        return\n",
    "\n",
    "    if box[x][y] == 1:\n",
    "        return\n",
    "    elif box[x][y] == 3:\n",
    "        remember = 1\n",
    "        return\n",
    "\n",
    "    if box[x][y] == 2:\n",
    "        box[x][y] -= 1\n",
    "    else:\n",
    "        box[x][y] += 1\n",
    "\n",
    "    miro(x+1,y) # 오른쪽\n",
    "    miro(x-1,y) # 왼쪽\n",
    "    miro(x,y+1) # 위쪽\n",
    "    miro(x,y-1) # 아래쪽\n",
    "\n",
    "    return\n",
    "\n",
    "for i in range(10):\n",
    "    box = []\n",
    "    n=int(input().strip())\n",
    "    remember=0\n",
    "    for i in range(100):\n",
    "        num = str(input().strip())\n",
    "        num_list = [int(i) for i in num]\n",
    "        box.append(num_list)\n",
    "    \n",
    "    miro(1,1)\n",
    "\n",
    "    print(f\"#{n} {remember}\")"
   ]
  },
  {
   "cell_type": "code",
   "execution_count": null,
   "metadata": {},
   "outputs": [],
   "source": [
    "from collections import deque\n",
    "\n",
    "def bfs(box,x,y):\n",
    "\n",
    "    queue = deque()\n",
    "    queue.append((x,y))\n",
    "\n",
    "    dx = [-1,1,0,0]\n",
    "    dy = [0,0,-1,1]\n",
    "    \n",
    "    while queue:\n",
    "        x,y = queue.popleft()  \n",
    "\n",
    "        for i in range(4):\n",
    "            nx = x + dx[i]\n",
    "            ny = y + dy[i]\n",
    "\n",
    "\n",
    "            if nx < 0 or ny < 0 or nx > 100 or ny > 100 :\n",
    "                continue\n",
    "            elif box[nx][ny] == 1 or box[nx][ny] == 2 :\n",
    "                continue\n",
    "            elif box[nx][ny] == 3 :\n",
    "                return 1\n",
    "            else :\n",
    "                queue.append([nx,ny])\n",
    "                box[nx][ny] += 1\n",
    "\n",
    "    return 0\n",
    "\n",
    "\n",
    "\n",
    "for i in range(10):\n",
    "\n",
    "    box = []\n",
    "    n=int(input().strip())\n",
    "    remember=0\n",
    "\n",
    "    for i in range(100):\n",
    "        num = str(input().strip())\n",
    "        num_list = [int(i) for i in num]\n",
    "        box.append(num_list)\n",
    "\n",
    "    print(bfs(box,1,1))"
   ]
  },
  {
   "cell_type": "code",
   "execution_count": 4,
   "metadata": {},
   "outputs": [
    {
     "name": "stdout",
     "output_type": "stream",
     "text": [
      "1 1\n"
     ]
    }
   ],
   "source": [
    "from collections import deque\n",
    "\n",
    "queue = deque()\n",
    "queue.append((1,1))\n",
    "x,y = queue.popleft()\n",
    "print(x,y)"
   ]
  },
  {
   "cell_type": "code",
   "execution_count": 10,
   "metadata": {},
   "outputs": [
    {
     "ename": "ValueError",
     "evalue": "invalid literal for int() with base 10: ''",
     "output_type": "error",
     "traceback": [
      "\u001b[1;31m---------------------------------------------------------------------------\u001b[0m",
      "\u001b[1;31mValueError\u001b[0m                                Traceback (most recent call last)",
      "Cell \u001b[1;32mIn[10], line 1\u001b[0m\n\u001b[1;32m----> 1\u001b[0m t \u001b[39m=\u001b[39m \u001b[39mint\u001b[39;49m(\u001b[39minput\u001b[39;49m())\n\u001b[0;32m      3\u001b[0m \u001b[39mfor\u001b[39;00m i \u001b[39min\u001b[39;00m \u001b[39mrange\u001b[39m(t):\n\u001b[0;32m      4\u001b[0m     result\u001b[39m=\u001b[39m\u001b[39m0\u001b[39m\n",
      "\u001b[1;31mValueError\u001b[0m: invalid literal for int() with base 10: ''"
     ]
    }
   ],
   "source": [
    "t = int(input())\n",
    "\n",
    "for i in range(t):\n",
    "    result=0\n",
    "    ins = list(map(int,input().split()))\n",
    "\n",
    "    for j in ins:\n",
    "        if j%2 == 1:\n",
    "            result+=j\n",
    "\n",
    "    print(f\"#{i+1} {result}\")\n",
    "\n"
   ]
  },
  {
   "cell_type": "code",
   "execution_count": 6,
   "metadata": {},
   "outputs": [
    {
     "name": "stdout",
     "output_type": "stream",
     "text": [
      "#1 24\n"
     ]
    }
   ],
   "source": [
    "t = int(input())\n",
    "\n",
    "def roundUP(x):\n",
    "    result = (x-int(x)) * 10 \n",
    "\n",
    "    if result < 5:\n",
    "        return int(x)\n",
    "    else :\n",
    "        return int(x)+1\n",
    "\n",
    "\n",
    "for i in range(t):\n",
    "    result=0\n",
    "    ins = list(map(int,input().split()))\n",
    "\n",
    "    result=roundUP(sum(ins)/10)\n",
    "\n",
    "    print(f\"#{i+1} {result}\")\n",
    "    \n"
   ]
  },
  {
   "cell_type": "code",
   "execution_count": 1,
   "metadata": {},
   "outputs": [
    {
     "data": {
      "text/plain": [
       "10"
      ]
     },
     "execution_count": 1,
     "metadata": {},
     "output_type": "execute_result"
    }
   ],
   "source": [
    "round(10.5)"
   ]
  },
  {
   "cell_type": "code",
   "execution_count": 9,
   "metadata": {},
   "outputs": [
    {
     "ename": "ValueError",
     "evalue": "max() arg is an empty sequence",
     "output_type": "error",
     "traceback": [
      "\u001b[1;31m---------------------------------------------------------------------------\u001b[0m",
      "\u001b[1;31mValueError\u001b[0m                                Traceback (most recent call last)",
      "Cell \u001b[1;32mIn[9], line 8\u001b[0m\n\u001b[0;32m      5\u001b[0m n \u001b[39m=\u001b[39m \u001b[39mint\u001b[39m(\u001b[39minput\u001b[39m())\n\u001b[0;32m      7\u001b[0m ins \u001b[39m=\u001b[39m \u001b[39mlist\u001b[39m(\u001b[39mmap\u001b[39m(\u001b[39mint\u001b[39m,\u001b[39minput\u001b[39m()\u001b[39m.\u001b[39msplit()))\n\u001b[1;32m----> 8\u001b[0m maxV\u001b[39m=\u001b[39m\u001b[39mmax\u001b[39;49m(ins)\n\u001b[0;32m      9\u001b[0m checklist \u001b[39m=\u001b[39m [\u001b[39m0\u001b[39m \u001b[39mfor\u001b[39;00m _ \u001b[39min\u001b[39;00m \u001b[39mrange\u001b[39m(maxV\u001b[39m+\u001b[39m\u001b[39m1\u001b[39m)]\n\u001b[0;32m     11\u001b[0m \u001b[39mfor\u001b[39;00m j \u001b[39min\u001b[39;00m ins:\n",
      "\u001b[1;31mValueError\u001b[0m: max() arg is an empty sequence"
     ]
    }
   ],
   "source": [
    "t = int(input())\n",
    "\n",
    "\n",
    "for i in range(t):\n",
    "    n = int(input())\n",
    "\n",
    "    ins = list(map(int,input().split()))\n",
    "    maxV=max(ins)\n",
    "    checklist = [0 for _ in range(maxV+1)]\n",
    "\n",
    "    for j in ins:\n",
    "        checklist[j] += 1\n",
    "\n",
    "\n",
    "    result=100-checklist[::-1].index(max(checklist))\n",
    "\n",
    "    print(f\"#{n} {result}\")"
   ]
  },
  {
   "cell_type": "code",
   "execution_count": 15,
   "metadata": {},
   "outputs": [
    {
     "name": "stdout",
     "output_type": "stream",
     "text": [
      "#1 <\n"
     ]
    }
   ],
   "source": [
    "t = int(input())\n",
    "\n",
    "for i in range(t):\n",
    "    x,y = map(int,input().split())\n",
    "\n",
    "    if x<y:\n",
    "        result = \"<\"\n",
    "    if x>y:\n",
    "        result = \">\"\n",
    "    if x==y:\n",
    "        result = \"=\"\n",
    "\n",
    "    print(f\"#{i+1} {result}\")"
   ]
  },
  {
   "cell_type": "code",
   "execution_count": null,
   "metadata": {},
   "outputs": [],
   "source": [
    "# [S/W 문제해결 응용] 3일차 - 최적 경로\n",
    "\n",
    "from collections import deque\n",
    "\n",
    "tc = int(input())\n",
    "\n",
    "for i in range(tc):\n",
    "    n = int(input())\n",
    "    mlist = list(map(int,input().split()))\n",
    "    company = [mlist[0],mlist[1]]\n",
    "    home = []\n",
    "\n"
   ]
  },
  {
   "cell_type": "code",
   "execution_count": 2,
   "metadata": {},
   "outputs": [
    {
     "name": "stdout",
     "output_type": "stream",
     "text": [
      "3628800\n"
     ]
    }
   ],
   "source": [
    "a=1\n",
    "for i in range(1,10):\n",
    "    a=a*i\n",
    "\n",
    "print(a*10)"
   ]
  },
  {
   "cell_type": "code",
   "execution_count": 14,
   "metadata": {},
   "outputs": [
    {
     "ename": "RuntimeError",
     "evalue": "deque mutated during iteration",
     "output_type": "error",
     "traceback": [
      "\u001b[1;31m---------------------------------------------------------------------------\u001b[0m",
      "\u001b[1;31mRuntimeError\u001b[0m                              Traceback (most recent call last)",
      "Cell \u001b[1;32mIn[14], line 24\u001b[0m\n\u001b[0;32m     20\u001b[0m         n\u001b[39m.\u001b[39mpopleft()\n\u001b[0;32m     22\u001b[0m     \u001b[39mreturn\u001b[39;00m a\n\u001b[1;32m---> 24\u001b[0m \u001b[39mprint\u001b[39m(\u001b[39mlen\u001b[39m(bfs(queue)))\n",
      "Cell \u001b[1;32mIn[14], line 14\u001b[0m, in \u001b[0;36mbfs\u001b[1;34m(n)\u001b[0m\n\u001b[0;32m     11\u001b[0m a\u001b[39m.\u001b[39mappend(n\u001b[39m.\u001b[39mpopleft())\n\u001b[0;32m     13\u001b[0m \u001b[39mwhile\u001b[39;00m n:\n\u001b[1;32m---> 14\u001b[0m     \u001b[39mfor\u001b[39;00m i \u001b[39min\u001b[39;00m a:\n\u001b[0;32m     15\u001b[0m         \u001b[39mfor\u001b[39;00m j \u001b[39min\u001b[39;00m n: \n\u001b[0;32m     16\u001b[0m             a\u001b[39m.\u001b[39mappend(\u001b[39mabs\u001b[39m(i\u001b[39m-\u001b[39mj))  \u001b[39m# a 와 - j 와의 거리\u001b[39;00m\n",
      "\u001b[1;31mRuntimeError\u001b[0m: deque mutated during iteration"
     ]
    }
   ],
   "source": [
    "from collections import deque\n",
    "import random\n",
    "\n",
    "queue = deque()\n",
    "for i in range(10):\n",
    "    queue.append(random.randrange(1,100))\n",
    "\n",
    "\n",
    "def bfs(n):\n",
    "    a = deque()\n",
    "    a.append(n.popleft())\n",
    "\n",
    "    while n:\n",
    "        for i in a:\n",
    "            for j in n: \n",
    "                a.append(abs(i-j))  # a 와 - j 와의 거리\n",
    "        \n",
    "            a.popleft()\n",
    "        \n",
    "        n.popleft()\n",
    "\n",
    "    return a\n",
    "\n",
    "print(len(bfs(queue)))\n",
    "\n",
    "\n"
   ]
  },
  {
   "cell_type": "code",
   "execution_count": null,
   "metadata": {},
   "outputs": [],
   "source": []
  }
 ],
 "metadata": {
  "kernelspec": {
   "display_name": "Python311",
   "language": "python",
   "name": "python3"
  },
  "language_info": {
   "codemirror_mode": {
    "name": "ipython",
    "version": 3
   },
   "file_extension": ".py",
   "mimetype": "text/x-python",
   "name": "python",
   "nbconvert_exporter": "python",
   "pygments_lexer": "ipython3",
   "version": "3.11.1"
  },
  "orig_nbformat": 4,
  "vscode": {
   "interpreter": {
    "hash": "ed68be99cea8a11266cf3e2806ce1d32711567a4a9bcc5e30f7d243e7b661601"
   }
  }
 },
 "nbformat": 4,
 "nbformat_minor": 2
}
