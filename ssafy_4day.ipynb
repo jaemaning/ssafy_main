{
 "cells": [
  {
   "cell_type": "code",
   "execution_count": 5,
   "metadata": {},
   "outputs": [
    {
     "name": "stdout",
     "output_type": "stream",
     "text": [
      "종료\n"
     ]
    }
   ],
   "source": [
    "a = 10\n",
    "\n",
    "for i in range(20):\n",
    "    if i < 3:\n",
    "        print(\"종료\")\n",
    "        break\n",
    "else:\n",
    "    print(i)"
   ]
  },
  {
   "cell_type": "code",
   "execution_count": 6,
   "metadata": {},
   "outputs": [
    {
     "name": "stdout",
     "output_type": "stream",
     "text": [
      "0\n",
      "1\n",
      "2\n",
      "3\n",
      "4\n",
      "끝\n"
     ]
    }
   ],
   "source": [
    "a = 0\n",
    "\n",
    "while a < 5:\n",
    "    print(a)\n",
    "    a = a + 1\n",
    "\n",
    "print(\"끝\")"
   ]
  },
  {
   "cell_type": "code",
   "execution_count": 7,
   "metadata": {},
   "outputs": [
    {
     "name": "stdout",
     "output_type": "stream",
     "text": [
      "0\n"
     ]
    }
   ],
   "source": [
    "b = 10\n",
    "\n",
    "b %= 2\n",
    "\n",
    "print(b)\n"
   ]
  },
  {
   "cell_type": "code",
   "execution_count": 19,
   "metadata": {},
   "outputs": [
    {
     "name": "stdout",
     "output_type": "stream",
     "text": [
      "60\n"
     ]
    }
   ],
   "source": [
    "nlist = [1, 2, 3, 4, 5]\n",
    "result = []\n",
    "perm_list = []\n",
    "checklist = [False for _ in range(len(nlist))]\n",
    "\n",
    "\n",
    "def new_perm(nlist, balls):\n",
    "\n",
    "    if len(perm_list) == balls:\n",
    "        result.append(perm_list[:])\n",
    "        return\n",
    "\n",
    "    for idx, i in enumerate(nlist):\n",
    "        if not checklist[idx]:\n",
    "            checklist[idx] = True\n",
    "            perm_list.append(i)\n",
    "            new_perm(nlist, balls)\n",
    "            perm_list.pop()\n",
    "            checklist[idx] = False\n",
    "\n",
    "\n",
    "new_perm(nlist, 3)\n",
    "print(len(result))\n",
    "\n",
    "def new_comb(nlist, balls):\n",
    "\n",
    "    if len(perm_list) == balls:\n",
    "        result.append(perm_list[:])\n",
    "        return\n",
    "\n",
    "    for idx, i in enumerate(nlist):\n",
    "        perm_list.append(i)\n",
    "        new_perm(nlist[1:], balls)\n",
    "        \n",
    "\n"
   ]
  },
  {
   "cell_type": "code",
   "execution_count": 34,
   "metadata": {},
   "outputs": [
    {
     "data": {
      "text/plain": [
       "60"
      ]
     },
     "execution_count": 34,
     "metadata": {},
     "output_type": "execute_result"
    }
   ],
   "source": [
    "from itertools import permutations\n",
    "\n",
    "\n",
    "len(list(permutations('asdgf',3)))\n"
   ]
  },
  {
   "cell_type": "code",
   "execution_count": 36,
   "metadata": {},
   "outputs": [
    {
     "name": "stdout",
     "output_type": "stream",
     "text": [
      "2 x 1 = 2\n",
      "2 x 2 = 4\n",
      "2 x 3 = 6\n",
      "2 x 4 = 8\n",
      "2 x 6 = 12\n",
      "2 x 7 = 14\n",
      "2 x 8 = 16\n",
      "2 x 9 = 18\n",
      "3 x 1 = 3\n",
      "3 x 2 = 6\n",
      "3 x 3 = 9\n",
      "3 x 4 = 12\n",
      "3 x 6 = 18\n",
      "3 x 7 = 21\n",
      "3 x 8 = 24\n",
      "3 x 9 = 27\n",
      "4 x 1 = 4\n",
      "4 x 2 = 8\n",
      "4 x 3 = 12\n",
      "4 x 4 = 16\n",
      "4 x 6 = 24\n",
      "4 x 7 = 28\n",
      "4 x 8 = 32\n",
      "4 x 9 = 36\n",
      "5 x 1 = 5\n",
      "5 x 2 = 10\n",
      "5 x 3 = 15\n",
      "5 x 4 = 20\n",
      "5 x 6 = 30\n",
      "5 x 7 = 35\n",
      "5 x 8 = 40\n",
      "5 x 9 = 45\n",
      "6 x 1 = 6\n",
      "6 x 2 = 12\n",
      "6 x 3 = 18\n",
      "6 x 4 = 24\n",
      "6 x 6 = 36\n",
      "6 x 7 = 42\n",
      "6 x 8 = 48\n",
      "6 x 9 = 54\n",
      "7 x 1 = 7\n",
      "7 x 2 = 14\n",
      "7 x 3 = 21\n",
      "7 x 4 = 28\n",
      "7 x 6 = 42\n",
      "7 x 7 = 49\n",
      "7 x 8 = 56\n",
      "7 x 9 = 63\n",
      "8 x 1 = 8\n",
      "8 x 2 = 16\n",
      "8 x 3 = 24\n",
      "8 x 4 = 32\n",
      "8 x 6 = 48\n",
      "8 x 7 = 56\n",
      "8 x 8 = 64\n",
      "8 x 9 = 72\n",
      "9 x 1 = 9\n",
      "9 x 2 = 18\n",
      "9 x 3 = 27\n",
      "9 x 4 = 36\n",
      "9 x 6 = 54\n",
      "9 x 7 = 63\n",
      "9 x 8 = 72\n",
      "9 x 9 = 81\n"
     ]
    }
   ],
   "source": [
    "# continue 사용\n",
    "\n",
    "# 2단부터 구구단 사용 중간에 5를 곱하는 부분은 빼고 출력\n",
    "\n",
    "for i in range(2,10):\n",
    "    for j in range(1,10):\n",
    "        if j == 5 :\n",
    "            continue\n",
    "        print(f\"{i} x {j} = {i*j}\")"
   ]
  },
  {
   "cell_type": "code",
   "execution_count": 46,
   "metadata": {},
   "outputs": [
    {
     "name": "stdout",
     "output_type": "stream",
     "text": [
      "(0.633, -2.633)\n"
     ]
    }
   ],
   "source": [
    "a = 3\n",
    "b = 6\n",
    "c = -5\n",
    "\n",
    "result = (round((((b**2-4*a*c)**(0.5))-b)/(2*a),3),round(((-(b**2-4*a*c)**(0.5))-b)/(2*a),3))\n",
    "\n",
    "print(result)"
   ]
  },
  {
   "cell_type": "code",
   "execution_count": 48,
   "metadata": {},
   "outputs": [
    {
     "name": "stdout",
     "output_type": "stream",
     "text": [
      "취업 준비생에게 SW 역량 향상 교육 및 다양한 취업지원 서비스를 제공하여 취업에 성공하도록 돕는 프로그램입니다.\n"
     ]
    }
   ],
   "source": [
    "p_tag = \"<p>취업 준비생에게 SW 역량 향상 교육 및 다양한 취업지원 서비스를 제공하여 취업에 성공하도록 돕는 프로그램입니다.</p>\"\n",
    "\n",
    "result = p_tag[3:-4]\n",
    "\n",
    "print(result)"
   ]
  },
  {
   "cell_type": "code",
   "execution_count": 55,
   "metadata": {},
   "outputs": [
    {
     "name": "stdout",
     "output_type": "stream",
     "text": [
      "Fail\n"
     ]
    }
   ],
   "source": [
    "str_lst = input('문자열을 입력하세요. : ')\n",
    "\n",
    "f_word,s_word,t_word = str_lst.lower().split()\n",
    "\n",
    "if f_word[-1] == s_word[0] and s_word[-1] == t_word[0]:\n",
    "    print(\"Pass\")\n",
    "else : \n",
    "    print(\"Fail\")\n"
   ]
  },
  {
   "cell_type": "code",
   "execution_count": 12,
   "metadata": {},
   "outputs": [
    {
     "name": "stdout",
     "output_type": "stream",
     "text": [
      "스테이크          50,000\n",
      "+ VAT             7,500\n",
      "총계  W          57,500\n"
     ]
    }
   ],
   "source": [
    "steak_price = 50000\n",
    "VAT = int(steak_price * 0.15)\n",
    "price_all = steak_price + VAT\n",
    "\n",
    "print(f'스테이크 {steak_price:>15,}')\n",
    "print(f'+ VAT   {VAT:>15,}')\n",
    "print(f'총계  W {price_all:>15,}')"
   ]
  },
  {
   "cell_type": "code",
   "execution_count": 27,
   "metadata": {},
   "outputs": [
    {
     "name": "stdout",
     "output_type": "stream",
     "text": [
      "[('Python Homework', 3), ('Assay', 4), ('Vacation', 100), ('soccer', 10)]\n"
     ]
    }
   ],
   "source": [
    "todo = [(\"Python Homework\", 3), (\"Assay\", 4), (\"Vacation\", 100)]\n",
    "\n",
    "what_todo = input()\n",
    "date_todo = int(input())\n",
    "\n",
    "todo.append((what_todo,date_todo))\n",
    "print(todo)"
   ]
  },
  {
   "cell_type": "code",
   "execution_count": 29,
   "metadata": {},
   "outputs": [
    {
     "data": {
      "text/plain": [
       "[('Python Homework', 3),\n",
       " ('Assay', 4),\n",
       " ('Vacation', 100),\n",
       " ('soccer', 10),\n",
       " ('234', 234),\n",
       " ('234', 234)]"
      ]
     },
     "execution_count": 29,
     "metadata": {},
     "output_type": "execute_result"
    }
   ],
   "source": [
    "todo.insert(4,(\"234\",234))\n",
    "todo"
   ]
  },
  {
   "cell_type": "code",
   "execution_count": 21,
   "metadata": {},
   "outputs": [
    {
     "name": "stdout",
     "output_type": "stream",
     "text": [
      "14\n",
      "['핫초코', '카푸치노', '카라멜마키야또', '에스프레소', '아이스카라멜마키야또', '아이스아메리카노', '아이스라떼', '아메리카노', '라떼마키야또']\n"
     ]
    }
   ],
   "source": [
    "orders = '아이스아메리카노,카라멜마키야또,에스프레소,아메리카노,아메리카노,아이스라떼,핫초코,아이스아메리카노,아메리카노,아이스카라멜마키야또,아이스라떼,라떼마키야또,카푸치노,라떼마키야또'\n",
    "\n",
    "orders = orders.split(\",\")\n",
    "\n",
    "print(len(orders))\n",
    "print(sorted(list(set(orders)),reverse=True))"
   ]
  },
  {
   "cell_type": "code",
   "execution_count": 1,
   "metadata": {},
   "outputs": [
    {
     "name": "stdout",
     "output_type": "stream",
     "text": [
      "5\n",
      "{'아이스아메리카노': 2, '카라멜마키야또': 1, '에스프레소': 1, '아메리카노': 3, '아이스라떼': 2, '핫초코': 1, '아이스카라멜마키야또': 1, '라떼마키야또': 2, '카푸치노': 1}\n"
     ]
    }
   ],
   "source": [
    "orders = '아이스아메리카노,카라멜마키야또,에스프레소,아메리카노,아메리카노,아이스라떼,핫초코,아이스아메리카노,아메리카노,아이스카라멜마키야또,아이스라떼,라떼마키야또,카푸치노,라떼마키야또'\n",
    "\n",
    "orders = orders.split(\",\")\n",
    "cnt = 0\n",
    "result = []\n",
    "count_list = [1] * len(list(set(orders))) \n",
    "orders_dict = {}\n",
    "\n",
    "for i in orders:\n",
    "    if \"아이스\" in i: # 아이스 포함시 cnt+1\n",
    "        cnt+=1\n",
    "\n",
    "print(cnt)\n",
    "\n",
    "for i in orders:\n",
    "    if i in result:\n",
    "        count_list[result.index(i)] += 1 # 메뉴 등장 했었으면 수량 +1 시키고 메뉴등록 스킵\n",
    "        continue\n",
    "    result.append(i) # 메뉴 등장안했으면 메뉴 등록\n",
    "\n",
    "for i in range(len(result)):\n",
    "    orders_dict[result[i]] = count_list[i] # 메뉴와 수량 매칭시키기\n",
    "\n",
    "print(orders_dict)  "
   ]
  },
  {
   "cell_type": "code",
   "execution_count": 2,
   "metadata": {},
   "outputs": [],
   "source": [
    "def mergesort(nlist,start,end):\n",
    "\n",
    "    mid = (end - start) // 2\n",
    "    if start < mid :\n",
    "        left = mergesort(nlist[:mid],start,mid)\n",
    "        right = mergesort(nlist[mid:],mid,end)\n",
    "\n",
    "    i,j = 0,0\n",
    "    while i < len(left) and j < len(right):\n",
    "        if left[i] < right[j]:\n",
    "            result.append(left[i])\n",
    "            i+=1\n",
    "        else :\n",
    "            result.append(right[j])\n",
    "            j+=1\n",
    "\n",
    "    while i < len(left) or j < len(right):\n",
    "        if i >= len(left) :\n",
    "            result.append(right[j])\n",
    "            j+=1\n",
    "        else :\n",
    "            result.append(left[i])\n",
    "            i+=1\n",
    "\n",
    "    \n",
    "\n",
    "nlist = [6,3,9,1,4,7,8]\n",
    "result = []"
   ]
  },
  {
   "cell_type": "code",
   "execution_count": null,
   "metadata": {},
   "outputs": [],
   "source": []
  }
 ],
 "metadata": {
  "kernelspec": {
   "display_name": "Python 3",
   "language": "python",
   "name": "python3"
  },
  "language_info": {
   "codemirror_mode": {
    "name": "ipython",
    "version": 3
   },
   "file_extension": ".py",
   "mimetype": "text/x-python",
   "name": "python",
   "nbconvert_exporter": "python",
   "pygments_lexer": "ipython3",
   "version": "3.9.12 (tags/v3.9.12:b28265d, Mar 23 2022, 23:52:46) [MSC v.1929 64 bit (AMD64)]"
  },
  "orig_nbformat": 4,
  "vscode": {
   "interpreter": {
    "hash": "c4b9ebf4ca459396e2ad1150752490c26670c1a037c08cad955a4425787bec2e"
   }
  }
 },
 "nbformat": 4,
 "nbformat_minor": 2
}
