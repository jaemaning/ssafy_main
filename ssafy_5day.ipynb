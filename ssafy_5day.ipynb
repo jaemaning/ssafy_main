{
 "cells": [
  {
   "attachments": {},
   "cell_type": "markdown",
   "metadata": {},
   "source": [
    "## 5일차\n",
    "\n",
    "### 함수 def\n"
   ]
  },
  {
   "cell_type": "code",
   "execution_count": 1,
   "metadata": {},
   "outputs": [
    {
     "name": "stdout",
     "output_type": "stream",
     "text": [
      "\u001b[1;31mSignature:\u001b[0m \u001b[0mpstdev\u001b[0m\u001b[1;33m(\u001b[0m\u001b[0mdata\u001b[0m\u001b[1;33m,\u001b[0m \u001b[0mmu\u001b[0m\u001b[1;33m=\u001b[0m\u001b[1;32mNone\u001b[0m\u001b[1;33m)\u001b[0m\u001b[1;33m\u001b[0m\u001b[1;33m\u001b[0m\u001b[0m\n",
      "\u001b[1;31mDocstring:\u001b[0m docstring 자리 : 함수 설명을 입력해라\n",
      "\u001b[1;31mFile:\u001b[0m      c:\\users\\ssafy\\appdata\\local\\temp\\ipykernel_16532\\1321888527.py\n",
      "\u001b[1;31mType:\u001b[0m      function"
     ]
    }
   ],
   "source": [
    "def pstdev(data, mu=None):\n",
    "    \"\"\"\n",
    "    docstring 자리 : 함수 설명을 입력해라\n",
    "    \"\"\"\n",
    "\n",
    "    return data + 1\n",
    "\n",
    "\n",
    "pstdev?"
   ]
  },
  {
   "cell_type": "code",
   "execution_count": 4,
   "metadata": {},
   "outputs": [
    {
     "name": "stdout",
     "output_type": "stream",
     "text": [
      "(1, 2, 3, 4)\n"
     ]
    }
   ],
   "source": [
    "def function_name(*args):\n",
    "    print(args)\n",
    "\n",
    "function_name(1,2,3,4)"
   ]
  },
  {
   "attachments": {},
   "cell_type": "markdown",
   "metadata": {},
   "source": [
    "1. built-in namespace\n",
    " - sum(),len() 같이 내장함수\n",
    "2. global namespace(scope)\n",
    " - .py 같은 파이썬 파일 내 전체\n",
    "3. local namespace\n",
    " - def 함수 내 공간\n",
    "4. enclosing namespace\n",
    " - def 함수 주변공간 \n",
    " - ex1)\n",
    "\n",
    "## python scope => LEGB 순서 Local -> Enclosing -> Global -> Built-in"
   ]
  },
  {
   "cell_type": "code",
   "execution_count": 6,
   "metadata": {},
   "outputs": [
    {
     "name": "stdout",
     "output_type": "stream",
     "text": [
      "1\n",
      "2\n"
     ]
    }
   ],
   "source": [
    "# ex1)\n",
    "def a():\n",
    "    print(1)\n",
    "    ## 이곳까지 b의 enclosing namespace and a의 local namespace\n",
    "    def b():\n",
    "        print(2)\n",
    "\n",
    "    b()\n",
    "    ## 이곳까지 b의 enclosing namespace and a의 local namespace\n",
    "\n",
    "a()"
   ]
  },
  {
   "cell_type": "code",
   "execution_count": 4,
   "metadata": {},
   "outputs": [
    {
     "name": "stdout",
     "output_type": "stream",
     "text": [
      "로컬\n",
      "인클로징\n"
     ]
    }
   ],
   "source": [
    "x = '글로벌'\n",
    "\n",
    "def func1():\n",
    "    global x\n",
    "    x = '인클로징'\n",
    "\n",
    "    def func2(a,b):\n",
    "        x = '로컬'\n",
    "        print(x)\n",
    "        # print(locals())\n",
    "        # print(globals())\n",
    "\n",
    "    func2(2, 3)\n",
    "\n",
    "func1()\n",
    "print(x)"
   ]
  },
  {
   "cell_type": "code",
   "execution_count": 7,
   "metadata": {},
   "outputs": [
    {
     "name": "stdout",
     "output_type": "stream",
     "text": [
      "[1, 2, 3, 4]\n"
     ]
    }
   ],
   "source": [
    "my_list = [1,2,3,4]\n",
    "\n",
    "def func3():\n",
    "    my_list = [5,6,7]\n",
    "    # my_list[1] = 5554\n",
    "\n",
    "func3()\n",
    "print(my_list)"
   ]
  },
  {
   "cell_type": "code",
   "execution_count": 4,
   "metadata": {},
   "outputs": [
    {
     "name": "stdout",
     "output_type": "stream",
     "text": [
      "3\n",
      "3\n",
      "1\n"
     ]
    }
   ],
   "source": [
    "x = 1\n",
    "\n",
    "def func1():\n",
    "    x = 2\n",
    "\n",
    "    def func2():\n",
    "        nonlocal x   # enclosing x 수정\n",
    "        x = 3\n",
    "        print(x)\n",
    "\n",
    "    func2()\n",
    "    print(x)\n",
    "\n",
    "func1()\n",
    "print(x)\n"
   ]
  },
  {
   "cell_type": "code",
   "execution_count": 1,
   "metadata": {},
   "outputs": [
    {
     "name": "stdout",
     "output_type": "stream",
     "text": [
      "20\n"
     ]
    },
    {
     "ename": "NameError",
     "evalue": "name 'x' is not defined",
     "output_type": "error",
     "traceback": [
      "\u001b[1;31m---------------------------------------------------------------------------\u001b[0m",
      "\u001b[1;31mNameError\u001b[0m                                 Traceback (most recent call last)",
      "Cell \u001b[1;32mIn[1], line 12\u001b[0m\n\u001b[0;32m      9\u001b[0m     \u001b[39mprint\u001b[39m(x)\n\u001b[0;32m     11\u001b[0m func1()\n\u001b[1;32m---> 12\u001b[0m \u001b[39mprint\u001b[39m(x)\n",
      "\u001b[1;31mNameError\u001b[0m: name 'x' is not defined"
     ]
    }
   ],
   "source": [
    "def func1():\n",
    "    x = 10\n",
    "\n",
    "    def func2():\n",
    "        nonlocal x\n",
    "        x = 20\n",
    "\n",
    "    func2()\n",
    "    print(x)\n",
    "\n",
    "func1()\n",
    "print(x)"
   ]
  },
  {
   "cell_type": "code",
   "execution_count": 2,
   "metadata": {},
   "outputs": [
    {
     "name": "stdout",
     "output_type": "stream",
     "text": [
      "6\n",
      "1\n",
      "6\n"
     ]
    }
   ],
   "source": [
    "a = [1,2,3]\n",
    "print(sum(a))  ## built-in 함수 sum\n",
    "\n",
    "sum = 1   ## global 변수 sum 지정\n",
    "print(sum)\n",
    "\n",
    "del sum   ## global 변수 sum 삭제\n",
    "print(sum(a))\n",
    "\n",
    "# L-E-G-B 순서 이기 떄문에 global에 변수 sum 이 있으면 built-in 에 있는 sum 함수 사용 x"
   ]
  },
  {
   "cell_type": "code",
   "execution_count": 3,
   "metadata": {},
   "outputs": [
    {
     "name": "stdout",
     "output_type": "stream",
     "text": [
      "[[0, 0, 0, 0, 0], [0, 0, 0, 0, 0], [0, 0, 0, 0, 0], [0, 0, 0, 0, 0], [0, 0, 0, 0, 0]]\n",
      "3 2\n",
      "3 3\n",
      "3 4\n",
      "최종위치 : 3,4\n"
     ]
    },
    {
     "data": {
      "text/plain": [
       "'\\nwhile #큐  :\\n    for i in range(4):\\n\\n        nx = 1+dx[i]\\n        ny = 1+dx[i]\\n\\n        if not nx < 0 or ny < 0 or nx > 5 or ny > 5   # 배열 밖으로 튕겨져나감 방지\\n'"
      ]
     },
     "execution_count": 3,
     "metadata": {},
     "output_type": "execute_result"
    }
   ],
   "source": [
    "'''\n",
    " 2차원 리스트 문제 시 풀이 방법\n",
    "'''\n",
    "\n",
    "n = 5\n",
    "\n",
    "xy_list = [[0] * n for _ in range(n)]\n",
    "print(xy_list)\n",
    "\n",
    "now = [2,2]\n",
    "# 상하좌우\n",
    "# 0 1 2 3\n",
    "dx = [-1,1,0,0]\n",
    "dy = [0,0,-1,1]\n",
    "\n",
    "moves = [1,3,3]  # 하 우 우\n",
    "\n",
    "for d in moves:\n",
    "    nx = now[0] + dx[d]\n",
    "    ny = now[1] + dy[d]\n",
    "    print(nx,ny)\n",
    "    now = [nx,ny]  # 위치 저장 최신화\n",
    "\n",
    "print(f\"최종위치 : {nx},{ny}\")\n",
    "\n",
    "# 동서남북\n",
    "# dx = [0,0,1,-1]\n",
    "# dy = [1,-1,0,0]\n",
    "\n",
    "###  1,1 에서 시작해서 상하 좌우 움직여 4,4로 도달  BFS\n",
    "\n",
    "'''\n",
    "while #큐  :\n",
    "    for i in range(4):\n",
    "\n",
    "        nx = 1+dx[i]\n",
    "        ny = 1+dx[i]\n",
    "\n",
    "        if not nx < 0 or ny < 0 or nx > 5 or ny > 5   # 배열 밖으로 튕겨져나감 방지\n",
    "'''\n",
    "\n",
    "\n",
    "\n"
   ]
  }
 ],
 "metadata": {
  "kernelspec": {
   "display_name": "Python 3",
   "language": "python",
   "name": "python3"
  },
  "language_info": {
   "codemirror_mode": {
    "name": "ipython",
    "version": 3
   },
   "file_extension": ".py",
   "mimetype": "text/x-python",
   "name": "python",
   "nbconvert_exporter": "python",
   "pygments_lexer": "ipython3",
   "version": "3.9.12"
  },
  "orig_nbformat": 4,
  "vscode": {
   "interpreter": {
    "hash": "c4b9ebf4ca459396e2ad1150752490c26670c1a037c08cad955a4425787bec2e"
   }
  }
 },
 "nbformat": 4,
 "nbformat_minor": 2
}
