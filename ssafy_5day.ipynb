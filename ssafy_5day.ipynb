{
 "cells": [
  {
   "attachments": {},
   "cell_type": "markdown",
   "metadata": {},
   "source": [
    "## 5일차\n",
    "\n",
    "### 함수 def\n"
   ]
  },
  {
   "cell_type": "code",
   "execution_count": 1,
   "metadata": {},
   "outputs": [
    {
     "name": "stdout",
     "output_type": "stream",
     "text": [
      "\u001b[1;31mSignature:\u001b[0m \u001b[0mpstdev\u001b[0m\u001b[1;33m(\u001b[0m\u001b[0mdata\u001b[0m\u001b[1;33m,\u001b[0m \u001b[0mmu\u001b[0m\u001b[1;33m=\u001b[0m\u001b[1;32mNone\u001b[0m\u001b[1;33m)\u001b[0m\u001b[1;33m\u001b[0m\u001b[1;33m\u001b[0m\u001b[0m\n",
      "\u001b[1;31mDocstring:\u001b[0m docstring 자리 : 함수 설명을 입력해라\n",
      "\u001b[1;31mFile:\u001b[0m      c:\\users\\ssafy\\appdata\\local\\temp\\ipykernel_16532\\1321888527.py\n",
      "\u001b[1;31mType:\u001b[0m      function"
     ]
    }
   ],
   "source": [
    "def pstdev(data, mu=None):\n",
    "    \"\"\"\n",
    "    docstring 자리 : 함수 설명을 입력해라\n",
    "    \"\"\"\n",
    "\n",
    "    return data + 1\n",
    "\n",
    "\n",
    "pstdev?"
   ]
  },
  {
   "cell_type": "code",
   "execution_count": 4,
   "metadata": {},
   "outputs": [
    {
     "name": "stdout",
     "output_type": "stream",
     "text": [
      "(1, 2, 3, 4)\n"
     ]
    }
   ],
   "source": [
    "def function_name(*args):\n",
    "    print(args)\n",
    "\n",
    "function_name(1,2,3,4)"
   ]
  },
  {
   "attachments": {},
   "cell_type": "markdown",
   "metadata": {},
   "source": [
    "1. built-in namespace\n",
    " - sum(),len() 같이 내장함수\n",
    "2. global namespace(scope)\n",
    " - .py 같은 파이썬 파일 내 전체\n",
    "3. local namespace\n",
    " - def 함수 내 공간\n",
    "4. enclosing namespace\n",
    " - def 함수 주변공간 \n",
    " - ex1)\n",
    "\n",
    "## python scope => LEGB 순서 Local -> Enclosing -> Global -> Built-in"
   ]
  },
  {
   "cell_type": "code",
   "execution_count": 6,
   "metadata": {},
   "outputs": [
    {
     "name": "stdout",
     "output_type": "stream",
     "text": [
      "1\n",
      "2\n"
     ]
    }
   ],
   "source": [
    "# ex1)\n",
    "def a():\n",
    "    print(1)\n",
    "    ## 이곳까지 b의 enclosing namespace and a의 local namespace\n",
    "    def b():\n",
    "        print(2)\n",
    "\n",
    "    b()\n",
    "    ## 이곳까지 b의 enclosing namespace and a의 local namespace\n",
    "\n",
    "a()"
   ]
  },
  {
   "cell_type": "code",
   "execution_count": 4,
   "metadata": {},
   "outputs": [
    {
     "name": "stdout",
     "output_type": "stream",
     "text": [
      "로컬\n",
      "인클로징\n"
     ]
    }
   ],
   "source": [
    "x = '글로벌'\n",
    "\n",
    "def func1():\n",
    "    global x\n",
    "    x = '인클로징'\n",
    "\n",
    "    def func2(a,b):\n",
    "        x = '로컬'\n",
    "        print(x)\n",
    "        # print(locals())\n",
    "        # print(globals())\n",
    "\n",
    "    func2(2, 3)\n",
    "\n",
    "func1()\n",
    "print(x)"
   ]
  },
  {
   "cell_type": "code",
   "execution_count": 7,
   "metadata": {},
   "outputs": [
    {
     "name": "stdout",
     "output_type": "stream",
     "text": [
      "[1, 2, 3, 4]\n"
     ]
    }
   ],
   "source": [
    "my_list = [1,2,3,4]\n",
    "\n",
    "def func3():\n",
    "    my_list = [5,6,7]\n",
    "    # my_list[1] = 5554\n",
    "\n",
    "func3()\n",
    "print(my_list)"
   ]
  },
  {
   "cell_type": "code",
   "execution_count": 4,
   "metadata": {},
   "outputs": [
    {
     "name": "stdout",
     "output_type": "stream",
     "text": [
      "3\n",
      "3\n",
      "1\n"
     ]
    }
   ],
   "source": [
    "x = 1\n",
    "\n",
    "def func1():\n",
    "    x = 2\n",
    "\n",
    "    def func2():\n",
    "        nonlocal x   # enclosing x 수정\n",
    "        x = 3\n",
    "        print(x)\n",
    "\n",
    "    func2()\n",
    "    print(x)\n",
    "\n",
    "func1()\n",
    "print(x)\n"
   ]
  },
  {
   "cell_type": "code",
   "execution_count": 1,
   "metadata": {},
   "outputs": [
    {
     "name": "stdout",
     "output_type": "stream",
     "text": [
      "20\n"
     ]
    },
    {
     "ename": "NameError",
     "evalue": "name 'x' is not defined",
     "output_type": "error",
     "traceback": [
      "\u001b[1;31m---------------------------------------------------------------------------\u001b[0m",
      "\u001b[1;31mNameError\u001b[0m                                 Traceback (most recent call last)",
      "Cell \u001b[1;32mIn[1], line 12\u001b[0m\n\u001b[0;32m      9\u001b[0m     \u001b[39mprint\u001b[39m(x)\n\u001b[0;32m     11\u001b[0m func1()\n\u001b[1;32m---> 12\u001b[0m \u001b[39mprint\u001b[39m(x)\n",
      "\u001b[1;31mNameError\u001b[0m: name 'x' is not defined"
     ]
    }
   ],
   "source": [
    "def func1():\n",
    "    x = 10\n",
    "\n",
    "    def func2():\n",
    "        nonlocal x\n",
    "        x = 20\n",
    "\n",
    "    func2()\n",
    "    print(x)\n",
    "\n",
    "func1()\n",
    "print(x)"
   ]
  },
  {
   "cell_type": "code",
   "execution_count": 2,
   "metadata": {},
   "outputs": [
    {
     "name": "stdout",
     "output_type": "stream",
     "text": [
      "6\n",
      "1\n",
      "6\n"
     ]
    }
   ],
   "source": [
    "a = [1,2,3]\n",
    "print(sum(a))  ## built-in 함수 sum\n",
    "\n",
    "sum = 1   ## global 변수 sum 지정\n",
    "print(sum)\n",
    "\n",
    "del sum   ## global 변수 sum 삭제\n",
    "print(sum(a))\n",
    "\n",
    "# L-E-G-B 순서 이기 떄문에 global에 변수 sum 이 있으면 built-in 에 있는 sum 함수 사용 x"
   ]
  }
 ],
 "metadata": {
  "kernelspec": {
   "display_name": "Python 3",
   "language": "python",
   "name": "python3"
  },
  "language_info": {
   "codemirror_mode": {
    "name": "ipython",
    "version": 3
   },
   "file_extension": ".py",
   "mimetype": "text/x-python",
   "name": "python",
   "nbconvert_exporter": "python",
   "pygments_lexer": "ipython3",
   "version": "3.9.12"
  },
  "orig_nbformat": 4,
  "vscode": {
   "interpreter": {
    "hash": "c4b9ebf4ca459396e2ad1150752490c26670c1a037c08cad955a4425787bec2e"
   }
  }
 },
 "nbformat": 4,
 "nbformat_minor": 2
}
