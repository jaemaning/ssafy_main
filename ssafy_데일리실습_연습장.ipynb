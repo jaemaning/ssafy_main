{
 "cells": [
  {
   "cell_type": "code",
   "execution_count": 20,
   "metadata": {},
   "outputs": [
    {
     "name": "stdout",
     "output_type": "stream",
     "text": [
      "84.25\n"
     ]
    }
   ],
   "source": [
    "score = {\n",
    "    'python': 80,\n",
    "    'django': 89,\n",
    "    'web': 83\n",
    "}\n",
    "\n",
    "score[\"algorithm\"] = 90 # 1 algorithm 과목 점수 입력\n",
    "score[\"python\"] = 85 # 2 python 과목 점수 변경\n",
    "\n",
    "# 전체과목 평균 점수 구하기\n",
    "print(sum(score.values()) / len(score.values()))"
   ]
  },
  {
   "cell_type": "code",
   "execution_count": 1,
   "metadata": {},
   "outputs": [
    {
     "name": "stdout",
     "output_type": "stream",
     "text": [
      "c:\\python_project\\test\n"
     ]
    }
   ],
   "source": [
    "print(\"c:\\\\python_project\\\\test\")"
   ]
  },
  {
   "cell_type": "code",
   "execution_count": 6,
   "metadata": {},
   "outputs": [
    {
     "name": "stdout",
     "output_type": "stream",
     "text": [
      "5\n"
     ]
    }
   ],
   "source": [
    "boards_num = int(input(\"게시글의 총 갯수를 입력하세요 : \"))\n",
    "page_boards_num = int(input(\"한 페이지에 필요한 게시글 수를 입력하세요 : \"))\n",
    "\n",
    "if boards_num % page_boards_num == 0 :\n",
    "    print(boards_num // page_boards_num)\n",
    "else :\n",
    "    print(boards_num // page_boards_num + 1)"
   ]
  },
  {
   "cell_type": "code",
   "execution_count": 8,
   "metadata": {},
   "outputs": [
    {
     "name": "stdout",
     "output_type": "stream",
     "text": [
      "# 이싸피\n",
      "\n",
      "\n",
      "# 김코딩\n"
     ]
    }
   ],
   "source": [
    "person1 = input(\"첫 번째 사람의 이름을 입력하시오: \")\n",
    "person2 = input(\"두 번째 사람의 이름을 입력하시오: \")\n",
    "\n",
    "print(f\"{person1}\\n\\n\\n{person2}\")"
   ]
  },
  {
   "cell_type": "code",
   "execution_count": 13,
   "metadata": {},
   "outputs": [
    {
     "data": {
      "text/plain": [
       "284787"
      ]
     },
     "execution_count": 13,
     "metadata": {},
     "output_type": "execute_result"
    }
   ],
   "source": [
    "result = []\n",
    "for i in range(1,1000):\n",
    "    if i % 2 == 0 or i % 7 == 0:\n",
    "        result.append(i)\n",
    "\n",
    "sum(result)"
   ]
  },
  {
   "cell_type": "code",
   "execution_count": 15,
   "metadata": {},
   "outputs": [
    {
     "name": "stdout",
     "output_type": "stream",
     "text": [
      "****\n",
      "****\n",
      "****\n",
      "****\n",
      "****\n"
     ]
    }
   ],
   "source": [
    "m = 5\n",
    "n = 4\n",
    "\n",
    "for i in range(m):\n",
    "    print(\"*\"*n)"
   ]
  }
 ],
 "metadata": {
  "kernelspec": {
   "display_name": "Python 3",
   "language": "python",
   "name": "python3"
  },
  "language_info": {
   "codemirror_mode": {
    "name": "ipython",
    "version": 3
   },
   "file_extension": ".py",
   "mimetype": "text/x-python",
   "name": "python",
   "nbconvert_exporter": "python",
   "pygments_lexer": "ipython3",
   "version": "3.9.12 (tags/v3.9.12:b28265d, Mar 23 2022, 23:52:46) [MSC v.1929 64 bit (AMD64)]"
  },
  "orig_nbformat": 4,
  "vscode": {
   "interpreter": {
    "hash": "c4b9ebf4ca459396e2ad1150752490c26670c1a037c08cad955a4425787bec2e"
   }
  }
 },
 "nbformat": 4,
 "nbformat_minor": 2
}
