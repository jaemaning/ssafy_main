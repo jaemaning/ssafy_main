{
 "cells": [
  {
   "cell_type": "code",
   "execution_count": 20,
   "metadata": {},
   "outputs": [
    {
     "name": "stdout",
     "output_type": "stream",
     "text": [
      "84.25\n"
     ]
    }
   ],
   "source": [
    "score = {\n",
    "    'python': 80,\n",
    "    'django': 89,\n",
    "    'web': 83\n",
    "}\n",
    "\n",
    "score[\"algorithm\"] = 90 # 1 algorithm 과목 점수 입력\n",
    "score[\"python\"] = 85 # 2 python 과목 점수 변경\n",
    "\n",
    "# 전체과목 평균 점수 구하기\n",
    "print(sum(score.values()) / len(score.values()))"
   ]
  },
  {
   "cell_type": "code",
   "execution_count": 1,
   "metadata": {},
   "outputs": [
    {
     "name": "stdout",
     "output_type": "stream",
     "text": [
      "c:\\python_project\\test\n"
     ]
    }
   ],
   "source": [
    "print(\"c:\\\\python_project\\\\test\")"
   ]
  },
  {
   "cell_type": "code",
   "execution_count": 6,
   "metadata": {},
   "outputs": [
    {
     "name": "stdout",
     "output_type": "stream",
     "text": [
      "5\n"
     ]
    }
   ],
   "source": [
    "boards_num = int(input(\"게시글의 총 갯수를 입력하세요 : \"))\n",
    "page_boards_num = int(input(\"한 페이지에 필요한 게시글 수를 입력하세요 : \"))\n",
    "\n",
    "if boards_num % page_boards_num == 0 :\n",
    "    print(boards_num // page_boards_num)\n",
    "else :\n",
    "    print(boards_num // page_boards_num + 1)"
   ]
  },
  {
   "cell_type": "code",
   "execution_count": 8,
   "metadata": {},
   "outputs": [
    {
     "name": "stdout",
     "output_type": "stream",
     "text": [
      "# 이싸피\n",
      "\n",
      "\n",
      "# 김코딩\n"
     ]
    }
   ],
   "source": [
    "person1 = input(\"첫 번째 사람의 이름을 입력하시오: \")\n",
    "person2 = input(\"두 번째 사람의 이름을 입력하시오: \")\n",
    "\n",
    "print(f\"{person1}\\n\\n\\n{person2}\")"
   ]
  },
  {
   "cell_type": "code",
   "execution_count": 13,
   "metadata": {},
   "outputs": [
    {
     "data": {
      "text/plain": [
       "284787"
      ]
     },
     "execution_count": 13,
     "metadata": {},
     "output_type": "execute_result"
    }
   ],
   "source": [
    "result = []\n",
    "for i in range(1,1000):\n",
    "    if i % 2 == 0 or i % 7 == 0:\n",
    "        result.append(i)\n",
    "\n",
    "sum(result)"
   ]
  },
  {
   "cell_type": "code",
   "execution_count": 2,
   "metadata": {},
   "outputs": [
    {
     "name": "stdout",
     "output_type": "stream",
     "text": [
      "['apple', 'banana', 'apple', 'orange', 'orange']\n"
     ]
    }
   ],
   "source": [
    "# 실습 3-1\n",
    "fruits_bag = \"apple,rottenBanana,apple,RoTTenorange,Orange\"\n",
    "\n",
    "fruits_list = fruits_bag.split(\",\")\n",
    "\n",
    "new_fruits_list = []\n",
    "\n",
    "for fruit in fruits_list:\n",
    "    fruit = fruit.lower()\n",
    "\n",
    "    if \"rotten\" in fruit:\n",
    "        new_fruits_list.append(fruit[6:])\n",
    "    else : \n",
    "        new_fruits_list.append(fruit)\n",
    "\n",
    "print(new_fruits_list)\n"
   ]
  },
  {
   "cell_type": "code",
   "execution_count": 6,
   "metadata": {},
   "outputs": [
    {
     "name": "stdout",
     "output_type": "stream",
     "text": [
      "r r\n"
     ]
    }
   ],
   "source": [
    "# 실습 3-2\n",
    "word = input()\n",
    "mid = len(word) // 2\n",
    "\n",
    "if len(word) % 2 == 0:\n",
    "    # 정중앙문자 2개\n",
    "    print(word[mid-1],word[mid])\n",
    "    \n",
    "else:\n",
    "    # 정중앙문자 1개\n",
    "    print(word[mid])"
   ]
  },
  {
   "cell_type": "code",
   "execution_count": 9,
   "metadata": {},
   "outputs": [
    {
     "name": "stdout",
     "output_type": "stream",
     "text": [
      "16\n"
     ]
    }
   ],
   "source": [
    "# 실습 3-3\n",
    "\n",
    "infos = [{'name': 'kim', 'age': 12}, {'name': 'lee', 'age': 4}]\n",
    "result = 0\n",
    "\n",
    "for info in infos:\n",
    "    result += info[\"age\"] \n",
    "\n",
    "print(result)"
   ]
  },
  {
   "cell_type": "code",
   "execution_count": 18,
   "metadata": {},
   "outputs": [
    {
     "name": "stdout",
     "output_type": "stream",
     "text": [
      "{'A': 4, 'B': 3, 'AB': 2, 'O': 4}\n"
     ]
    }
   ],
   "source": [
    "# 실습 3-4\n",
    "\n",
    "blood_types = [ 'A','A','O', 'B', 'A', 'O', 'AB','O', 'A', 'B', 'O', 'B', 'AB']\n",
    "\n",
    "blood_types.count(\"A\")\n",
    "\n",
    "people = {\"A\" : blood_types.count(\"A\"), \"B\" : blood_types.count(\"B\"), \"AB\" : blood_types.count(\"AB\"), \"O\" : blood_types.count(\"O\")}\n",
    "\n",
    "print(people)\n",
    "\n",
    "\n"
   ]
  },
  {
   "cell_type": "code",
   "execution_count": 1,
   "metadata": {},
   "outputs": [
    {
     "name": "stdout",
     "output_type": "stream",
     "text": [
      "{'A': 4, 'O': 4, 'B': 3, 'AB': 2}\n"
     ]
    }
   ],
   "source": [
    "# 실습 3-4\n",
    "\n",
    "blood_types = [ 'A','A','O', 'B', 'A', 'O', 'AB','O', 'A', 'B', 'O', 'B', 'AB']\n",
    "\n",
    "blood_dict = {}\n",
    "\n",
    "for blood in blood_types:\n",
    "    if blood_dict.get(blood) :\n",
    "        blood_dict[blood] += 1\n",
    "    else :\n",
    "        blood_dict[blood] = 1\n",
    "\n",
    "print(blood_dict)"
   ]
  },
  {
   "cell_type": "code",
   "execution_count": 28,
   "metadata": {},
   "outputs": [
    {
     "name": "stdout",
     "output_type": "stream",
     "text": [
      "4.0 10\n"
     ]
    }
   ],
   "source": [
    "# 실습 3-5\n",
    "sw_per_all = 0\n",
    "sw_amount_all = 0\n",
    "tmp = 0\n",
    "result_check = 1\n",
    "\n",
    "for _ in range(5):\n",
    "    try:\n",
    "        sw_per = input(\"소금물의 퍼센트 농도 ( 숫자만 입력 ) : \")\n",
    "        if sw_per.lower() == \"done\" :\n",
    "            break\n",
    "        sw_amount = int(input(\"소금물의 양 ( 숫자만 입력 ) : \"))\n",
    "\n",
    "        sw_per = int(sw_per)\n",
    "        tmp += sw_per*sw_amount\n",
    "        sw_amount_all += sw_amount\n",
    "        sw_per_all = tmp / sw_amount_all\n",
    "    except:\n",
    "        print(\"잘못 입력하셨습니다.\")\n",
    "        result_check = 0\n",
    "        break\n",
    "else:\n",
    "    Done = input(\"Done 을 입력하세요.\")\n",
    "\n",
    "if result_check :\n",
    "    print(round(sw_per_all,2),sw_amount_all)\n",
    "\n",
    "# 15 200 10 300 12 500"
   ]
  },
  {
   "cell_type": "code",
   "execution_count": 31,
   "metadata": {},
   "outputs": [
    {
     "name": "stdout",
     "output_type": "stream",
     "text": [
      "비밀번호가 1회 틀렸습니다. 기회 ( 1 / 3 ) \n",
      "비밀번호가 2회 틀렸습니다. 기회 ( 2 / 3 ) \n",
      "비밀번호가 3회 틀렸습니다. 기회 ( 3 / 3 ) \n",
      "입력기회를 초과하였습니다.\n"
     ]
    }
   ],
   "source": [
    "# 실습 4-1\n",
    "origin_pw = \"1234\"\n",
    "cnt = 0\n",
    "\n",
    "while True:\n",
    "    password = input()\n",
    "\n",
    "    if origin_pw == password :\n",
    "        print(\"ok\")\n",
    "        break\n",
    "    else:\n",
    "        cnt += 1\n",
    "        print(f\"비밀번호가 {cnt}회 틀렸습니다. 기회 ( {cnt} / 3 ) \")\n",
    "\n",
    "    if cnt == 3:\n",
    "        print(\"입력기회를 초과하였습니다.\")\n",
    "        break\n",
    "    \n",
    "\n",
    "\n"
   ]
  },
  {
   "cell_type": "code",
   "execution_count": 45,
   "metadata": {},
   "outputs": [
    {
     "name": "stdout",
     "output_type": "stream",
     "text": [
      "[('박해피', 5), ('이영희', 4), ('조민지', 3), ('김철수', 3), ('김해킹', 2), ('한케이', 2), ('강디티', 2)]\n"
     ]
    }
   ],
   "source": [
    "# 실습 4-2\n",
    "\n",
    "students = [\n",
    "    '이영희',\n",
    "    '박해피',\n",
    "    '조민지',\n",
    "    '조민지',\n",
    "    '김철수',\n",
    "    '이영희',\n",
    "    '이영희',\n",
    "    '김해킹',\n",
    "    '박해피',\n",
    "    '김철수',\n",
    "    '한케이',\n",
    "    '강디티',\n",
    "    '조민지',\n",
    "    '박해피',\n",
    "    '김철수',\n",
    "    '이영희',\n",
    "    '박해피',\n",
    "    '김해킹',\n",
    "    '박해피',\n",
    "    '한케이',\n",
    "    '강디티',\n",
    "]\n",
    "\n",
    "votes = {}\n",
    "\n",
    "for vote in students:\n",
    "    if vote in votes:\n",
    "        votes[vote] += 1\n",
    "    else :\n",
    "        votes[vote] = 1\n",
    "\n",
    "sorted_votes = sorted(votes.items(),key=lambda x: x[1],reverse=True)\n",
    "\n",
    "print(sorted_votes)"
   ]
  },
  {
   "cell_type": "code",
   "execution_count": 49,
   "metadata": {},
   "outputs": [
    {
     "name": "stdout",
     "output_type": "stream",
     "text": [
      "[1, 3, 0, 1]\n"
     ]
    }
   ],
   "source": [
    "# 실습 4-3\n",
    "\n",
    "# 입력 예시\n",
    "# [1, 1, 3, 3, 0, 1, 1]\n",
    "\n",
    "# 출력 예시\n",
    "# [1, 3, 0, 1]\n",
    "\n",
    "origin_list = [1, 1, 3, 3, 0, 1, 1]\n",
    "new_list = []\n",
    "pre_num = -1\n",
    "\n",
    "for num in origin_list:\n",
    "\n",
    "    if pre_num != num :\n",
    "        new_list.append(num)\n",
    "        pre_num = num\n",
    "        \n",
    "print(new_list)"
   ]
  },
  {
   "cell_type": "code",
   "execution_count": 57,
   "metadata": {},
   "outputs": [
    {
     "name": "stdout",
     "output_type": "stream",
     "text": [
      "G\n"
     ]
    }
   ],
   "source": [
    "# 실습 4-4\n",
    "\n",
    "word1 = input('첫 번째 이름을 입력하세요 : ')\n",
    "word2 = input('두 번째 이름을 입력하세요 : ')\n",
    "\n",
    "def checking_word(word1,word2):\n",
    "    num1 = ord(word1.lower())+ord(word1.upper())\n",
    "    num2 = ord(word2.lower())+ord(word2.upper())\n",
    "\n",
    "    if num1 >= num2 :\n",
    "        return word1\n",
    "    else:\n",
    "        return word2\n",
    "\n",
    "print(checking_word(word1,word2))"
   ]
  },
  {
   "cell_type": "code",
   "execution_count": 74,
   "metadata": {},
   "outputs": [
    {
     "name": "stdout",
     "output_type": "stream",
     "text": [
      "['염자바', '임온실', '최이썬']\n",
      "test_status = {'김싸피': 'solving', '이코딩': 'solving', '오디비': 'solving', '조실습': 'solving', '박장고': 'solving'}\n"
     ]
    }
   ],
   "source": [
    "# 실습 4-5\n",
    "test_status = {\n",
    "    '김싸피': 'solving',\n",
    "   \t'이코딩': 'solving',\n",
    "   \t'최이썬': 'cheating',\n",
    "   \t'오디비': 'sleeping',\n",
    "   \t'임온실': 'cheating',\n",
    "   \t'조실습': 'solving',\n",
    "   \t'박장고': 'sleeping',\n",
    "   \t'염자바': 'cheating'\n",
    "}\n",
    "\n",
    "new_test_status = {}\n",
    "cheating_list = []\n",
    "\n",
    "for key,value in test_status.items():\n",
    "    if value == 'sleeping' or value == 'solving' :\n",
    "        new_test_status[key] = \"solving\"\n",
    "    else : \n",
    "        cheating_list.append(key)\n",
    "\n",
    "test_status = new_test_status\n",
    "\n",
    "print(f\"{sorted(cheating_list)}\\ntest_status = {test_status}\")"
   ]
  },
  {
   "cell_type": "code",
   "execution_count": 15,
   "metadata": {},
   "outputs": [
    {
     "name": "stdout",
     "output_type": "stream",
     "text": [
      "101 False\n"
     ]
    }
   ],
   "source": [
    "# 과제 5-4\n",
    "## 1\n",
    "def fn_d(n):\n",
    "    result = 0\n",
    "    for i in str(n):\n",
    "        result += int(i)\n",
    "\n",
    "    return result + n\n",
    "\n",
    "fn_d(91)\n",
    "\n",
    "## 2 self-number\n",
    "\n",
    "def is_selfnumber(n):\n",
    "    for i in range(1,n):\n",
    "        if fn_d(i) == n :\n",
    "            return False\n",
    "\n",
    "    return True\n",
    "        \n",
    "\n",
    "print(fn_d(91),is_selfnumber(30))"
   ]
  },
  {
   "cell_type": "code",
   "execution_count": 2,
   "metadata": {},
   "outputs": [
    {
     "name": "stdout",
     "output_type": "stream",
     "text": [
      "970103*******\n",
      "861123*******\n"
     ]
    }
   ],
   "source": [
    "\n",
    "def de_identify(id_number):\n",
    "    result = id_number[:6]\n",
    "    pw_number = id_number[6:]\n",
    "    star_ = \"*\" * 7\n",
    "\n",
    "    return result+star_\n",
    "\n",
    "print(de_identify('970103-1234567'))\n",
    "print(de_identify('8611232345678'))"
   ]
  },
  {
   "cell_type": "code",
   "execution_count": 6,
   "metadata": {},
   "outputs": [
    {
     "name": "stdout",
     "output_type": "stream",
     "text": [
      "옥수수\n"
     ]
    }
   ],
   "source": [
    "grain_lst = [('고구마',3000), ('감자',2000), ('옥수수',4500),('토란',1300)]\n",
    "\n",
    "def max_price_print(grain_lst):\n",
    "    \n",
    "    max_price = -9999\n",
    "    max_name = \"\"\n",
    "\n",
    "    for grain in grain_lst:\n",
    "        name, price = grain\n",
    "        if max_price < price:\n",
    "            max_price = price\n",
    "            max_name = name\n",
    "\n",
    "\n",
    "    print(max_name)\n",
    "\n",
    "    return\n",
    "\n",
    "max_price_print(grain_lst)"
   ]
  },
  {
   "cell_type": "code",
   "execution_count": 3,
   "metadata": {},
   "outputs": [
    {
     "name": "stdout",
     "output_type": "stream",
     "text": [
      "2\n",
      "3\n"
     ]
    }
   ],
   "source": [
    "# 1. 문자열을 전달 받아 해당 문자열의 모음 갯수를 반환하는 count_vowels 함수를 작성하시오\n",
    "\n",
    "\n",
    "def count_vowels(str_):\n",
    "\n",
    "    target_alpha = ['a','e','i','o','u']\n",
    "    cnt = 0\n",
    "\n",
    "    for alpha in str_:\n",
    "        if alpha in target_alpha:\n",
    "            cnt += 1\n",
    "\n",
    "    return cnt\n",
    "\n",
    "\n",
    "print(count_vowels('apple')) #=> 2\n",
    "print(count_vowels('banana')) #=> 3"
   ]
  },
  {
   "cell_type": "code",
   "execution_count": 31,
   "metadata": {},
   "outputs": [
    {
     "name": "stdout",
     "output_type": "stream",
     "text": [
      "입장기록이 많은 Top3\n",
      "안도둑 10회\n",
      "임온실 9회\n",
      "이싸피 8회\n",
      "\n",
      "출입 기록이 수상한 사람\n",
      "최이썬은 입장 기록이 1회 더 많아 수상합니다.\n",
      "염자바은 퇴장 기록이 2회 더 많아 수상합니다.\n"
     ]
    }
   ],
   "source": [
    "from collections import Counter\n",
    "\n",
    "\n",
    "entry_record = ['이싸피', '박장고', '조실습', '이싸피', '조실습', '오디비', '임온실', '조실습', '조실습', '이싸피', '안도둑', '임온실', '최이썬', '오디비', '안도둑', '염자바', '박장고', '조실습',\n",
    "                '최이썬', '조실습', '염자바', '박장고', '임온실', '임온실', '이싸피', '임온실', '오디비', '조실습', '염자바', '임온실', '박장고', '최이썬', '안도둑', '염자바', '임온실', '박장고', '이싸피', '안도둑',\n",
    "                '임온실', '오디비', '최이썬', '안도둑', '이싸피', '오디비', '안도둑', '이싸피', '박장고', '박장고', '안도둑', '안도둑', '안도둑', '염자바', '최이썬', '오디비', '오디비', '최이썬', '이싸피', '임온실', '안도둑']\n",
    "\n",
    "exit_record = ['최이썬', '조실습', '이싸피', '안도둑', '임온실', '안도둑', '이싸피', '오디비', '염자바', '박장고', '최이썬', '이싸피', '염자바', '염자바', '박장고', '임온실', '이싸피',\n",
    "               '박장고', '안도둑', '염자바', '이싸피', '조실습', '조실습', '임온실', '박장고', '이싸피', '조실습', '박장고', '오디비', '안도둑', '조실습', '임온실', '안도둑', '안도둑', '임온실', '조실습', '최이썬', '안도둑', '임온실',\n",
    "               '염자바', '이싸피', '임온실', '안도둑', '오디비', '안도둑', '오디비', '임온실', '염자바', '임온실', '박장고', '조실습', '이싸피', '최이썬', '최이썬', '오디비', '오디비', '염자바', '오디비', '안도둑', '박장고']\n",
    "\n",
    "## counter 함수로 갯수 카운팅후 딕셔너리로 저장\n",
    "\n",
    "en_count = Counter(entry_record)\n",
    "ex_count = Counter(exit_record)\n",
    "set_entry = set(entry_record)\n",
    "set_exit = set(exit_record)\n",
    "enex_lst = list(set_entry | set_exit)\n",
    "\n",
    "## 합집합으로 이름의 누락이나 중복을 제거해주었고,\n",
    "\n",
    "entop3 = en_count.most_common(3)\n",
    "\n",
    "print(\"입장 기록이 많은 Top3\")\n",
    "\n",
    "for top in entop3:\n",
    "    print(f\"{top[0]} {top[1]}회\")\n",
    "\n",
    "\n",
    "## 입장 기록 탑 3를 뽑아 for문 반복 하였음.\n",
    "\n",
    "print(\"\\n출입 기록이 수상한 사람\")\n",
    "\n",
    "for name in enex_lst:  ## 집합으로 구분 후 list로 옮겨 for문 돌렸고\n",
    "\n",
    "    in_out = en_count.get(name,0) - ex_count.get(name,0)  ## 차이를 구하고 밑에서 출력에서 음수일 경우 즉 퇴장기록이 더 많을경우엔 abs로 절댓값처리 해주었음. 출입차가 0인경우는 출력x\n",
    "\n",
    "    if in_out > 0:\n",
    "        print(f\"{name}은 입장 기록이 {in_out}회 더 많아 수상합니다.\")\n",
    "    elif in_out < 0:\n",
    "        print(f\"{name}은 퇴장 기록이 {abs(in_out)}회 더 많아 수상합니다.\")\n",
    "\n",
    "\n",
    "\n"
   ]
  },
  {
   "cell_type": "code",
   "execution_count": null,
   "metadata": {},
   "outputs": [],
   "source": [
    "\n",
    "입장 기록 많은 Top3\n",
    "안도둑 10회\n",
    "임온실 9회\n",
    "이싸피 8회\n",
    "\n",
    "출입 기록이 수상한 사람\n",
    "최이썬은 입장 기록이 1회 더 많아 수상합니다.\n",
    "염자바은 퇴장 기록이 2회 더 많아 수상합니다."
   ]
  },
  {
   "cell_type": "code",
   "execution_count": 1,
   "metadata": {},
   "outputs": [
    {
     "name": "stdout",
     "output_type": "stream",
     "text": [
      "나의 국적은 대한민국\n"
     ]
    }
   ],
   "source": [
    "## 실습하기 7-1\n",
    "\n",
    "class Nationality:\n",
    "\n",
    "    def __init__(self, country):\n",
    "        self.country = country\n",
    "\n",
    "    def __str__(self):\n",
    "        return f\"나의 국적은 {self.country}\"\n",
    "\n",
    "\n",
    "\n",
    "korea_nationality = Nationality(\"대한민국\")\n",
    "print(korea_nationality) # 나의 국적은 대한민국\n"
   ]
  },
  {
   "cell_type": "code",
   "execution_count": 16,
   "metadata": {},
   "outputs": [
    {
     "name": "stdout",
     "output_type": "stream",
     "text": [
      "Hero attack Dragon\n",
      "Dragon's hp: 500\n",
      "Dragon attack Hero\n",
      "Hero's hp: 140\n",
      "Hero attack Dragon\n",
      "Oh, Dragon is down! I repeat. Dragon is down!\n"
     ]
    }
   ],
   "source": [
    "## 실습하기 7-2\n",
    "\n",
    "class Creature:\n",
    "\tdef __init__(self):\n",
    "\t\tself.hp = 0\n",
    "\t\tself.attack = 0\n",
    "\t\tself.deffence = 0\n",
    "\n",
    "\tdef attack_target(self, target):\n",
    "\t\tprint(f\"{self} attack {target}\")\n",
    "\t\tdemage = self.attack - target.deffence\n",
    "\t\ttarget.hp -= demage if self.attack > target.deffence else 1\n",
    "\t\tif target.hp <= 0:\n",
    "\t\t\tprint(f\"Oh, {target} is down! I repeat. {target} is down!\")\n",
    "\t\telse:\n",
    "\t\t\tprint(f\"{target}'s hp: {target.hp}\")\n",
    "\n",
    "\n",
    "class Hero(Creature):\n",
    "\tdef __init__(self):\n",
    "\t\tsuper().__init__()\n",
    "\t\tself.hp = 150\n",
    "\t\tself.attack = 10\n",
    "\t\tself.deffence = 10\n",
    "\n",
    "\tdef __str__(self):\n",
    "\t\treturn \"Hero\"\n",
    "\n",
    "\tdef set_magic_power(self):\n",
    "\t\t# set the Hero Status(hp, attack, deffence)\n",
    "\t\tself.attack = 600\n",
    "\t\tself.deffence = 40\n",
    "\n",
    "class Dragon(Creature):\n",
    "\tdef __init__(self):\n",
    "\t\tsuper().__init__()\n",
    "\t\tself.hp = 1000\n",
    "\t\tself.attack = 50\n",
    "\t\tself.deffence = 100\n",
    "\n",
    "\tdef __str__(self):\n",
    "\t\treturn \"Dragon\"\n",
    "\n",
    "\n",
    "hero = Hero()\n",
    "hero.set_magic_power()\n",
    "dragon = Dragon()\n",
    "while (hero.hp > 0) and (dragon.hp > 0):\n",
    "\thero.attack_target(dragon)\n",
    "\tif dragon.hp > 0:\n",
    "\t\tdragon.attack_target(hero)"
   ]
  },
  {
   "cell_type": "code",
   "execution_count": 22,
   "metadata": {},
   "outputs": [
    {
     "name": "stdout",
     "output_type": "stream",
     "text": [
      "3\n",
      "1\n",
      "12\n",
      "0으로 나눌 수 없습니다.\n"
     ]
    }
   ],
   "source": [
    "## 실습하기 7-3\n",
    "# 1 + 2\n",
    "# 2 – 1\n",
    "# 3 * 4\n",
    "# 4 / 0\n",
    "# add, substract, multuply, divide 메소드를 가진 Calculator 클래스를 생성하고, 아래의 계산 결과를 출력하라. \n",
    "\n",
    "class Calculator:\n",
    "\n",
    "    def __init__(self, num1, num2):\n",
    "        self.num1 = num1\n",
    "        self.num2 = num2\n",
    "\n",
    "    def add(self):\n",
    "        return self.num1 + self.num2\n",
    "\n",
    "    def substract(self):\n",
    "        return self.num1 - self.num2\n",
    "\n",
    "    def multuply(self):\n",
    "        return self.num1 * self.num2\n",
    "\n",
    "    def divide(self):\n",
    "        if self.num2 != 0:\n",
    "            return self.num1 / self.num2\n",
    "        else:\n",
    "            return \"0으로 나눌 수 없습니다.\"\n",
    "\n",
    "calc = Calculator(1,2)\n",
    "print(calc.add())\n",
    "calc = Calculator(2,1)\n",
    "print(calc.substract())\n",
    "calc = Calculator(3,4)\n",
    "print(calc.multuply())\n",
    "calc = Calculator(4,0)\n",
    "print(calc.divide())"
   ]
  },
  {
   "cell_type": "code",
   "execution_count": 31,
   "metadata": {},
   "outputs": [
    {
     "name": "stdout",
     "output_type": "stream",
     "text": [
      "91000\n",
      "101200\n"
     ]
    }
   ],
   "source": [
    "## 실습하기 7-4\n",
    "'''\n",
    "카쉐어링 서비스는 요금을 다음과 같이 계산한다.\n",
    "\n",
    "A.    대여는 10분 단위로 가능하다.\n",
    "B.    대여 요금 : 10분당 1,200원\n",
    "C.    보험료 : 30분당 525원 (50분을 빌리면, 1시간으로 계산)\n",
    "D.    주행 요금 : km당 170원 (주행 요금은 100km가 넘어가면, 넘어간 부분에 대하여 할인이 50% 적용)\n",
    "\n",
    "예) 160km를 달렸으면, 170*100 + 85*60\n",
    "양의 정수인 대여시간(분)과 주행거리를 받아 계산 결과를 반환하는 함수 fee()를 작성하시오.\n",
    "참고 함수 math.ceil \n",
    "'''\n",
    "import math\n",
    "\n",
    "def fee(time, dist):\n",
    "    rent_price = math.ceil(time / 10) * 1200\n",
    "    insure_price = math.ceil(time / 30) * 525\n",
    "    \n",
    "    if dist <= 100:\n",
    "        drive_price = dist * 170\n",
    "    else:\n",
    "        drive_price = 17000 + (dist-100) * 170\n",
    "\n",
    "    return rent_price + insure_price + drive_price\n",
    "\n",
    "print(fee(600, 50)) #=> 91000\n",
    "print(fee(600, 110)) #=> 10"
   ]
  },
  {
   "cell_type": "code",
   "execution_count": 77,
   "metadata": {},
   "outputs": [
    {
     "name": "stdout",
     "output_type": "stream",
     "text": [
      "[3, 4, 1, 5, 2]\n",
      "[4, 1, 3, 5]\n",
      "[1, 3, 4]\n",
      "[1, 3]\n"
     ]
    }
   ],
   "source": [
    "import random\n",
    "a = [1,2,3,4,5]\n",
    "random.sample(a,2)\n",
    "random.shuffle(a)\n",
    "print(a)\n",
    "a.pop()\n",
    "random.shuffle(a)\n",
    "print(a)\n",
    "a.pop()\n",
    "random.shuffle(a)\n",
    "print(a)\n",
    "a.pop()\n",
    "random.shuffle(a)\n",
    "print(a)"
   ]
  },
  {
   "cell_type": "code",
   "execution_count": 91,
   "metadata": {},
   "outputs": [
    {
     "name": "stdout",
     "output_type": "stream",
     "text": [
      "['김해피']\n",
      "['김재만']\n",
      "['김해피', '박영수']\n",
      "['정민수', '김재만', '박영수']\n",
      "['정민수', '김재만', '김해피', '박영수']\n",
      "[['박영수', '김해피'], ['정민수', '조민지'], ['이해킹', '김재만']]\n"
     ]
    }
   ],
   "source": [
    "## 실습하기 7-5\n",
    "'''\n",
    "문제\n",
    "페어 프로그래밍은 하나의 컴퓨터에서 두 사람의 프로그래머가 작업하는 방식을 의미한다.\n",
    "진정한 프로그래머가 되기 위해 김해피는 페어를 매칭하기 위한 프로그램을 작성하려고 한다. \n",
    "클래스를 활용해 작성하며 포함되는 메서드는 아래와 같다.\n",
    "구성 요소     \n",
    "i.        초기화 메서드는 인자로 학생 이름으로 구성된 리스트를 받아서 인스턴스 변수에 할당한다.     \n",
    "ii.        pick(n) 메서드는 학생들 명단에서 인자 n명 만큼 랜덤으로 추출하여 return한다.     \n",
    "iii.        match_pair() 메서드는 학생들 명단을 랜덤으로 2명씩 매칭해 준다. 이때, 학생들 명단의 수가 홀수명이면 단 한팀만 3명으로 구성한다.    \n",
    "'''\n",
    "\n",
    "import random\n",
    "\n",
    "class ClassHelper:\n",
    "\n",
    "    def __init__(self, pair_list):\n",
    "        self.pair_list = pair_list\n",
    "\n",
    "    def pick(self, n):\n",
    "        return random.sample(self.pair_list, n)\n",
    "\n",
    "    def match_pair(self):\n",
    "        if len(self.pair_list) % 2 == 0 :\n",
    "            result = []\n",
    "            while self.pair_list:\n",
    "                pair = []\n",
    "                random.shuffle(self.pair_list)\n",
    "                pair.append(self.pair_list.pop())\n",
    "                pair.append(self.pair_list.pop())\n",
    "                result.append(pair)\n",
    "\n",
    "        else:\n",
    "            result = []\n",
    "            while len(self.pair_list) != 3:\n",
    "                pair = []\n",
    "                random.shuffle(self.pair_list)\n",
    "                pair.append(self.pair_list.pop())\n",
    "                pair.append(self.pair_list.pop())\n",
    "                result.append(pair)\n",
    "\n",
    "            result.append(self.pair_list)\n",
    "\n",
    "        return result\n",
    "\n",
    "\n",
    "\n",
    "ch = ClassHelper(['김해피', '이해킹', '조민지', '박영수', '정민수'])\n",
    "\n",
    "print(ch.pick(1))\n",
    "print(ch.pick(1))\n",
    "print(ch.pick(2))\n",
    "print(ch.pick(3))\n",
    "print(ch.pick(4))\n",
    "\n",
    "print(ch.match_pair())"
   ]
  },
  {
   "cell_type": "code",
   "execution_count": 1,
   "metadata": {},
   "outputs": [
    {
     "name": "stdout",
     "output_type": "stream",
     "text": [
      "왈왈\n",
      "2 2\n",
      "1 2\n"
     ]
    }
   ],
   "source": [
    "class Doggy:\n",
    "    num_of_dogs = 0\n",
    "    birth_of_dogs = 0\n",
    "\n",
    "    def __init__(self, name, species):\n",
    "        self.name = name\n",
    "        self.species = species\n",
    "        Doggy.num_of_dogs += 1\n",
    "        Doggy.birth_of_dogs += 1\n",
    "\n",
    "    def bark(self):\n",
    "        print(\"왈왈\")\n",
    "\n",
    "    def __del__(self):\n",
    "        Doggy.num_of_dogs -= 1\n",
    "\n",
    "    def get_status(self):\n",
    "        print(Doggy.num_of_dogs, Doggy.birth_of_dogs)\n",
    "\n",
    "\n",
    "dalma = Doggy('dal', 'Dalmasian')\n",
    "new_dog = Doggy('coco', 'martiz')\n",
    "\n",
    "dalma.bark()\n",
    "dalma.get_status()\n",
    "dalma = 3\n",
    "new_dog.get_status()\n"
   ]
  },
  {
   "cell_type": "code",
   "execution_count": 5,
   "metadata": {},
   "outputs": [
    {
     "name": "stdout",
     "output_type": "stream",
     "text": [
      "1 6\n"
     ]
    }
   ],
   "source": [
    "new_dog = Doggy('asdf', 'coco')\n",
    "new_dog.get_status()"
   ]
  },
  {
   "cell_type": "code",
   "execution_count": 2,
   "metadata": {},
   "outputs": [
    {
     "name": "stdout",
     "output_type": "stream",
     "text": [
      "8\n",
      "4\n",
      "111\n",
      "-1\n"
     ]
    }
   ],
   "source": [
    "'''\n",
    "collatz(6) #=> 8\n",
    "collatz(16) #=> 4\n",
    "collatz(27) #=> 111\n",
    "collatz(626331) #=> -1\n",
    "\n",
    "1937년 Collatz란 사람에 의해 제기된 이 추측은, 주어진 수가 1이 될때까지 다음 작업을 반복하면, 모든 수를 1로 만들 수 있다는 추측이다. 그 원리는 아래와 같다.\n",
    "\n",
    "원리  \n",
    "i.          입력된 수가 짝수라면 2로 나눈다.  \n",
    "ii.          입력된 수가 홀수라면 3을 곱하고 1을 더한다.  \n",
    "iii.          결과로 나온 수에 같은 작업을 1이 될 때까지 반복한다.\n",
    "예를 들어, 입력된 수가 6이라면 6 → 3 → 10 → 5 → 16 → 8 → 4 → 2 → 1 이 되어 총 8번 만에 1이 된다.\n",
    "위 작업을 몇 번이나 반복해야하는지 반환하는 함수 collatz()를 작성하시오 (단, 작업을 500번을 반복해도 1이 되지 않는다면 -1을 반환하시오.)\n",
    "'''\n",
    "class Col:\n",
    "    cnt = 0\n",
    "\n",
    "    def __init__(self, number):\n",
    "        self.number = number\n",
    "\n",
    "    def cal(self):\n",
    "        if self.number % 2 == 0:\n",
    "            self.number //= 2\n",
    "        else:\n",
    "            self.number *= 3\n",
    "            self.number += 1\n",
    "\n",
    "        Col.cnt += 1\n",
    "    \n",
    "    def println(self):\n",
    "        return Col.cnt\n",
    "\n",
    "        \n",
    "\n",
    "\n",
    "\n",
    "def collatz(n):\n",
    "\n",
    "    cnt = 0\n",
    "\n",
    "    while n != 1:\n",
    "        if n % 2 == 0:\n",
    "            n //= 2\n",
    "        else:\n",
    "            n *= 3\n",
    "            n += 1\n",
    "        \n",
    "        cnt += 1\n",
    "\n",
    "        if cnt >= 500:\n",
    "            cnt = -1\n",
    "            break\n",
    "\n",
    "    return cnt\n",
    "\n",
    "print(collatz(6)) #=> 8\n",
    "print(collatz(16)) #=> 4\n",
    "print(collatz(27)) #=> 111\n",
    "print(collatz(626331)) #=> -1\n"
   ]
  },
  {
   "cell_type": "code",
   "execution_count": 26,
   "metadata": {},
   "outputs": [
    {
     "name": "stdout",
     "output_type": "stream",
     "text": [
      "8\n",
      "4\n",
      "111\n",
      "-1\n"
     ]
    }
   ],
   "source": [
    "class Col:\n",
    "    cnt = 0\n",
    "\n",
    "    def __init__(self, number):\n",
    "        self.number = number\n",
    "\n",
    "    def cal(self):\n",
    "        if self.number % 2 == 0:\n",
    "            self.number //= 2\n",
    "        else:\n",
    "            self.number *= 3\n",
    "            self.number += 1\n",
    "\n",
    "        Col.cnt += 1\n",
    "\n",
    "def collatz(n):\n",
    "    Col.cnt = 0\n",
    "    new_col = Col(n)\n",
    "\n",
    "    while new_col.number != 1:\n",
    "        new_col.cal()\n",
    "        if Col.cnt >= 500:\n",
    "            Col.cnt = -1\n",
    "            break\n",
    "\n",
    "    return new_col.cnt\n",
    "\n",
    "print(collatz(6)) #=> 8\n",
    "print(collatz(16)) #=> 4\n",
    "print(collatz(27)) #=> 111\n",
    "print(collatz(626331)) #=> -1"
   ]
  },
  {
   "cell_type": "code",
   "execution_count": 17,
   "metadata": {},
   "outputs": [
    {
     "name": "stdout",
     "output_type": "stream",
     "text": [
      "1\n",
      "2\n",
      "3\n",
      "4\n"
     ]
    }
   ],
   "source": [
    "class Coll:\n",
    "    count = 0\n",
    "\n",
    "    def __init__(self, num):\n",
    "        self.num = num\n",
    "\n",
    "    def Cal(self):\n",
    "        if self.num % 2 == 0:\n",
    "            self.num = self.num // 2\n",
    "        else:\n",
    "            self.num = (self.num * 3) + 1\n",
    "            \n",
    "        Coll.count += 1\n",
    "        \n",
    "        return self.num\n",
    "\n",
    "    def status(self):\n",
    "        return Coll.count\n",
    "        \n",
    "\n",
    "def collatz(n):\n",
    "    result = Coll(n)\n",
    "    while result.Cal() > 1:\n",
    "\n",
    "        \n",
    "        if result.status() > 500:\n",
    "            return -1\n",
    "\n",
    "    return result.status()\n",
    "\n",
    "print(collatz(16))\n",
    "\n",
    "# print(collatz(6)) #=> 8\n",
    "# print(collatz(16)) #=> 4\n",
    "# print(collatz(27)) #=> 111\n",
    "# print(collatz(626331)) #=> -1"
   ]
  }
 ],
 "metadata": {
  "kernelspec": {
   "display_name": "Python 3",
   "language": "python",
   "name": "python3"
  },
  "language_info": {
   "codemirror_mode": {
    "name": "ipython",
    "version": 3
   },
   "file_extension": ".py",
   "mimetype": "text/x-python",
   "name": "python",
   "nbconvert_exporter": "python",
   "pygments_lexer": "ipython3",
   "version": "3.9.12 (tags/v3.9.12:b28265d, Mar 23 2022, 23:52:46) [MSC v.1929 64 bit (AMD64)]"
  },
  "orig_nbformat": 4,
  "vscode": {
   "interpreter": {
    "hash": "c4b9ebf4ca459396e2ad1150752490c26670c1a037c08cad955a4425787bec2e"
   }
  }
 },
 "nbformat": 4,
 "nbformat_minor": 2
}
