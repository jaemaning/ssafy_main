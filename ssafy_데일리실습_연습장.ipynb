{
 "cells": [
  {
   "cell_type": "code",
   "execution_count": 20,
   "metadata": {},
   "outputs": [
    {
     "name": "stdout",
     "output_type": "stream",
     "text": [
      "84.25\n"
     ]
    }
   ],
   "source": [
    "score = {\n",
    "    'python': 80,\n",
    "    'django': 89,\n",
    "    'web': 83\n",
    "}\n",
    "\n",
    "score[\"algorithm\"] = 90 # 1 algorithm 과목 점수 입력\n",
    "score[\"python\"] = 85 # 2 python 과목 점수 변경\n",
    "\n",
    "# 전체과목 평균 점수 구하기\n",
    "print(sum(score.values()) / len(score.values()))"
   ]
  },
  {
   "cell_type": "code",
   "execution_count": 1,
   "metadata": {},
   "outputs": [
    {
     "name": "stdout",
     "output_type": "stream",
     "text": [
      "c:\\python_project\\test\n"
     ]
    }
   ],
   "source": [
    "print(\"c:\\\\python_project\\\\test\")"
   ]
  },
  {
   "cell_type": "code",
   "execution_count": 6,
   "metadata": {},
   "outputs": [
    {
     "name": "stdout",
     "output_type": "stream",
     "text": [
      "5\n"
     ]
    }
   ],
   "source": [
    "boards_num = int(input(\"게시글의 총 갯수를 입력하세요 : \"))\n",
    "page_boards_num = int(input(\"한 페이지에 필요한 게시글 수를 입력하세요 : \"))\n",
    "\n",
    "if boards_num % page_boards_num == 0 :\n",
    "    print(boards_num // page_boards_num)\n",
    "else :\n",
    "    print(boards_num // page_boards_num + 1)"
   ]
  },
  {
   "cell_type": "code",
   "execution_count": 8,
   "metadata": {},
   "outputs": [
    {
     "name": "stdout",
     "output_type": "stream",
     "text": [
      "# 이싸피\n",
      "\n",
      "\n",
      "# 김코딩\n"
     ]
    }
   ],
   "source": [
    "person1 = input(\"첫 번째 사람의 이름을 입력하시오: \")\n",
    "person2 = input(\"두 번째 사람의 이름을 입력하시오: \")\n",
    "\n",
    "print(f\"{person1}\\n\\n\\n{person2}\")"
   ]
  },
  {
   "cell_type": "code",
   "execution_count": 13,
   "metadata": {},
   "outputs": [
    {
     "data": {
      "text/plain": [
       "284787"
      ]
     },
     "execution_count": 13,
     "metadata": {},
     "output_type": "execute_result"
    }
   ],
   "source": [
    "result = []\n",
    "for i in range(1,1000):\n",
    "    if i % 2 == 0 or i % 7 == 0:\n",
    "        result.append(i)\n",
    "\n",
    "sum(result)"
   ]
  },
  {
   "cell_type": "code",
   "execution_count": 2,
   "metadata": {},
   "outputs": [
    {
     "name": "stdout",
     "output_type": "stream",
     "text": [
      "['apple', 'banana', 'apple', 'orange', 'orange']\n"
     ]
    }
   ],
   "source": [
    "# 실습 3-1\n",
    "fruits_bag = \"apple,rottenBanana,apple,RoTTenorange,Orange\"\n",
    "\n",
    "fruits_list = fruits_bag.split(\",\")\n",
    "\n",
    "new_fruits_list = []\n",
    "\n",
    "for fruit in fruits_list:\n",
    "    fruit = fruit.lower()\n",
    "\n",
    "    if \"rotten\" in fruit:\n",
    "        new_fruits_list.append(fruit[6:])\n",
    "    else : \n",
    "        new_fruits_list.append(fruit)\n",
    "\n",
    "print(new_fruits_list)\n"
   ]
  },
  {
   "cell_type": "code",
   "execution_count": 6,
   "metadata": {},
   "outputs": [
    {
     "name": "stdout",
     "output_type": "stream",
     "text": [
      "r r\n"
     ]
    }
   ],
   "source": [
    "# 실습 3-2\n",
    "word = input()\n",
    "mid = len(word) // 2\n",
    "\n",
    "if len(word) % 2 == 0:\n",
    "    # 정중앙문자 2개\n",
    "    print(word[mid-1],word[mid])\n",
    "    \n",
    "else:\n",
    "    # 정중앙문자 1개\n",
    "    print(word[mid])"
   ]
  },
  {
   "cell_type": "code",
   "execution_count": 9,
   "metadata": {},
   "outputs": [
    {
     "name": "stdout",
     "output_type": "stream",
     "text": [
      "16\n"
     ]
    }
   ],
   "source": [
    "# 실습 3-3\n",
    "\n",
    "infos = [{'name': 'kim', 'age': 12}, {'name': 'lee', 'age': 4}]\n",
    "result = 0\n",
    "\n",
    "for info in infos:\n",
    "    result += info[\"age\"] \n",
    "\n",
    "print(result)"
   ]
  },
  {
   "cell_type": "code",
   "execution_count": 18,
   "metadata": {},
   "outputs": [
    {
     "name": "stdout",
     "output_type": "stream",
     "text": [
      "{'A': 4, 'B': 3, 'AB': 2, 'O': 4}\n"
     ]
    }
   ],
   "source": [
    "# 실습 3-4\n",
    "\n",
    "blood_types = [ 'A','A','O', 'B', 'A', 'O', 'AB','O', 'A', 'B', 'O', 'B', 'AB']\n",
    "\n",
    "blood_types.count(\"A\")\n",
    "\n",
    "people = {\"A\" : blood_types.count(\"A\"), \"B\" : blood_types.count(\"B\"), \"AB\" : blood_types.count(\"AB\"), \"O\" : blood_types.count(\"O\")}\n",
    "\n",
    "print(people)\n",
    "\n",
    "\n"
   ]
  },
  {
   "cell_type": "code",
   "execution_count": 1,
   "metadata": {},
   "outputs": [
    {
     "name": "stdout",
     "output_type": "stream",
     "text": [
      "{'A': 4, 'O': 4, 'B': 3, 'AB': 2}\n"
     ]
    }
   ],
   "source": [
    "# 실습 3-4\n",
    "\n",
    "blood_types = [ 'A','A','O', 'B', 'A', 'O', 'AB','O', 'A', 'B', 'O', 'B', 'AB']\n",
    "\n",
    "blood_dict = {}\n",
    "\n",
    "for blood in blood_types:\n",
    "    if blood_dict.get(blood) :\n",
    "        blood_dict[blood] += 1\n",
    "    else :\n",
    "        blood_dict[blood] = 1\n",
    "\n",
    "print(blood_dict)"
   ]
  },
  {
   "cell_type": "code",
   "execution_count": 28,
   "metadata": {},
   "outputs": [
    {
     "name": "stdout",
     "output_type": "stream",
     "text": [
      "4.0 10\n"
     ]
    }
   ],
   "source": [
    "# 실습 3-5\n",
    "sw_per_all = 0\n",
    "sw_amount_all = 0\n",
    "tmp = 0\n",
    "result_check = 1\n",
    "\n",
    "for _ in range(5):\n",
    "    try:\n",
    "        sw_per = input(\"소금물의 퍼센트 농도 ( 숫자만 입력 ) : \")\n",
    "        if sw_per.lower() == \"done\" :\n",
    "            break\n",
    "        sw_amount = int(input(\"소금물의 양 ( 숫자만 입력 ) : \"))\n",
    "\n",
    "        sw_per = int(sw_per)\n",
    "        tmp += sw_per*sw_amount\n",
    "        sw_amount_all += sw_amount\n",
    "        sw_per_all = tmp / sw_amount_all\n",
    "    except:\n",
    "        print(\"잘못 입력하셨습니다.\")\n",
    "        result_check = 0\n",
    "        break\n",
    "else:\n",
    "    Done = input(\"Done 을 입력하세요.\")\n",
    "\n",
    "if result_check :\n",
    "    print(round(sw_per_all,2),sw_amount_all)\n",
    "\n",
    "# 15 200 10 300 12 500"
   ]
  },
  {
   "cell_type": "code",
   "execution_count": 31,
   "metadata": {},
   "outputs": [
    {
     "name": "stdout",
     "output_type": "stream",
     "text": [
      "비밀번호가 1회 틀렸습니다. 기회 ( 1 / 3 ) \n",
      "비밀번호가 2회 틀렸습니다. 기회 ( 2 / 3 ) \n",
      "비밀번호가 3회 틀렸습니다. 기회 ( 3 / 3 ) \n",
      "입력기회를 초과하였습니다.\n"
     ]
    }
   ],
   "source": [
    "# 실습 4-1\n",
    "origin_pw = \"1234\"\n",
    "cnt = 0\n",
    "\n",
    "while True:\n",
    "    password = input()\n",
    "\n",
    "    if origin_pw == password :\n",
    "        print(\"ok\")\n",
    "        break\n",
    "    else:\n",
    "        cnt += 1\n",
    "        print(f\"비밀번호가 {cnt}회 틀렸습니다. 기회 ( {cnt} / 3 ) \")\n",
    "\n",
    "    if cnt == 3:\n",
    "        print(\"입력기회를 초과하였습니다.\")\n",
    "        break\n",
    "    \n",
    "\n",
    "\n"
   ]
  },
  {
   "cell_type": "code",
   "execution_count": 45,
   "metadata": {},
   "outputs": [
    {
     "name": "stdout",
     "output_type": "stream",
     "text": [
      "[('박해피', 5), ('이영희', 4), ('조민지', 3), ('김철수', 3), ('김해킹', 2), ('한케이', 2), ('강디티', 2)]\n"
     ]
    }
   ],
   "source": [
    "# 실습 4-2\n",
    "\n",
    "students = [\n",
    "    '이영희',\n",
    "    '박해피',\n",
    "    '조민지',\n",
    "    '조민지',\n",
    "    '김철수',\n",
    "    '이영희',\n",
    "    '이영희',\n",
    "    '김해킹',\n",
    "    '박해피',\n",
    "    '김철수',\n",
    "    '한케이',\n",
    "    '강디티',\n",
    "    '조민지',\n",
    "    '박해피',\n",
    "    '김철수',\n",
    "    '이영희',\n",
    "    '박해피',\n",
    "    '김해킹',\n",
    "    '박해피',\n",
    "    '한케이',\n",
    "    '강디티',\n",
    "]\n",
    "\n",
    "votes = {}\n",
    "\n",
    "for vote in students:\n",
    "    if vote in votes:\n",
    "        votes[vote] += 1\n",
    "    else :\n",
    "        votes[vote] = 1\n",
    "\n",
    "sorted_votes = sorted(votes.items(),key=lambda x: x[1],reverse=True)\n",
    "\n",
    "print(sorted_votes)"
   ]
  },
  {
   "cell_type": "code",
   "execution_count": 49,
   "metadata": {},
   "outputs": [
    {
     "name": "stdout",
     "output_type": "stream",
     "text": [
      "[1, 3, 0, 1]\n"
     ]
    }
   ],
   "source": [
    "# 실습 4-3\n",
    "\n",
    "# 입력 예시\n",
    "# [1, 1, 3, 3, 0, 1, 1]\n",
    "\n",
    "# 출력 예시\n",
    "# [1, 3, 0, 1]\n",
    "\n",
    "origin_list = [1, 1, 3, 3, 0, 1, 1]\n",
    "new_list = []\n",
    "pre_num = -1\n",
    "\n",
    "for num in origin_list:\n",
    "\n",
    "    if pre_num != num :\n",
    "        new_list.append(num)\n",
    "        pre_num = num\n",
    "        \n",
    "print(new_list)"
   ]
  },
  {
   "cell_type": "code",
   "execution_count": 57,
   "metadata": {},
   "outputs": [
    {
     "name": "stdout",
     "output_type": "stream",
     "text": [
      "G\n"
     ]
    }
   ],
   "source": [
    "# 실습 4-4\n",
    "\n",
    "word1 = input('첫 번째 이름을 입력하세요 : ')\n",
    "word2 = input('두 번째 이름을 입력하세요 : ')\n",
    "\n",
    "def checking_word(word1,word2):\n",
    "    num1 = ord(word1.lower())+ord(word1.upper())\n",
    "    num2 = ord(word2.lower())+ord(word2.upper())\n",
    "\n",
    "    if num1 >= num2 :\n",
    "        return word1\n",
    "    else:\n",
    "        return word2\n",
    "\n",
    "print(checking_word(word1,word2))"
   ]
  },
  {
   "cell_type": "code",
   "execution_count": 74,
   "metadata": {},
   "outputs": [
    {
     "name": "stdout",
     "output_type": "stream",
     "text": [
      "['염자바', '임온실', '최이썬']\n",
      "test_status = {'김싸피': 'solving', '이코딩': 'solving', '오디비': 'solving', '조실습': 'solving', '박장고': 'solving'}\n"
     ]
    }
   ],
   "source": [
    "# 실습 4-5\n",
    "test_status = {\n",
    "    '김싸피': 'solving',\n",
    "   \t'이코딩': 'solving',\n",
    "   \t'최이썬': 'cheating',\n",
    "   \t'오디비': 'sleeping',\n",
    "   \t'임온실': 'cheating',\n",
    "   \t'조실습': 'solving',\n",
    "   \t'박장고': 'sleeping',\n",
    "   \t'염자바': 'cheating'\n",
    "}\n",
    "\n",
    "new_test_status = {}\n",
    "cheating_list = []\n",
    "\n",
    "for key,value in test_status.items():\n",
    "    if value == 'sleeping' or value == 'solving' :\n",
    "        new_test_status[key] = \"solving\"\n",
    "    else : \n",
    "        cheating_list.append(key)\n",
    "\n",
    "test_status = new_test_status\n",
    "\n",
    "print(f\"{sorted(cheating_list)}\\ntest_status = {test_status}\")"
   ]
  },
  {
   "cell_type": "code",
   "execution_count": 15,
   "metadata": {},
   "outputs": [
    {
     "name": "stdout",
     "output_type": "stream",
     "text": [
      "101 False\n"
     ]
    }
   ],
   "source": [
    "# 과제 5-4\n",
    "## 1\n",
    "def fn_d(n):\n",
    "    result = 0\n",
    "    for i in str(n):\n",
    "        result += int(i)\n",
    "\n",
    "    return result + n\n",
    "\n",
    "fn_d(91)\n",
    "\n",
    "## 2 self-number\n",
    "\n",
    "def is_selfnumber(n):\n",
    "    for i in range(1,n):\n",
    "        if fn_d(i) == n :\n",
    "            return False\n",
    "\n",
    "    return True\n",
    "        \n",
    "\n",
    "print(fn_d(91),is_selfnumber(30))"
   ]
  }
 ],
 "metadata": {
  "kernelspec": {
   "display_name": "Python 3",
   "language": "python",
   "name": "python3"
  },
  "language_info": {
   "codemirror_mode": {
    "name": "ipython",
    "version": 3
   },
   "file_extension": ".py",
   "mimetype": "text/x-python",
   "name": "python",
   "nbconvert_exporter": "python",
   "pygments_lexer": "ipython3",
   "version": "3.9.12"
  },
  "orig_nbformat": 4,
  "vscode": {
   "interpreter": {
    "hash": "c4b9ebf4ca459396e2ad1150752490c26670c1a037c08cad955a4425787bec2e"
   }
  }
 },
 "nbformat": 4,
 "nbformat_minor": 2
}
