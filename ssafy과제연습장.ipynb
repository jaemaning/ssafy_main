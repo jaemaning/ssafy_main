{
 "cells": [
  {
   "cell_type": "code",
   "execution_count": 27,
   "metadata": {},
   "outputs": [
    {
     "name": "stdout",
     "output_type": "stream",
     "text": [
      "                                  2100\n",
      "\n",
      "      January                   February                   March\n",
      "Mo Tu We Th Fr Sa Su      Mo Tu We Th Fr Sa Su      Mo Tu We Th Fr Sa Su\n",
      "             1  2  3       1  2  3  4  5  6  7       1  2  3  4  5  6  7\n",
      " 4  5  6  7  8  9 10       8  9 10 11 12 13 14       8  9 10 11 12 13 14\n",
      "11 12 13 14 15 16 17      15 16 17 18 19 20 21      15 16 17 18 19 20 21\n",
      "18 19 20 21 22 23 24      22 23 24 25 26 27 28      22 23 24 25 26 27 28\n",
      "25 26 27 28 29 30 31                                29 30 31\n",
      "\n",
      "       April                      May                       June\n",
      "Mo Tu We Th Fr Sa Su      Mo Tu We Th Fr Sa Su      Mo Tu We Th Fr Sa Su\n",
      "          1  2  3  4                      1  2          1  2  3  4  5  6\n",
      " 5  6  7  8  9 10 11       3  4  5  6  7  8  9       7  8  9 10 11 12 13\n",
      "12 13 14 15 16 17 18      10 11 12 13 14 15 16      14 15 16 17 18 19 20\n",
      "19 20 21 22 23 24 25      17 18 19 20 21 22 23      21 22 23 24 25 26 27\n",
      "26 27 28 29 30            24 25 26 27 28 29 30      28 29 30\n",
      "                          31\n",
      "\n",
      "        July                     August                  September\n",
      "Mo Tu We Th Fr Sa Su      Mo Tu We Th Fr Sa Su      Mo Tu We Th Fr Sa Su\n",
      "          1  2  3  4                         1             1  2  3  4  5\n",
      " 5  6  7  8  9 10 11       2  3  4  5  6  7  8       6  7  8  9 10 11 12\n",
      "12 13 14 15 16 17 18       9 10 11 12 13 14 15      13 14 15 16 17 18 19\n",
      "19 20 21 22 23 24 25      16 17 18 19 20 21 22      20 21 22 23 24 25 26\n",
      "26 27 28 29 30 31         23 24 25 26 27 28 29      27 28 29 30\n",
      "                          30 31\n",
      "\n",
      "      October                   November                  December\n",
      "Mo Tu We Th Fr Sa Su      Mo Tu We Th Fr Sa Su      Mo Tu We Th Fr Sa Su\n",
      "             1  2  3       1  2  3  4  5  6  7             1  2  3  4  5\n",
      " 4  5  6  7  8  9 10       8  9 10 11 12 13 14       6  7  8  9 10 11 12\n",
      "11 12 13 14 15 16 17      15 16 17 18 19 20 21      13 14 15 16 17 18 19\n",
      "18 19 20 21 22 23 24      22 23 24 25 26 27 28      20 21 22 23 24 25 26\n",
      "25 26 27 28 29 30 31      29 30                     27 28 29 30 31\n",
      "\n",
      "{'년': 2100, '월': 2, '일': 9, '요일': '화요일'}\n"
     ]
    }
   ],
   "source": [
    "# 과제 5-2\n",
    "import calendar\n",
    "\n",
    "year = int(input(\"'년' 을 입력해주세요\"))\n",
    "\n",
    "while (year % 400 == 0 ) or (year % 4 == 0 and year % 100 != 0):\n",
    "\n",
    "    print(f\"{year}년은 윤년입니다. 연도를 다시 입력해주세요.\")\n",
    "    year = int(input(\"'년' 을 입력해주세요\"))\n",
    "\n",
    "print(calendar.calendar(year))\n",
    "\n",
    "month = int(input(\"'월' 을 입력해주세요\"))\n",
    "day = int(input(\"'일' 을 입력해주세요\"))\n",
    "dow = calendar.weekday(year,month,day)\n",
    "cssclasses = [\"월요일\", \"화요일\", \"수요일\", \"목요일\", \"금요일\", \"토요일\", \"일요일\"]\n",
    "\n",
    "if dow == 0 :\n",
    "    print(f\"경고 {cssclasses[dow]}입니다\")\n",
    "\n",
    "gotodate = {\"년\" : year, \"월\" : month, \"일\" : day, \"요일\" : cssclasses[dow]}\n",
    "\n",
    "print(gotodate)\n"
   ]
  },
  {
   "cell_type": "code",
   "execution_count": null,
   "metadata": {},
   "outputs": [],
   "source": [
    "# 과제 6-4\n",
    "\n",
    "# A.    입력 예시 \n",
    "# ['eat','tea','tan','ate','nat','bat']\n",
    "\n",
    "# B.    출력 예시 \n",
    "# [ ['eat', 'tea', 'ate'], ['tan', 'nat'], ['bat'] ] \n",
    "\n",
    "# 애너그램 생성기 ( permutations )\n",
    "def perm(word,ani):\n",
    "\n",
    "    if len(word) == len(ani) :\n",
    "        result.append(ani)\n",
    "        return\n",
    "\n",
    "    for idx,i in enumerate(word):\n",
    "        if not check_list[idx] :\n",
    "            ani += i\n",
    "            check_list[idx] = 1\n",
    "            perm(word,ani)\n",
    "            ani = ani[:-1]\n",
    "            check_list[idx] = 0\n",
    "\n",
    "\n",
    "\n",
    "word_list = ['eat','tea','tan','ate','nat','bat']\n",
    "qqq = []   # 정답 담는 그릇\n",
    "\n",
    "while word_list :\n",
    "    word = word_list[0]\n",
    "    result = []\n",
    "    check_list = [0] * len(word)\n",
    "    ani = \"\"\n",
    "    perm(word,ani)\n",
    "\n",
    "    answer = list(set(result) & set(word_list))   # 첫번쨰 값 넣었을떄 결과리스트 교집합\n",
    "    qqq.append(answer)\n",
    "\n",
    "    word_list = list(set(word_list) - set(answer))   # word_list 갱신 차집합\n",
    "\n",
    "    \n",
    "\n",
    "print(qqq)\n"
   ]
  },
  {
   "cell_type": "code",
   "execution_count": 17,
   "metadata": {},
   "outputs": [
    {
     "name": "stdout",
     "output_type": "stream",
     "text": [
      "[['tea', 'eat', 'ate'], ['tan', 'nat'], ['bat']]\n"
     ]
    }
   ],
   "source": [
    "# 애너그램 생성기 ( permutations )\n",
    "def perm(word,ani):\n",
    "\n",
    "    if len(word) == len(ani) :\n",
    "        result.append(ani)\n",
    "        return\n",
    "\n",
    "    for idx,i in enumerate(word):\n",
    "        if not check_list[idx] :\n",
    "            ani += i\n",
    "            check_list[idx] = 1\n",
    "            perm(word,ani)\n",
    "            ani = ani[:-1]\n",
    "            check_list[idx] = 0\n",
    "\n",
    "\n",
    "\n",
    "word_list = ['eat','tea','tan','ate','nat','bat']\n",
    "qqq = []   # 정답 담는 그릇\n",
    "\n",
    "while word_list :\n",
    "    word = word_list[0]\n",
    "    result = []\n",
    "    check_list = [0] * len(word)\n",
    "    ani = \"\"\n",
    "    perm(word,ani)\n",
    "\n",
    "    answer = list(set(result) & set(word_list))   # 첫번쨰 값 넣었을떄 결과리스트 교집합\n",
    "    qqq.append(answer)\n",
    "\n",
    "    word_list = list(set(word_list) - set(answer))   # word_list 갱신 차집합\n",
    "\n",
    "    \n",
    "\n",
    "print(qqq)"
   ]
  },
  {
   "cell_type": "code",
   "execution_count": 15,
   "metadata": {},
   "outputs": [],
   "source": [
    "while []:\n",
    "    print(1)"
   ]
  }
 ],
 "metadata": {
  "kernelspec": {
   "display_name": "Python 3",
   "language": "python",
   "name": "python3"
  },
  "language_info": {
   "codemirror_mode": {
    "name": "ipython",
    "version": 3
   },
   "file_extension": ".py",
   "mimetype": "text/x-python",
   "name": "python",
   "nbconvert_exporter": "python",
   "pygments_lexer": "ipython3",
   "version": "3.10.0"
  },
  "orig_nbformat": 4,
  "vscode": {
   "interpreter": {
    "hash": "26de051ba29f2982a8de78e945f0abaf191376122a1563185a90213a26c5da77"
   }
  }
 },
 "nbformat": 4,
 "nbformat_minor": 2
}
