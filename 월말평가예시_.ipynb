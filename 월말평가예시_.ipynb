{
 "cells": [
  {
   "cell_type": "code",
   "execution_count": 2,
   "metadata": {},
   "outputs": [
    {
     "data": {
      "text/plain": [
       "90"
      ]
     },
     "execution_count": 2,
     "metadata": {},
     "output_type": "execute_result"
    }
   ],
   "source": [
    "'''\n",
    "• problem01.py\n",
    "전체 점수 중 최고점을 반환하는 함수 max_score을 완성하시오.\n",
    "(해당 문제는 python 내장함수 max 사용 불가)\n",
    "'''\n",
    "\n",
    "def max_score(score_list):\n",
    "    pre_score = -9999\n",
    "    for score in score_list:\n",
    "        if score > pre_score :\n",
    "            pre_score = score\n",
    "\n",
    "    return pre_score\n",
    "\n",
    "\n",
    "\n",
    "nlist = [80,60,40,90]\n",
    "\n",
    "max_score(nlist)"
   ]
  },
  {
   "cell_type": "code",
   "execution_count": 4,
   "metadata": {},
   "outputs": [
    {
     "data": {
      "text/plain": [
       "3"
      ]
     },
     "execution_count": 4,
     "metadata": {},
     "output_type": "execute_result"
    }
   ],
   "source": [
    "'''\n",
    "• problem02.py\n",
    "전체 점수 중 60점 이상인 과목의 개수를 계산하는 함수 over를 완성하시오.\n",
    "'''\n",
    "\n",
    "def over(score_list):\n",
    "\n",
    "    cnt = 0\n",
    "\n",
    "    for i in score_list:\n",
    "        if i >= 60:\n",
    "            cnt += 1\n",
    "\n",
    "    return cnt\n",
    "\n",
    "over(nlist)"
   ]
  },
  {
   "cell_type": "code",
   "execution_count": 14,
   "metadata": {},
   "outputs": [
    {
     "data": {
      "text/plain": [
       "True"
      ]
     },
     "execution_count": 14,
     "metadata": {},
     "output_type": "execute_result"
    }
   ],
   "source": [
    "'''\n",
    "problem03.py\n",
    "신규 아이디 생성 시 아이디와 비밀번호 모두 빈 값이 입력되는 것을 방지하고자 한\n",
    "다.\n",
    "사용자의 입력 정보인 user_data가 python의 dictionary 형태로 들어온다고 할 때, 사\n",
    "용자가 입력한 아이디와 비밀번호 중 하나라도 “비어있는 문자열”이면 False, 그렇지\n",
    "않으면 True를 반환하는 is_user_data_valid 함수를 완성하시오.\n",
    "(단, 반환되는 True, False 는 bool 자료형이다.)\n",
    "'''\n",
    "\n",
    "\n",
    "user_id = input(\"아이디를 입력하세요 : \")\n",
    "user_password = input(\"비밀번호를 입력하세요 : \")\n",
    "\n",
    "user_data = {}\n",
    "user_data[\"user_id\"] = user_id\n",
    "user_data[\"user_password\"] = user_password\n",
    "\n",
    "def is_user_data_valid(user_data):\n",
    "    if user_data[\"user_id\"] and user_data[\"user_password\"] : ## user_data 딕셔너리에 id값과 password값이 둘다 존재하니?\n",
    "        return True\n",
    "    else :\n",
    "        return False\n",
    "\n",
    "\n",
    "is_user_data_valid(user_data)"
   ]
  },
  {
   "cell_type": "code",
   "execution_count": 18,
   "metadata": {},
   "outputs": [
    {
     "data": {
      "text/plain": [
       "False"
      ]
     },
     "execution_count": 18,
     "metadata": {},
     "output_type": "execute_result"
    }
   ],
   "source": [
    "'''\n",
    "• problem04.py\n",
    "신규 생성 아이디의 마지막 글자는 반드시 0부터 9 사이의 숫자로 끝나야한다.\n",
    "사용자의 입력 정보인 user_data가 python의 dictionary 형태로 들어온다고 할 때,\n",
    "사용자가 입력한 아이디가 위 조건을 만족하면 True, 그렇지 않으면 False를 반환하는\n",
    "is_id_valid 함수를 완성하시오.\n",
    "(단, 반환되는 True, False 는 bool 자료형이다.)\n",
    "'''\n",
    "user_id = input(\"아이디를 입력하세요 : \")\n",
    "user_password = input(\"비밀번호를 입력하세요 : \")\n",
    "\n",
    "user_data = {}\n",
    "user_data[\"user_id\"] = user_id\n",
    "user_data[\"user_password\"] = user_password\n",
    "\n",
    "def is_id_valid(user_data):\n",
    "    try :  # 에러가 안나니?\n",
    "        if 0 <= int(user_data[\"user_id\"][-1]) <= 9 :  # 신규 생성 아이디 마지막 글자가 0부터 9사이 숫자로 끝나니?\n",
    "            return True\n",
    "        else :\n",
    "            return False\n",
    "    except : # 에러가 나니?\n",
    "        return False\n",
    "\n",
    "is_id_valid(user_data)"
   ]
  }
 ],
 "metadata": {
  "kernelspec": {
   "display_name": "Python 3",
   "language": "python",
   "name": "python3"
  },
  "language_info": {
   "codemirror_mode": {
    "name": "ipython",
    "version": 3
   },
   "file_extension": ".py",
   "mimetype": "text/x-python",
   "name": "python",
   "nbconvert_exporter": "python",
   "pygments_lexer": "ipython3",
   "version": "3.9.12 (tags/v3.9.12:b28265d, Mar 23 2022, 23:52:46) [MSC v.1929 64 bit (AMD64)]"
  },
  "orig_nbformat": 4,
  "vscode": {
   "interpreter": {
    "hash": "c4b9ebf4ca459396e2ad1150752490c26670c1a037c08cad955a4425787bec2e"
   }
  }
 },
 "nbformat": 4,
 "nbformat_minor": 2
}
