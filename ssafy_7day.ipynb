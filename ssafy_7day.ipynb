{
 "cells": [
  {
   "cell_type": "code",
   "execution_count": 1,
   "metadata": {},
   "outputs": [
    {
     "name": "stdout",
     "output_type": "stream",
     "text": [
      "문자 : 10개, 숫자 : 2개, 기호 : 7개\n"
     ]
    }
   ],
   "source": [
    "# 주어진 문자열에서 숫자, 문자, 기호가\n",
    "# 각각 몇개인지를 판단하는 함수를 작성해보세요.\n",
    "\n",
    "def check(target_str):\n",
    "\n",
    "    str_cnt = 0\n",
    "    num_cnt = 0\n",
    "    star_cnt = 0\n",
    "\n",
    "    for letter in target_str:\n",
    "        if letter.isdigit():\n",
    "            num_cnt += 1\n",
    "        elif letter.isalpha():\n",
    "            str_cnt += 1\n",
    "        else:\n",
    "            star_cnt += 1\n",
    "\n",
    "    return f\"문자 : {str_cnt}개, 숫자 : {num_cnt}개, 기호 : {star_cnt}개\"\n",
    "\n",
    "# 문자 : 10개, 숫자 : 2개, 기호 : 7개\n",
    "target_str = \"asdf_12sfgd,)(df))(\"\n",
    "print(check(target_str))"
   ]
  }
 ],
 "metadata": {
  "kernelspec": {
   "display_name": "Python 3",
   "language": "python",
   "name": "python3"
  },
  "language_info": {
   "codemirror_mode": {
    "name": "ipython",
    "version": 3
   },
   "file_extension": ".py",
   "mimetype": "text/x-python",
   "name": "python",
   "nbconvert_exporter": "python",
   "pygments_lexer": "ipython3",
   "version": "3.9.12"
  },
  "orig_nbformat": 4,
  "vscode": {
   "interpreter": {
    "hash": "c4b9ebf4ca459396e2ad1150752490c26670c1a037c08cad955a4425787bec2e"
   }
  }
 },
 "nbformat": 4,
 "nbformat_minor": 2
}
