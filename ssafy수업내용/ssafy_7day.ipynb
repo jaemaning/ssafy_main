{
 "cells": [
  {
   "cell_type": "code",
   "execution_count": 2,
   "metadata": {},
   "outputs": [
    {
     "name": "stdout",
     "output_type": "stream",
     "text": [
      "문자:10, 숫자:2, 기호:7\n"
     ]
    }
   ],
   "source": [
    "# 주어진 문자열에서 숫자, 문자, 기호가\n",
    "# 각각 몇개인지를 판단하는 함수를 작성해보세요.\n",
    "\n",
    "def check(target_str):\n",
    "\n",
    "    str_cnt = 0\n",
    "    num_cnt = 0\n",
    "    star_cnt = 0\n",
    "\n",
    "    for letter in target_str:\n",
    "        if letter.isdigit():\n",
    "            num_cnt += 1\n",
    "        elif letter.isalpha():\n",
    "            str_cnt += 1\n",
    "        else:\n",
    "            star_cnt += 1\n",
    "\n",
    "    return str_cnt, num_cnt, star_cnt\n",
    "\n",
    "# 문자 : 10개, 숫자 : 2개, 기호 : 7개\n",
    "target_str = \"asdf_12sfgd,)(df))(\"\n",
    "rlt = check(target_str)\n",
    "\n",
    "print(f\"문자:{rlt[0]}, 숫자:{rlt[1]}, 기호:{rlt[2]}\")"
   ]
  },
  {
   "cell_type": "code",
   "execution_count": null,
   "metadata": {},
   "outputs": [],
   "source": [
    "# 8일차도 데이터 구조이므로 같이 이어서 하겠음.\n",
    "\n",
    "sample_list = [11, 22, 33, 55, 66]\n",
    "\n",
    "# 주어진 리스트의 3번 인덱스에 있는 항목을 제거하고 변수에 할당해주세요.\n",
    "\n",
    "x = sample_list.pop(3)\n",
    "\n",
    "print(x)\n",
    "\n",
    "## shallow copy , deep copy\n",
    "\n",
    "shallow = [[0] * 5] * 5\n",
    "print(shallow)\n",
    "\n",
    "shallow[4][0] = 1\n",
    "print(shallow)\n",
    "\n",
    "deep = [[0 for _ in range(5)] for _ in range(5)] \n",
    "print(deep)\n",
    "\n",
    "deep[4][0] = 1\n",
    "print(deep)"
   ]
  },
  {
   "cell_type": "code",
   "execution_count": 20,
   "metadata": {},
   "outputs": [
    {
     "name": "stdout",
     "output_type": "stream",
     "text": [
      "2714674041152\n",
      "2714674041152\n"
     ]
    }
   ],
   "source": [
    "# shallow copy\n",
    "scores = [90,80,100]\n",
    "\n",
    "new_scores = scores\n",
    "\n",
    "print(id(scores), id(new_scores), sep='\\n')\n",
    "\n"
   ]
  },
  {
   "cell_type": "code",
   "execution_count": 23,
   "metadata": {},
   "outputs": [
    {
     "name": "stdout",
     "output_type": "stream",
     "text": [
      "2714673763328\n",
      "2714652748992\n",
      "[90, 80, 100] [90, 80, 100]\n"
     ]
    }
   ],
   "source": [
    "# deep copy\n",
    "scores = [90,80,100]\n",
    "\n",
    "new_scores = []\n",
    "\n",
    "for score in scores:\n",
    "    new_scores.append(score)\n",
    "\n",
    "\n",
    "print(id(scores), id(new_scores), sep='\\n')\n",
    "print(new_scores,scores)"
   ]
  },
  {
   "cell_type": "code",
   "execution_count": 8,
   "metadata": {},
   "outputs": [
    {
     "name": "stdout",
     "output_type": "stream",
     "text": [
      "[1, 2, ['a', 'b']] [1, 2, ['a', 'b']]\n",
      "[1, 2, [0, 'b']] [1, 2, [0, 'b']]\n"
     ]
    }
   ],
   "source": [
    "# b = a[:] 가 shallow copy(얕은 복사) 인 이유\n",
    "\n",
    "a = [1,2,[\"a\",\"b\"]]\n",
    "b = a[:]\n",
    "print(a, b)\n",
    "\n",
    "b[2][0] = 0\n",
    "print(a,b)"
   ]
  },
  {
   "cell_type": "code",
   "execution_count": 24,
   "metadata": {},
   "outputs": [
    {
     "name": "stdout",
     "output_type": "stream",
     "text": [
      "[1, 2, ['a', 'b']] [1, 2, ['a', 'b']]\n",
      "2714673958656\n",
      "2714673766080\n",
      "[1, 2, ['a', 'b']] [1, 2, [0, 'b']]\n"
     ]
    }
   ],
   "source": [
    "# 위 문제 해결을 위해 copy.deepcopy 사용\n",
    "import copy\n",
    "\n",
    "a = [1,2,[\"a\",\"b\"]]\n",
    "b = copy.deepcopy(a)\n",
    "print(a, b)\n",
    "\n",
    "b[2][0] = 0\n",
    "print(a,b)"
   ]
  },
  {
   "cell_type": "code",
   "execution_count": 25,
   "metadata": {},
   "outputs": [
    {
     "name": "stdout",
     "output_type": "stream",
     "text": [
      "2714674069104\n",
      "2714674069104\n"
     ]
    }
   ],
   "source": [
    "a = \"12345\"\n",
    "b = copy.deepcopy(a)\n",
    "\n",
    "print(id(a),id(b),sep='\\n')  ## 깊은 복사 안됨?\n",
    "\n",
    "# 문자열은 불변(immutable)타입 리스트는 가변타입이기 때문\n",
    "# 만약 문자를 deep copy 하려면 리스트안에 넣고 변경하는 방법을 해야함."
   ]
  },
  {
   "cell_type": "code",
   "execution_count": null,
   "metadata": {},
   "outputs": [],
   "source": [
    "sorted(scores, key=lambda x : x[1])"
   ]
  },
  {
   "cell_type": "code",
   "execution_count": 21,
   "metadata": {},
   "outputs": [
    {
     "name": "stdout",
     "output_type": "stream",
     "text": [
      "10\n"
     ]
    }
   ],
   "source": []
  }
 ],
 "metadata": {
  "kernelspec": {
   "display_name": "Python 3",
   "language": "python",
   "name": "python3"
  },
  "language_info": {
   "codemirror_mode": {
    "name": "ipython",
    "version": 3
   },
   "file_extension": ".py",
   "mimetype": "text/x-python",
   "name": "python",
   "nbconvert_exporter": "python",
   "pygments_lexer": "ipython3",
   "version": "3.9.12 (tags/v3.9.12:b28265d, Mar 23 2022, 23:52:46) [MSC v.1929 64 bit (AMD64)]"
  },
  "orig_nbformat": 4,
  "vscode": {
   "interpreter": {
    "hash": "c4b9ebf4ca459396e2ad1150752490c26670c1a037c08cad955a4425787bec2e"
   }
  }
 },
 "nbformat": 4,
 "nbformat_minor": 2
}
