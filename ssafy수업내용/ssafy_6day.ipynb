{
 "cells": [
  {
   "attachments": {},
   "cell_type": "markdown",
   "metadata": {},
   "source": [
    "## 여러가지 내장함수"
   ]
  },
  {
   "cell_type": "code",
   "execution_count": 4,
   "metadata": {},
   "outputs": [
    {
     "name": "stdout",
     "output_type": "stream",
     "text": [
      "[10, 20, 30, 40, 50]\n"
     ]
    }
   ],
   "source": [
    "def my_magic_func(n):\n",
    "    return n*10\n",
    "\n",
    "my_list = [1,2,3,4,5]\n",
    "\n",
    "rlt = map(my_magic_func, my_list)\n",
    "\n",
    "print(list(rlt))"
   ]
  },
  {
   "cell_type": "code",
   "execution_count": 6,
   "metadata": {},
   "outputs": [
    {
     "name": "stdout",
     "output_type": "stream",
     "text": [
      "kim 25\n",
      "park 22\n",
      "jang 33\n",
      "ryu 15\n",
      "son 24\n"
     ]
    }
   ],
   "source": [
    "# zip 내장함수로 2개의 for 문을 동시에 돌릴 수 있다.\n",
    "\n",
    "name_list = [\"kim\",\"park\",\"jang\",\"ryu\",\"son\"]\n",
    "age_list = [25,22,33,15,24]\n",
    "\n",
    "for name,age in zip(name_list,age_list):\n",
    "    print(name,age)"
   ]
  },
  {
   "cell_type": "code",
   "execution_count": 17,
   "metadata": {},
   "outputs": [
    {
     "name": "stdout",
     "output_type": "stream",
     "text": [
      "[('a', 5), ('b', 9), ('c', 1), ('f', 3), ('g', 8), ('p', 6)]\n"
     ]
    }
   ],
   "source": [
    "rlt = (lambda x: x * x)(4)\n",
    "\n",
    "my_func = lambda n: n*2\n",
    "my_func(2)\n",
    "\n",
    "\n",
    "new_list = [(\"a\",5),(\"f\",3),(\"b\",9),(\"p\",6),(\"c\",1),(\"g\",8)]\n",
    "\n",
    "print(sorted(new_list,key=lambda x : x[0]))"
   ]
  },
  {
   "cell_type": "code",
   "execution_count": 1,
   "metadata": {},
   "outputs": [
    {
     "data": {
      "text/plain": [
       "[10, 20, 30]"
      ]
     },
     "execution_count": 1,
     "metadata": {},
     "output_type": "execute_result"
    }
   ],
   "source": [
    "list(map(lambda x: x*10, [1,2,3]))\n"
   ]
  },
  {
   "cell_type": "code",
   "execution_count": 18,
   "metadata": {},
   "outputs": [
    {
     "ename": "",
     "evalue": "",
     "output_type": "error",
     "traceback": [
      "\u001b[1;31mCanceled future for execute_request message before replies were done"
     ]
    },
    {
     "ename": "",
     "evalue": "",
     "output_type": "error",
     "traceback": [
      "\u001b[1;31m현재 셀 또는 이전 셀에서 코드를 실행하는 동안 Kernel이 충돌했습니다. 셀의 코드를 검토하여 오류의 가능한 원인을 식별하세요. 자세한 내용을 보려면 <a href='https://aka.ms/vscodeJupyterKernelCrash'> 여기 </a> 를 클릭하세요. 자세한 내용은 Jupyter <a href='command:jupyter.viewOutput'>로그</a>를 참조하세요."
     ]
    }
   ],
   "source": [
    "def recur():\n",
    "    print(\"뿅\")\n",
    "    recur()\n",
    "\n",
    "recur()"
   ]
  },
  {
   "cell_type": "code",
   "execution_count": 2,
   "metadata": {},
   "outputs": [
    {
     "data": {
      "text/plain": [
       "120"
      ]
     },
     "execution_count": 2,
     "metadata": {},
     "output_type": "execute_result"
    }
   ],
   "source": [
    "def fac(n):\n",
    "    if n == 1:\n",
    "        return 1\n",
    "    else:\n",
    "        return n * fac(n - 1)\n",
    "\n",
    "fac(5)"
   ]
  },
  {
   "cell_type": "code",
   "execution_count": 6,
   "metadata": {},
   "outputs": [
    {
     "name": "stdout",
     "output_type": "stream",
     "text": [
      "(1, 2, 3) <class 'tuple'>\n",
      "1 [2, 3, 4]\n",
      "60\n",
      "10 20 30\n"
     ]
    }
   ],
   "source": [
    "# 패킹 *\n",
    "\n",
    "x, y = 1, 2\n",
    "z = 1, 2, 3\n",
    "\n",
    "print(z,type(z))  # (1,2,3) tuple\n",
    "\n",
    "a, *b = 1,2,3,4\n",
    "print(a,b)\n",
    "\n",
    "\n",
    "# 언패킹 *\n",
    "\n",
    "def my_sum(a, b, c):\n",
    "    return a + b + c\n",
    "\n",
    "num_list = [10, 20, 30]\n",
    "\n",
    "# rlt = my_sum(num_list[0], num_list[1], num_list[2])\n",
    "rlt = my_sum(*num_list)\n",
    "\n",
    "print(rlt)\n",
    "print(*num_list)"
   ]
  },
  {
   "cell_type": "code",
   "execution_count": 18,
   "metadata": {},
   "outputs": [
    {
     "name": "stdout",
     "output_type": "stream",
     "text": [
      "1 2 3 4 {'name': 'aiden', 'age': 22} <class 'dict'>\n"
     ]
    },
    {
     "data": {
      "text/plain": [
       "{'name': 'aiden', 'age': 22}"
      ]
     },
     "execution_count": 18,
     "metadata": {},
     "output_type": "execute_result"
    }
   ],
   "source": [
    "# 패킹 / 언패킹 *\n",
    "\n",
    "def test(a,*args) :\n",
    "    rlt = a\n",
    "    for value in args:\n",
    "        rlt += value\n",
    "\n",
    "    return rlt\n",
    "\n",
    "\n",
    "test(0)\n",
    "test(1,2,3,4,5)\n",
    "\n",
    "# 키워드 가변인자 **\n",
    "   # *args : 포지션별 가변인자 , **kwargs : 키워드 가변인자\n",
    "def test2(*args, **kwargs) : \n",
    "    print(*args, kwargs, type(kwargs))\n",
    "    return kwargs\n",
    "\n",
    "test2(1, 2, 3, 4, name='aiden', age=22)"
   ]
  },
  {
   "cell_type": "code",
   "execution_count": 24,
   "metadata": {},
   "outputs": [
    {
     "name": "stdout",
     "output_type": "stream",
     "text": [
      "[4, 2, 1, 3]\n"
     ]
    }
   ],
   "source": [
    "import random\n",
    "\n",
    "a = [1,2,3,4]\n",
    "random.shuffle(a)\n",
    "print(a)"
   ]
  },
  {
   "cell_type": "code",
   "execution_count": 21,
   "metadata": {},
   "outputs": [
    {
     "name": "stdout",
     "output_type": "stream",
     "text": [
      "\u001b[1;31mSignature:\u001b[0m \u001b[0mrandom\u001b[0m\u001b[1;33m.\u001b[0m\u001b[0mshuffle\u001b[0m\u001b[1;33m(\u001b[0m\u001b[0mx\u001b[0m\u001b[1;33m,\u001b[0m \u001b[0mrandom\u001b[0m\u001b[1;33m=\u001b[0m\u001b[1;32mNone\u001b[0m\u001b[1;33m)\u001b[0m\u001b[1;33m\u001b[0m\u001b[1;33m\u001b[0m\u001b[0m\n",
      "\u001b[1;31mDocstring:\u001b[0m\n",
      "Shuffle list x in place, and return None.\n",
      "\n",
      "Optional argument random is a 0-argument function returning a\n",
      "random float in [0.0, 1.0); if it is the default None, the\n",
      "standard random.random will be used.\n",
      "\u001b[1;31mFile:\u001b[0m      c:\\users\\ssafy\\appdata\\local\\programs\\python\\python39\\lib\\random.py\n",
      "\u001b[1;31mType:\u001b[0m      method"
     ]
    }
   ],
   "source": [
    "random.shuffle?"
   ]
  },
  {
   "cell_type": "code",
   "execution_count": 6,
   "metadata": {},
   "outputs": [
    {
     "name": "stdout",
     "output_type": "stream",
     "text": [
      "dict_values([['eat', 'ate'], ['tan', 'ant'], ['btn']])\n"
     ]
    }
   ],
   "source": [
    "words = ['eat','ate','tan','ant','btn']\n",
    "anagrams = {}\n",
    "for word in words :\n",
    "    temp = sorted(word)\n",
    "    temp = \"\".join(temp)  ## list => string 전환\n",
    "\n",
    "    if anagrams.get(temp):\n",
    "        anagrams[temp].append(word)\n",
    "    else :\n",
    "        anagrams[temp] = [word]\n",
    "\n",
    "print(anagrams.values())"
   ]
  },
  {
   "cell_type": "code",
   "execution_count": 16,
   "metadata": {},
   "outputs": [
    {
     "name": "stdout",
     "output_type": "stream",
     "text": [
      "[1, -2, 5, -9, 10]\n",
      "dict_items([('kim', 3), ('park', 2), ('ryu', 4)])\n",
      "[('park', 2), ('kim', 3), ('ryu', 4)]\n"
     ]
    }
   ],
   "source": [
    "# sorted(key,reverse)\n",
    "\n",
    "a = [1, 5, -2, -9, 10]\n",
    "b = sorted(a,key=lambda x : abs(x))\n",
    "print(b)\n",
    "\n",
    "rank = {\"kim\" : 3, \"park\" : 2, \"ryu\" : 4}\n",
    "new_rank = rank.items()\n",
    "\n",
    "result = sorted(new_rank,key=lambda x : x[1])\n",
    "print(new_rank,result,sep=\"\\n\")"
   ]
  },
  {
   "cell_type": "code",
   "execution_count": 15,
   "metadata": {},
   "outputs": [
    {
     "name": "stdout",
     "output_type": "stream",
     "text": [
      "\u001b[1;31mDocstring:\u001b[0m\n",
      "print(value, ..., sep=' ', end='\\n', file=sys.stdout, flush=False)\n",
      "\n",
      "Prints the values to a stream, or to sys.stdout by default.\n",
      "Optional keyword arguments:\n",
      "file:  a file-like object (stream); defaults to the current sys.stdout.\n",
      "sep:   string inserted between values, default a space.\n",
      "end:   string appended after the last value, default a newline.\n",
      "flush: whether to forcibly flush the stream.\n",
      "\u001b[1;31mType:\u001b[0m      builtin_function_or_method"
     ]
    }
   ],
   "source": [
    "print?"
   ]
  }
 ],
 "metadata": {
  "kernelspec": {
   "display_name": "Python 3",
   "language": "python",
   "name": "python3"
  },
  "language_info": {
   "codemirror_mode": {
    "name": "ipython",
    "version": 3
   },
   "file_extension": ".py",
   "mimetype": "text/x-python",
   "name": "python",
   "nbconvert_exporter": "python",
   "pygments_lexer": "ipython3",
   "version": "3.9.12 (tags/v3.9.12:b28265d, Mar 23 2022, 23:52:46) [MSC v.1929 64 bit (AMD64)]"
  },
  "orig_nbformat": 4,
  "vscode": {
   "interpreter": {
    "hash": "c4b9ebf4ca459396e2ad1150752490c26670c1a037c08cad955a4425787bec2e"
   }
  }
 },
 "nbformat": 4,
 "nbformat_minor": 2
}
