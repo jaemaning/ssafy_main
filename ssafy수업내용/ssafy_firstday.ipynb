{
 "cells": [
  {
   "cell_type": "code",
   "execution_count": 1,
   "metadata": {},
   "outputs": [
    {
     "name": "stdout",
     "output_type": "stream",
     "text": [
      "hello world\n"
     ]
    }
   ],
   "source": [
    "print(\"hello world\")  ## python 설치가 잘 되었는지 확인해 보기 위해 출력"
   ]
  },
  {
   "attachments": {},
   "cell_type": "markdown",
   "metadata": {},
   "source": [
    "# 자료형 예시"
   ]
  },
  {
   "cell_type": "code",
   "execution_count": 7,
   "metadata": {},
   "outputs": [
    {
     "name": "stdout",
     "output_type": "stream",
     "text": [
      "<class 'int'> <class 'str'> <class 'list'> <class 'dict'>\n"
     ]
    }
   ],
   "source": [
    "a = 1\n",
    "b = \"2\"\n",
    "c = [1,2,3]\n",
    "d = {\"name\":\"재만\", \"age\":30}\n",
    "\n",
    "print(type(a),type(b),type(c),type(d)) # 정수, 문자, 리스트, 딕셔너리"
   ]
  },
  {
   "attachments": {},
   "cell_type": "markdown",
   "metadata": {},
   "source": [
    "# while 문 예시"
   ]
  },
  {
   "cell_type": "code",
   "execution_count": 8,
   "metadata": {},
   "outputs": [
    {
     "name": "stdout",
     "output_type": "stream",
     "text": [
      "0\n",
      "1\n",
      "2\n",
      "2 x 1 = 2\n",
      "2 x 2 = 4\n",
      "2 x 3 = 6\n",
      "2 x 4 = 8\n",
      "2 x 5 = 10\n",
      "2 x 6 = 12\n",
      "2 x 7 = 14\n",
      "2 x 8 = 16\n",
      "2 x 9 = 18\n"
     ]
    }
   ],
   "source": [
    "n = 0\n",
    "while n < 3:\n",
    "    print(n)\n",
    "    n += 1\n",
    "\n",
    "i = 1\n",
    "while i < 10:\n",
    "    print(f\"2 x {i} = {2 * i}\")\n",
    "    i += 1"
   ]
  },
  {
   "attachments": {},
   "cell_type": "markdown",
   "metadata": {},
   "source": [
    "# for 문 예시"
   ]
  },
  {
   "cell_type": "code",
   "execution_count": 3,
   "metadata": {},
   "outputs": [
    {
     "name": "stdout",
     "output_type": "stream",
     "text": [
      "2*1=2\n",
      "2*2=4\n",
      "2*3=6\n",
      "2*4=8\n",
      "2*5=10\n",
      "2*6=12\n",
      "2*7=14\n",
      "2*8=16\n",
      "59\n",
      "24\n",
      "102\n"
     ]
    }
   ],
   "source": [
    "dusts = [59, 24, 102]\n",
    "\n",
    "\n",
    "for i in range(1,9):\n",
    "    print(f\"2*{i}={2*i}\")\n",
    "\n",
    "for i in dusts:\n",
    "    print(i)"
   ]
  },
  {
   "attachments": {},
   "cell_type": "markdown",
   "metadata": {},
   "source": [
    "# if 문 , for 문 , while 문 중첩 SSAF(y) 가능"
   ]
  },
  {
   "cell_type": "code",
   "execution_count": 4,
   "metadata": {},
   "outputs": [
    {
     "name": "stdout",
     "output_type": "stream",
     "text": [
      "10보다 크다\n"
     ]
    }
   ],
   "source": [
    "dust = 15\n",
    "\n",
    "if dust > 10:\n",
    "    print(\"10보다 크다\")\n",
    "    if dust > 20:\n",
    "        print(\"20보다 크다\")"
   ]
  },
  {
   "attachments": {},
   "cell_type": "markdown",
   "metadata": {},
   "source": [
    "# 구구단"
   ]
  },
  {
   "cell_type": "code",
   "execution_count": 5,
   "metadata": {},
   "outputs": [
    {
     "name": "stdout",
     "output_type": "stream",
     "text": [
      "=== 2 단 ===\n",
      "2 x 1 = 2\n",
      "2 x 2 = 4\n",
      "2 x 3 = 6\n",
      "2 x 4 = 8\n",
      "2 x 5 = 10\n",
      "2 x 6 = 12\n",
      "2 x 7 = 14\n",
      "2 x 8 = 16\n",
      "2 x 9 = 18\n",
      "=== 3 단 ===\n",
      "3 x 1 = 3\n",
      "3 x 2 = 6\n",
      "3 x 3 = 9\n",
      "3 x 4 = 12\n",
      "3 x 5 = 15\n",
      "3 x 6 = 18\n",
      "3 x 7 = 21\n",
      "3 x 8 = 24\n",
      "3 x 9 = 27\n",
      "=== 4 단 ===\n",
      "4 x 1 = 4\n",
      "4 x 2 = 8\n",
      "4 x 3 = 12\n",
      "4 x 4 = 16\n",
      "4 x 5 = 20\n",
      "4 x 6 = 24\n",
      "4 x 7 = 28\n",
      "4 x 8 = 32\n",
      "4 x 9 = 36\n",
      "=== 5 단 ===\n",
      "5 x 1 = 5\n",
      "5 x 2 = 10\n",
      "5 x 3 = 15\n",
      "5 x 4 = 20\n",
      "5 x 5 = 25\n",
      "5 x 6 = 30\n",
      "5 x 7 = 35\n",
      "5 x 8 = 40\n",
      "5 x 9 = 45\n",
      "=== 6 단 ===\n",
      "6 x 1 = 6\n",
      "6 x 2 = 12\n",
      "6 x 3 = 18\n",
      "6 x 4 = 24\n",
      "6 x 5 = 30\n",
      "6 x 6 = 36\n",
      "6 x 7 = 42\n",
      "6 x 8 = 48\n",
      "6 x 9 = 54\n",
      "=== 7 단 ===\n",
      "7 x 1 = 7\n",
      "7 x 2 = 14\n",
      "7 x 3 = 21\n",
      "7 x 4 = 28\n",
      "7 x 5 = 35\n",
      "7 x 6 = 42\n",
      "7 x 7 = 49\n",
      "7 x 8 = 56\n",
      "7 x 9 = 63\n",
      "=== 8 단 ===\n",
      "8 x 1 = 8\n",
      "8 x 2 = 16\n",
      "8 x 3 = 24\n",
      "8 x 4 = 32\n",
      "8 x 5 = 40\n",
      "8 x 6 = 48\n",
      "8 x 7 = 56\n",
      "8 x 8 = 64\n",
      "8 x 9 = 72\n",
      "=== 9 단 ===\n",
      "9 x 1 = 9\n",
      "9 x 2 = 18\n",
      "9 x 3 = 27\n",
      "9 x 4 = 36\n",
      "9 x 5 = 45\n",
      "9 x 6 = 54\n",
      "9 x 7 = 63\n",
      "9 x 8 = 72\n",
      "9 x 9 = 81\n"
     ]
    }
   ],
   "source": [
    "for i in range(2,10):\n",
    "    print(f\"=== {i} 단 ===\")\n",
    "    for j in range(1,10):\n",
    "        print(f\"{i} x {j} = {j * i}\")"
   ]
  },
  {
   "attachments": {},
   "cell_type": "markdown",
   "metadata": {},
   "source": [
    "# 함수  (내장함수, 내가 만든 함수)"
   ]
  },
  {
   "cell_type": "code",
   "execution_count": 6,
   "metadata": {},
   "outputs": [
    {
     "name": "stdout",
     "output_type": "stream",
     "text": [
      "2\n",
      "3\n"
     ]
    }
   ],
   "source": [
    "# 내장함수  많이 쓰는 print(), range() 도 함수다.\n",
    "\n",
    "print(len(\"hi\"))  # 문자열 길이, 리스트 길이 출력\n",
    "print(abs(-3))  # 절대값"
   ]
  },
  {
   "cell_type": "code",
   "execution_count": 7,
   "metadata": {},
   "outputs": [
    {
     "name": "stdout",
     "output_type": "stream",
     "text": [
      "hello\n",
      "my name is\n",
      "jaeman\n"
     ]
    }
   ],
   "source": [
    "# 내가 만드는 함수\n",
    "myname = \"jaeman\"\n",
    "\n",
    "def hello(name):\n",
    "    print(\"hello\")\n",
    "    print(\"my name is\")\n",
    "    print(name)\n",
    "\n",
    "hello(myname)\n"
   ]
  },
  {
   "cell_type": "code",
   "execution_count": 8,
   "metadata": {},
   "outputs": [
    {
     "name": "stdout",
     "output_type": "stream",
     "text": [
      "6\n"
     ]
    }
   ],
   "source": [
    "#### 2번째 리스트에 있는 값들을 모두 더하는 dsum 함수 만들기\n",
    "\n",
    "def dsum(x):\n",
    "    n=0\n",
    "    for i in x:\n",
    "        n+=i\n",
    "    \n",
    "    return n\n",
    "\n",
    "a= [1,2,3]\n",
    "\n",
    "print(dsum(a))"
   ]
  },
  {
   "attachments": {},
   "cell_type": "markdown",
   "metadata": {},
   "source": [
    "# 모듈 사용\n",
    "함수가 포함된 파일을 불러온다.(import)"
   ]
  },
  {
   "cell_type": "code",
   "execution_count": 9,
   "metadata": {},
   "outputs": [
    {
     "data": {
      "text/plain": [
       "'짜장면'"
      ]
     },
     "execution_count": 9,
     "metadata": {},
     "output_type": "execute_result"
    }
   ],
   "source": [
    "# random module 활용하기\n",
    "\n",
    "import random\n",
    "menu = [\"짜장면\", \"짬뽕\", \"탕수육\"]\n",
    "\n",
    "random.choice(menu)"
   ]
  },
  {
   "attachments": {},
   "cell_type": "markdown",
   "metadata": {},
   "source": [
    "# random 모듈을 이용하여 Lotto 만들기"
   ]
  },
  {
   "cell_type": "code",
   "execution_count": 10,
   "metadata": {},
   "outputs": [
    {
     "name": "stdout",
     "output_type": "stream",
     "text": [
      "1 번째 번호 : 29\n",
      "2 번째 번호 : 16\n",
      "3 번째 번호 : 39\n",
      "4 번째 번호 : 27\n",
      "5 번째 번호 : 21\n",
      "6 번째 번호 : 34\n"
     ]
    }
   ],
   "source": [
    "a = list(range(1,46))\n",
    "numbers=[]\n",
    "\n",
    "for i in range(6):\n",
    "    number=random.choice(a)\n",
    "    print(f\"{i+1} 번째 번호 : {number}\")\n",
    "    a.remove(number)   # 중복 방지용 list 안에 뽑은 숫자 제거.\n"
   ]
  },
  {
   "cell_type": "code",
   "execution_count": 11,
   "metadata": {},
   "outputs": [
    {
     "name": "stdout",
     "output_type": "stream",
     "text": [
      "[45, 35, 11, 24, 31, 37]\n"
     ]
    }
   ],
   "source": [
    "# sample(리스트,개수)\n",
    "\n",
    "lotto_nums = random.sample(a,6)\n",
    "print(lotto_nums)"
   ]
  },
  {
   "attachments": {},
   "cell_type": "markdown",
   "metadata": {},
   "source": [
    "# 요청과 응답\n",
    "클라이언트(요청)\n",
    "서버(응답)\n",
    "API(Aplication Programming Interface) - 컴퓨팅 처리를 쉽게 해주는 기능\n",
    "\n",
    "API 실습 - 나이 예측하기 , Lotto"
   ]
  },
  {
   "cell_type": "code",
   "execution_count": 12,
   "metadata": {},
   "outputs": [
    {
     "name": "stdout",
     "output_type": "stream",
     "text": [
      "name : jaeman , age : 50\n"
     ]
    }
   ],
   "source": [
    "import requests \n",
    "# 실습1 나이 예측하기\n",
    "\n",
    "url = \"https://api.agify.io?name=\"\n",
    "name = input()\n",
    "\n",
    "furl = url+name\n",
    "\n",
    "# JSON 파일이지만, 파이썬에서 사용하는 딕셔너리처럼 사용 가능\n",
    "response = requests.get(furl).json()\n",
    "print(f\"name : {response.get('name')} , age : {response.get('age')}\")"
   ]
  },
  {
   "cell_type": "code",
   "execution_count": 13,
   "metadata": {},
   "outputs": [
    {
     "name": "stdout",
     "output_type": "stream",
     "text": [
      "12\n",
      "15\n",
      "17\n",
      "24\n",
      "29\n",
      "45\n",
      "16\n"
     ]
    }
   ],
   "source": [
    "# 실습2 Lotto API\n",
    "\n",
    "num = 1021\n",
    "url = f\"https://www.dhlottery.co.kr/common.do?method=getLottoNumber&drwNo={num}\"  # ? 를 기준으로 https://www.dhlottery.co.kr/common.do 는 서버위치 / method=getLottoNumber&drwNo={num} 서버의 정보\n",
    "\n",
    "response = requests.get(url).json()\n",
    "\n",
    "for i in range(1,7):\n",
    "    print(response.get(f\"drwtNo{i}\"))\n",
    "\n",
    "print(response.get(\"bnusNo\"))"
   ]
  },
  {
   "cell_type": "code",
   "execution_count": 14,
   "metadata": {},
   "outputs": [
    {
     "name": "stdout",
     "output_type": "stream",
     "text": [
      "mitch.swaniawski\n",
      "zora.lind\n",
      "quentin.bartell\n",
      "meryl.shields\n",
      "darrin.pagac\n",
      "martin.schmitt\n",
      "rene.rodriguez\n",
      "etha.mayer\n",
      "jeramy.gorczany\n",
      "ladonna.kemmer\n"
     ]
    }
   ],
   "source": [
    "# 실습3 랜덤 API 사이트에 가서 유저 10명 정보를 가져오기\n",
    "\n",
    "# 요청은 한번만 보낼 수 있다.\n",
    "# 사용자 10명의 username 을 출력해보자\n",
    "\n",
    "url = \"https://random-data-api.com/api/v2/users?size=10\"\n",
    "\n",
    "response = requests.get(url).json()\n",
    "\n",
    "for i in range(10):\n",
    "    print(response[i].get('username'))\n"
   ]
  }
 ],
 "metadata": {
  "kernelspec": {
   "display_name": "Python311",
   "language": "python",
   "name": "python3"
  },
  "language_info": {
   "codemirror_mode": {
    "name": "ipython",
    "version": 3
   },
   "file_extension": ".py",
   "mimetype": "text/x-python",
   "name": "python",
   "nbconvert_exporter": "python",
   "pygments_lexer": "ipython3",
   "version": "3.11.1 (tags/v3.11.1:a7a450f, Dec  6 2022, 19:58:39) [MSC v.1934 64 bit (AMD64)]"
  },
  "orig_nbformat": 4,
  "vscode": {
   "interpreter": {
    "hash": "ed68be99cea8a11266cf3e2806ce1d32711567a4a9bcc5e30f7d243e7b661601"
   }
  }
 },
 "nbformat": 4,
 "nbformat_minor": 2
}
