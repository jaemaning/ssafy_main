{
 "cells": [
  {
   "cell_type": "code",
   "execution_count": 6,
   "metadata": {},
   "outputs": [
    {
     "name": "stdout",
     "output_type": "stream",
     "text": [
      "100\n"
     ]
    }
   ],
   "source": [
    "'''\n",
    "김해피는 구슬치기 대회에 참가하였다. \n",
    "모든 인원은 참가 번호를 부여받는데, \n",
    "자신과 같은 참가 번호를 가진 사람과 구슬치기 게임을 진행하여야 한다.\n",
    "단, 반드시 짝이 없는 한 명의 깍두기가 존재한다. \n",
    "참가자들의 참가 번호 정보가 리스트로 주어질 때, \n",
    "깍두기의 참가 번호를 출력하시오.\n",
    "A.    참가자 번호는 1번부터 시작합니다.\n",
    "B.    깍두기는 한 명만 존재합니다.\n",
    "C.    깍두기를 제외한 모든 참가자는 자신의 짝(자신과 같은 수)이 존재합니다. \n",
    "'''\n",
    "\n",
    "\n",
    "participants =  [3, 7, 100, 21, 13, 6, 5, 7, 5, 6, 3, 13, 21]\n",
    "\n",
    "# participants 리스트가 빌떄까지 반복\n",
    "while participants :\n",
    "    # 1개씩 participants 리스트의 오른쪽부터 pop\n",
    "    number = participants.pop()\n",
    "    # 만약 오른쪽 숫자를 pop 했음에도 리스트 안에 해당 숫자가 있으면?\n",
    "    if number in participants:\n",
    "        participants.pop(participants.index(number))\n",
    "        # 해당 짝숫자의 index를 찾아 리스트에서 제거\n",
    "    else: ## 짝 숫자가 없으면 깍두기 출력 후 종료\n",
    "        print(number)\n",
    "        break\n"
   ]
  },
  {
   "cell_type": "code",
   "execution_count": 21,
   "metadata": {},
   "outputs": [
    {
     "name": "stdout",
     "output_type": "stream",
     "text": [
      "Mark 20\n",
      "Rohan 14\n",
      "False\n",
      "True\n"
     ]
    }
   ],
   "source": [
    "'''\n",
    "아래의 명세를 읽고 Python 클래스를 활용하여 사람(Person)을 표현하시오. \n",
    "1.  사람은 이름과 나이를 가진다.\n",
    "2.  사람을 인스턴스를 생성하는 방법은 2가지다.   \n",
    "    A.    생성자       \n",
    "        i.        이름과 나이를 인자로 받는다.   \n",
    "    B.   get_age 클래스 메서드       \n",
    "        i.        이름과 태어난 연도를 받아 나이로 변환하고, 새로운 Person 객체를 반환한다.\n",
    "3.  인스턴스의 나이를 확인하는 메서드 check_age를 만든다.   \n",
    "    A.    미성년자의 기준을 미성년자 여부를 True, False로 반환한다. 미성년자는 19세를 기준으로 한다. \n",
    "실행 예시 \n",
    "#Driver's code\n",
    "person1 = Person('Mark', 20)\n",
    "person2 = Person.get_age('Rohan', 1992)\n",
    "\n",
    "print(person1.name, person1.age) \n",
    "print(person2.name, person2.age)\n",
    "print(person1.check_age())\n",
    "print(person2.check_age())\n",
    "'''\n",
    "\n",
    "#Driver's code\n",
    "\n",
    "from datetime import date\n",
    "\n",
    "class Person:\n",
    "\n",
    "    def __init__(self, name, age):\n",
    "        self.name = name\n",
    "        self.age = age\n",
    "\n",
    "    @classmethod\n",
    "    def get_age(cls, name, birthyear):\n",
    "        # 새로운 Person 객체 만들어 리턴\n",
    "        return cls(name, date.today().year-birthyear)\n",
    "\n",
    "    def check_age(self):\n",
    "        if self.age < 19:\n",
    "            return True\n",
    "        else:\n",
    "            return False\n",
    "\n",
    "person1 = Person('Mark', 20)\n",
    "person2 = Person.get_age('Rohan', 2009)\n",
    "\n",
    "print(person1.name, person1.age) \n",
    "print(person2.name, person2.age)\n",
    "print(person1.check_age())\n",
    "print(person2.check_age())\n",
    "\n"
   ]
  },
  {
   "cell_type": "code",
   "execution_count": 30,
   "metadata": {},
   "outputs": [
    {
     "name": "stdout",
     "output_type": "stream",
     "text": [
      "탑승 객수를 체크하세요\n",
      "200000\n",
      "0\n"
     ]
    }
   ],
   "source": [
    "class PublicTransport:\n",
    "    \n",
    "    cnt = 0\n",
    "\n",
    "    def __init__(self, name, fare):\n",
    "        self.name = name\n",
    "        self.fare = fare\n",
    "\n",
    "    def get_in(self):\n",
    "        self.cnt += 1\n",
    "\n",
    "    def get_off(self):\n",
    "        if self.cnt > 0:\n",
    "            self.cnt -= 1\n",
    "        else:\n",
    "            print(\"탑승 객수를 체크하세요\")\n",
    "\n",
    "    def profit(self):\n",
    "        result = self.fare * self.cnt\n",
    "        return result\n",
    "\n",
    "p1 = PublicTransport('jeju', 200000)\n",
    "p2 = PublicTransport('asiana', 300000)\n",
    "\n",
    "p1.get_in()\n",
    "p2.get_off()\n",
    "\n",
    "print(p1.profit())\n",
    "print(p2.profit())"
   ]
  },
  {
   "cell_type": "code",
   "execution_count": null,
   "metadata": {},
   "outputs": [],
   "source": [
    "class "
   ]
  },
  {
   "attachments": {},
   "cell_type": "markdown",
   "metadata": {},
   "source": [
    "설명                                               |\n",
    "| ----- | ---------- | ----------- | ------------------------------------------------ |\n",
    "| (생성자) | x 좌표, y 좌표 | None        | 인스턴스가 생성 될 때, 전달 받은 int 값들로 인스턴스 변수 x와 y를 초기화한다. |\n",
    "\n",
    "예를 들어, 좌표 (4, 3)의 점은 아래와 같이 표현할 수 있다.\n",
    "\n",
    "```python\n",
    "p1 = Point(4, 3)\n",
    "```\n",
    "\n",
    "---\n",
    "\n",
    "Rectangle 클래스에 대한 명세는 다음과 같습니다.\n",
    "\n",
    "**Rectangle 클래스 속성 1**\n",
    "\n",
    "| 인스턴스 변수 | 타입             | 비고       |\n",
    "| ------- | -------------- | -------- |\n",
    "| p1      | Point 클래스 인스턴스 | 좌측 상단 좌표 |\n",
    "| p2      | Point 클래스 인스턴스 | 우측 하단 좌표 |\n",
    "\n",
    "**Rectangle 클래스 메서드 1**\n",
    "\n",
    "| 메소드명           | 인자             | 반환값(타입)                                                                          | 비고                                       |\n",
    "| -------------- | -------------- | -------------------------------------------------------------------------------- | ---------------------------------------- |\n",
    "| (생성자)          | Point 클래스 인스턴스 |                                                                                  |                                          |\n",
    "| Point 클래스 인스턴스 | 없음             | 인스턴스가 생성 될 때, 2개의 Point 인스턴스(좌측 상단 좌표, 우측 하단 좌표)를 전달 받아, 인스턴스 변수 p1과 p2를 초기화 한다. |                                          |\n",
    "| get_area       | 없음             | 넓이(int)                                                                          | 사각형의 넓이를 계산하여 반환한다.                      |\n",
    "| get_perimeter  | 없음             | 둘레 길이(int)                                                                       | 사각형의 둘레 길이를 계산하여 반환한다.                   |\n",
    "| is_square      | 없음             | 정사각형 유무(bool)                                                                    | 사각형이 정사각형이면 True, 정사각형이 아니면 False를 반환한다. |\n",
    "\n",
    "예를 들어, 좌측 상단 좌표 (1, 3)과 우측 하단 좌표 (3, 1)의 점으로 만든 사각형을그림으로 표현하면 다음과 같다.\n",
    "\n",
    "\n",
    "<img width=\"637\" alt=\"홈워크_python_08_hw01_P\" src=\"https://user-images.githubusercontent.com/104895176/195534968-0946300e-4b42-429f-8578-8bb4b3e5e698.png\">"
   ]
  },
  {
   "cell_type": "code",
   "execution_count": 44,
   "metadata": {},
   "outputs": [
    {
     "name": "stdout",
     "output_type": "stream",
     "text": [
      "4\n",
      "8\n",
      "True\n",
      "9\n",
      "12\n",
      "True\n"
     ]
    }
   ],
   "source": [
    "class Point:\n",
    "    # 리스트로 인스턴스 생성.\n",
    "    def __init__(self, p1, p2):\n",
    "        self.p = [p1, p2]\n",
    "        \n",
    "\n",
    "\n",
    "class Rectangle:\n",
    "    # 리스트로 받은 인스턴스를 받는 생성자\n",
    "    def __init__(self, p1, p2):\n",
    "        self.p1 = p1\n",
    "        self.p2 = p2\n",
    "\n",
    "    # 해당 인스턴스를 활용 하여 아래 문제들 처리.\n",
    "    def get_area(self):\n",
    "        return (self.p2.p[0] - self.p1.p[0]) * (self.p1.p[1] - self.p2.p[1])\n",
    "        \n",
    "    def get_perimeter(self):\n",
    "        return ((self.p2.p[0] - self.p1.p[0]) + (self.p1.p[1] - self.p2.p[1])) * 2\n",
    "\n",
    "    def is_square(self):\n",
    "        if (self.p2.p[0] - self.p1.p[0]) == (self.p1.p[1] - self.p2.p[1]):\n",
    "            return True\n",
    "        else:\n",
    "            return False\n",
    "\n",
    "\n",
    "# 입력 예시\n",
    "p1 = Point(1, 3)\n",
    "p2 = Point(3, 1)\n",
    "r1 = Rectangle(p1, p2)\n",
    "print(r1.get_area())\n",
    "print(r1.get_perimeter())\n",
    "print(r1.is_square())\n",
    "\n",
    "p3 = Point(3, 7)\n",
    "p4 = Point(6, 4)\n",
    "r2 = Rectangle(p3, p4)\n",
    "print(r2.get_area())\n",
    "print(r2.get_perimeter())\n",
    "print(r2.is_square())\n",
    "    \n",
    "\n",
    "# 출력 예시\n",
    "# 4\n",
    "# 8\n",
    "# True\n",
    "\n",
    "# 9\n",
    "# 12\n",
    "# True"
   ]
  },
  {
   "cell_type": "code",
   "execution_count": 79,
   "metadata": {},
   "outputs": [
    {
     "name": "stdout",
     "output_type": "stream",
     "text": [
      "True\n",
      "None\n",
      "None\n",
      "None\n"
     ]
    },
    {
     "data": {
      "text/plain": [
       "[1]"
      ]
     },
     "execution_count": 79,
     "metadata": {},
     "output_type": "execute_result"
    }
   ],
   "source": [
    "class Stack:\n",
    "\n",
    "    def __init__(self, *arg):\n",
    "        self.arg = list(arg)\n",
    "\n",
    "    def empty(self):\n",
    "        if self.arg:\n",
    "            return False\n",
    "        else:\n",
    "            return True\n",
    "\n",
    "    def top(self):\n",
    "        if self.arg:\n",
    "            return self.arg[-1]\n",
    "        else:\n",
    "            return None\n",
    "    \n",
    "    def pop(self):\n",
    "        if self.arg:\n",
    "            result = self.arg[-1]\n",
    "            del self.arg[-1]\n",
    "            return result\n",
    "        else:\n",
    "            return None        \n",
    "\n",
    "    def push(self, num):\n",
    "        self.arg.append(num)\n",
    "\n",
    "    def __repr__(self):\n",
    "        return f\"{self.arg}\"\n",
    "\n",
    "stk_list = Stack()\n",
    "\n",
    "print(stk_list.empty())\n",
    "print(stk_list.top())\n",
    "print(stk_list.pop())\n",
    "print(stk_list.push(1))\n",
    "stk_list"
   ]
  },
  {
   "cell_type": "code",
   "execution_count": 78,
   "metadata": {},
   "outputs": [
    {
     "name": "stdout",
     "output_type": "stream",
     "text": [
      "([1, 2, 3, 4],)\n",
      "False\n",
      "[1, 2, 3, 4]\n"
     ]
    },
    {
     "ename": "TypeError",
     "evalue": "'tuple' object doesn't support item deletion",
     "output_type": "error",
     "traceback": [
      "\u001b[1;31m---------------------------------------------------------------------------\u001b[0m",
      "\u001b[1;31mTypeError\u001b[0m                                 Traceback (most recent call last)",
      "Cell \u001b[1;32mIn[78], line 7\u001b[0m\n\u001b[0;32m      5\u001b[0m \u001b[39mprint\u001b[39m(stk_list\u001b[39m.\u001b[39mempty())\n\u001b[0;32m      6\u001b[0m \u001b[39mprint\u001b[39m(stk_list\u001b[39m.\u001b[39mtop())\n\u001b[1;32m----> 7\u001b[0m \u001b[39mprint\u001b[39m(stk_list\u001b[39m.\u001b[39;49mpop())\n\u001b[0;32m      8\u001b[0m \u001b[39mprint\u001b[39m(stk_list\u001b[39m.\u001b[39mpush(\u001b[39m1\u001b[39m))\n\u001b[0;32m      9\u001b[0m stk_list\n",
      "Cell \u001b[1;32mIn[77], line 21\u001b[0m, in \u001b[0;36mStack.pop\u001b[1;34m(self)\u001b[0m\n\u001b[0;32m     19\u001b[0m \u001b[39mif\u001b[39;00m \u001b[39mself\u001b[39m\u001b[39m.\u001b[39marg:\n\u001b[0;32m     20\u001b[0m     result \u001b[39m=\u001b[39m \u001b[39mself\u001b[39m\u001b[39m.\u001b[39marg[\u001b[39m-\u001b[39m\u001b[39m1\u001b[39m]\n\u001b[1;32m---> 21\u001b[0m     \u001b[39mdel\u001b[39;00m \u001b[39mself\u001b[39m\u001b[39m.\u001b[39marg[\u001b[39m-\u001b[39m\u001b[39m1\u001b[39m]\n\u001b[0;32m     22\u001b[0m     \u001b[39mreturn\u001b[39;00m result\n\u001b[0;32m     23\u001b[0m \u001b[39melse\u001b[39;00m:\n",
      "\u001b[1;31mTypeError\u001b[0m: 'tuple' object doesn't support item deletion"
     ]
    }
   ],
   "source": [
    "stk_list = Stack([1,2,3,4])\n",
    "\n",
    "print(stk_list)\n",
    "\n",
    "print(stk_list.empty())\n",
    "print(stk_list.top())\n",
    "print(stk_list.pop())\n",
    "print(stk_list.push(1))\n",
    "stk_list"
   ]
  },
  {
   "cell_type": "code",
   "execution_count": 55,
   "metadata": {},
   "outputs": [
    {
     "ename": "TypeError",
     "evalue": "'tuple' object doesn't support item deletion",
     "output_type": "error",
     "traceback": [
      "\u001b[1;31m---------------------------------------------------------------------------\u001b[0m",
      "\u001b[1;31mTypeError\u001b[0m                                 Traceback (most recent call last)",
      "Cell \u001b[1;32mIn[55], line 2\u001b[0m\n\u001b[0;32m      1\u001b[0m a \u001b[39m=\u001b[39m (\u001b[39m1\u001b[39m,\u001b[39m2\u001b[39m,\u001b[39m3\u001b[39m,\u001b[39m4\u001b[39m,\u001b[39m5\u001b[39m)\n\u001b[1;32m----> 2\u001b[0m \u001b[39mdel\u001b[39;00m a[\u001b[39m0\u001b[39m]\n\u001b[0;32m      3\u001b[0m \u001b[39mprint\u001b[39m(a)\n",
      "\u001b[1;31mTypeError\u001b[0m: 'tuple' object doesn't support item deletion"
     ]
    }
   ],
   "source": []
  }
 ],
 "metadata": {
  "kernelspec": {
   "display_name": "Python 3",
   "language": "python",
   "name": "python3"
  },
  "language_info": {
   "codemirror_mode": {
    "name": "ipython",
    "version": 3
   },
   "file_extension": ".py",
   "mimetype": "text/x-python",
   "name": "python",
   "nbconvert_exporter": "python",
   "pygments_lexer": "ipython3",
   "version": "3.9.12 (tags/v3.9.12:b28265d, Mar 23 2022, 23:52:46) [MSC v.1929 64 bit (AMD64)]"
  },
  "orig_nbformat": 4,
  "vscode": {
   "interpreter": {
    "hash": "c4b9ebf4ca459396e2ad1150752490c26670c1a037c08cad955a4425787bec2e"
   }
  }
 },
 "nbformat": 4,
 "nbformat_minor": 2
}
