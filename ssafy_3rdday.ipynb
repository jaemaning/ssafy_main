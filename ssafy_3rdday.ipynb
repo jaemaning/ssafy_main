{
 "cells": [
  {
   "attachments": {},
   "cell_type": "markdown",
   "metadata": {},
   "source": [
    "[링크](https://edu.ssafy.com/data/upload_files/crossUpload/openLrn/ebook/unzip/A2023011317501779700/index.html)\n",
    "\n",
    "- 시퀀스형 => 리스트, 튜플, 레인지\n",
    "- 비 시퀀스형 => 딕셔너리, 세트\n"
   ]
  },
  {
   "cell_type": "code",
   "execution_count": null,
   "metadata": {},
   "outputs": [],
   "source": [
    "a = 1\n",
    "b = 2\n",
    "\n",
    "a = b\n",
    "b = b - 1\n",
    "\n",
    "print(a)\n",
    "print(id(a))\n",
    "\n",
    "c = [1,2,3]\n",
    "d = c\n",
    "c.pop()\n",
    "\n",
    "print(d)\n",
    "print(id(c))\n",
    "print(id(d))\n",
    "\n",
    "e = [1,2,3]\n",
    "f = e[:]\n",
    "e.pop()\n",
    "\n",
    "print(f)\n",
    "print(id(e))\n",
    "print(id(f))\n",
    "\n",
    "# list 만 같은 램의 기억장치 id 를 복사한다. 자료 자체를 복사 x\n",
    "\n",
    "n = 3.2-3.1\n",
    "m = 1.2-1.1\n",
    "\n",
    "if n == m :\n",
    "    print(True, n, m)\n",
    "else :\n",
    "    print(False, n, m)\n",
    "\n",
    "if round(n,1) == round(m,1) :\n",
    "    print(True, round(n,1), round(m,1))\n",
    "else :\n",
    "    print(False, round(n,1), round(m,1))\n",
    "\n",
    "'''\n",
    "주석처리\n",
    "'''\n",
    "\n",
    "lang = '''\n",
    "주석이 아닌 string 자료형 \\r 캐리지리턴\n",
    "'''\n",
    "print(lang)\n",
    "\n",
    "americano = cookie = 2000\n",
    "print(id(americano)==id(cookie))\n",
    "americano = 2500\n",
    "print(id(americano)==id(cookie))\n",
    "\n",
    "x=10\n",
    "y=20\n",
    "print(id(x),id(y))\n",
    "\n",
    "x,y = y,x\n",
    "\n",
    "print(id(x),id(y))\n",
    "\n",
    "'''\n",
    "is 는 램에 저장된 id를 비교하고, == 는 값만을 비교\n",
    "'''\n",
    "\n",
    "print(1e-5<0.0000003)\n",
    "\n",
    "nlist = [1,2]\n",
    "mlist = [\"*\"*3]*3\n",
    "print(nlist+mlist)"
   ]
  },
  {
   "cell_type": "code",
   "execution_count": 4,
   "metadata": {},
   "outputs": [
    {
     "name": "stdout",
     "output_type": "stream",
     "text": [
      "5\n",
      "3\n",
      "0\n",
      "False\n"
     ]
    }
   ],
   "source": [
    "print(3 and 5)\n",
    "print(3 or 5)\n",
    "print(0 and False)\n",
    "print(False and 0)"
   ]
  },
  {
   "cell_type": "code",
   "execution_count": 8,
   "metadata": {},
   "outputs": [
    {
     "name": "stdout",
     "output_type": "stream",
     "text": [
      "[9, 10]\n"
     ]
    }
   ],
   "source": [
    "nlist = [1,2,3,4,5,6,7,8,9,10]\n",
    "print(nlist[-2:])"
   ]
  },
  {
   "attachments": {},
   "cell_type": "markdown",
   "metadata": {},
   "source": [
    "### tuple 자료형"
   ]
  },
  {
   "cell_type": "code",
   "execution_count": 16,
   "metadata": {},
   "outputs": [
    {
     "name": "stdout",
     "output_type": "stream",
     "text": [
      "<class 'tuple'> <class 'tuple'>\n"
     ]
    }
   ],
   "source": [
    "a = (1,)\n",
    "b = 2,\n",
    "print(type(a), type(b))"
   ]
  },
  {
   "attachments": {},
   "cell_type": "markdown",
   "metadata": {},
   "source": [
    "### range 자료형"
   ]
  },
  {
   "cell_type": "code",
   "execution_count": 25,
   "metadata": {},
   "outputs": [
    {
     "name": "stdout",
     "output_type": "stream",
     "text": [
      "<class 'list'>\n",
      "<class 'range'>\n",
      "3\n",
      "1\n"
     ]
    }
   ],
   "source": [
    "print(type(list(range(4))))\n",
    "print(type(range(4)))\n",
    "\n",
    "range_ = range(3)\n",
    "print(len(range_))\n",
    "print(range_[1])"
   ]
  },
  {
   "attachments": {},
   "cell_type": "markdown",
   "metadata": {},
   "source": [
    "### dictionary"
   ]
  },
  {
   "cell_type": "code",
   "execution_count": 39,
   "metadata": {},
   "outputs": [
    {
     "name": "stdout",
     "output_type": "stream",
     "text": [
      "apple\n",
      "{'a': 'apple', 'new': 1}\n"
     ]
    }
   ],
   "source": [
    "dict_a = {'a' : \"apple\"}\n",
    "dict_a['new'] = 1 # dict 에 추가하려면 get함수 안됨 \n",
    "print(dict_a.get('a'))\n",
    "print(dict_a)"
   ]
  },
  {
   "cell_type": "code",
   "execution_count": 41,
   "metadata": {},
   "outputs": [
    {
     "data": {
      "text/plain": [
       "4.5"
      ]
     },
     "execution_count": 41,
     "metadata": {},
     "output_type": "execute_result"
    }
   ],
   "source": [
    "float(\"3.5\") + 1 # int(\"3.5\") 불가능"
   ]
  },
  {
   "cell_type": "code",
   "execution_count": 47,
   "metadata": {},
   "outputs": [
    {
     "name": "stdout",
     "output_type": "stream",
     "text": [
      "['a', 'b', 'c']\n",
      "('a', 'b', 'c')\n",
      "{'c', 'a', 'b'}\n"
     ]
    }
   ],
   "source": [
    "my_dict = {\"a\" : \"AAA\", \"b\" : \"BBB\", \"c\" : \"CCC\"}\n",
    "my_list = list(my_dict)    # key 값만 가져감\n",
    "print(my_list)    \n",
    "my_tuple = tuple(my_dict)    # key 값만 가져감\n",
    "print(my_tuple)\n",
    "my_set = set(my_dict)    # key 값만 가져감\n",
    "print(my_set)"
   ]
  }
 ],
 "metadata": {
  "kernelspec": {
   "display_name": "Python 3",
   "language": "python",
   "name": "python3"
  },
  "language_info": {
   "codemirror_mode": {
    "name": "ipython",
    "version": 3
   },
   "file_extension": ".py",
   "mimetype": "text/x-python",
   "name": "python",
   "nbconvert_exporter": "python",
   "pygments_lexer": "ipython3",
   "version": "3.9.12 (tags/v3.9.12:b28265d, Mar 23 2022, 23:52:46) [MSC v.1929 64 bit (AMD64)]"
  },
  "orig_nbformat": 4,
  "vscode": {
   "interpreter": {
    "hash": "c4b9ebf4ca459396e2ad1150752490c26670c1a037c08cad955a4425787bec2e"
   }
  }
 },
 "nbformat": 4,
 "nbformat_minor": 2
}
